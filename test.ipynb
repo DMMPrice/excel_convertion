{
 "cells": [
  {
   "metadata": {
    "ExecuteTime": {
     "end_time": "2024-10-05T12:04:59.473147Z",
     "start_time": "2024-10-05T12:04:59.470140Z"
    }
   },
   "cell_type": "code",
   "source": [
    "import pandas as pd\n",
    "import numpy as np"
   ],
   "id": "99b942f9277a1fb2",
   "outputs": [],
   "execution_count": 3
  },
  {
   "metadata": {
    "ExecuteTime": {
     "end_time": "2024-10-05T12:06:21.189471Z",
     "start_time": "2024-10-05T12:06:12.242883Z"
    }
   },
   "cell_type": "code",
   "source": [
    "price_data = pd.read_excel('Data/Price (Forecast).xlsx')\n",
    "adani_power_bid_1 = pd.read_excel('Data/Inter State Gen Stations (Forecast)/Adani Power (Bid 1).xlsx')\n",
    "adani_power_bid_1"
   ],
   "id": "b5bcadb0f1ceeb29",
   "outputs": [
    {
     "data": {
      "text/plain": [
       "                 TimeStamp  Actual     Pred\n",
       "0      2021-04-01 00:00:00  1200.0  1284.00\n",
       "1      2021-04-01 00:15:00  1094.0  1115.88\n",
       "2      2021-04-01 00:30:00  1188.0  1259.28\n",
       "3      2021-04-01 00:45:00  1188.0  1081.08\n",
       "4      2021-04-01 01:00:00  1189.0  1105.77\n",
       "...                    ...     ...      ...\n",
       "210151 2027-03-31 22:45:00     NaN   961.46\n",
       "210152 2027-03-31 23:00:00     NaN   183.10\n",
       "210153 2027-03-31 23:15:00     NaN   176.81\n",
       "210154 2027-03-31 23:30:00     NaN   316.90\n",
       "210155 2027-03-31 23:45:00     NaN   995.90\n",
       "\n",
       "[210156 rows x 3 columns]"
      ],
      "text/html": [
       "<div>\n",
       "<style scoped>\n",
       "    .dataframe tbody tr th:only-of-type {\n",
       "        vertical-align: middle;\n",
       "    }\n",
       "\n",
       "    .dataframe tbody tr th {\n",
       "        vertical-align: top;\n",
       "    }\n",
       "\n",
       "    .dataframe thead th {\n",
       "        text-align: right;\n",
       "    }\n",
       "</style>\n",
       "<table border=\"1\" class=\"dataframe\">\n",
       "  <thead>\n",
       "    <tr style=\"text-align: right;\">\n",
       "      <th></th>\n",
       "      <th>TimeStamp</th>\n",
       "      <th>Actual</th>\n",
       "      <th>Pred</th>\n",
       "    </tr>\n",
       "  </thead>\n",
       "  <tbody>\n",
       "    <tr>\n",
       "      <th>0</th>\n",
       "      <td>2021-04-01 00:00:00</td>\n",
       "      <td>1200.0</td>\n",
       "      <td>1284.00</td>\n",
       "    </tr>\n",
       "    <tr>\n",
       "      <th>1</th>\n",
       "      <td>2021-04-01 00:15:00</td>\n",
       "      <td>1094.0</td>\n",
       "      <td>1115.88</td>\n",
       "    </tr>\n",
       "    <tr>\n",
       "      <th>2</th>\n",
       "      <td>2021-04-01 00:30:00</td>\n",
       "      <td>1188.0</td>\n",
       "      <td>1259.28</td>\n",
       "    </tr>\n",
       "    <tr>\n",
       "      <th>3</th>\n",
       "      <td>2021-04-01 00:45:00</td>\n",
       "      <td>1188.0</td>\n",
       "      <td>1081.08</td>\n",
       "    </tr>\n",
       "    <tr>\n",
       "      <th>4</th>\n",
       "      <td>2021-04-01 01:00:00</td>\n",
       "      <td>1189.0</td>\n",
       "      <td>1105.77</td>\n",
       "    </tr>\n",
       "    <tr>\n",
       "      <th>...</th>\n",
       "      <td>...</td>\n",
       "      <td>...</td>\n",
       "      <td>...</td>\n",
       "    </tr>\n",
       "    <tr>\n",
       "      <th>210151</th>\n",
       "      <td>2027-03-31 22:45:00</td>\n",
       "      <td>NaN</td>\n",
       "      <td>961.46</td>\n",
       "    </tr>\n",
       "    <tr>\n",
       "      <th>210152</th>\n",
       "      <td>2027-03-31 23:00:00</td>\n",
       "      <td>NaN</td>\n",
       "      <td>183.10</td>\n",
       "    </tr>\n",
       "    <tr>\n",
       "      <th>210153</th>\n",
       "      <td>2027-03-31 23:15:00</td>\n",
       "      <td>NaN</td>\n",
       "      <td>176.81</td>\n",
       "    </tr>\n",
       "    <tr>\n",
       "      <th>210154</th>\n",
       "      <td>2027-03-31 23:30:00</td>\n",
       "      <td>NaN</td>\n",
       "      <td>316.90</td>\n",
       "    </tr>\n",
       "    <tr>\n",
       "      <th>210155</th>\n",
       "      <td>2027-03-31 23:45:00</td>\n",
       "      <td>NaN</td>\n",
       "      <td>995.90</td>\n",
       "    </tr>\n",
       "  </tbody>\n",
       "</table>\n",
       "<p>210156 rows × 3 columns</p>\n",
       "</div>"
      ]
     },
     "execution_count": 6,
     "metadata": {},
     "output_type": "execute_result"
    }
   ],
   "execution_count": 6
  },
  {
   "metadata": {
    "ExecuteTime": {
     "end_time": "2024-10-05T12:07:03.095634Z",
     "start_time": "2024-10-05T12:07:03.075670Z"
    }
   },
   "cell_type": "code",
   "source": [
    "# Merge the data with price data\n",
    "adani_power_bid_1 = adani_power_bid_1.merge(price_data, on='TimeStamp')\n",
    "adani_power_bid_1"
   ],
   "id": "e7824006a49db507",
   "outputs": [
    {
     "data": {
      "text/plain": [
       "                 TimeStamp  Actual     Pred  Price (Rs/ KWh)  \\\n",
       "0      2021-04-01 00:00:00  1200.0  1284.00          3.93851   \n",
       "1      2021-04-01 00:15:00  1094.0  1115.88          3.92938   \n",
       "2      2021-04-01 00:30:00  1188.0  1259.28          3.46992   \n",
       "3      2021-04-01 00:45:00  1188.0  1081.08          3.46979   \n",
       "4      2021-04-01 01:00:00  1189.0  1105.77          3.39897   \n",
       "...                    ...     ...      ...              ...   \n",
       "210151 2027-03-31 22:45:00     NaN   961.46              NaN   \n",
       "210152 2027-03-31 23:00:00     NaN   183.10              NaN   \n",
       "210153 2027-03-31 23:15:00     NaN   176.81              NaN   \n",
       "210154 2027-03-31 23:30:00     NaN   316.90              NaN   \n",
       "210155 2027-03-31 23:45:00     NaN   995.90              NaN   \n",
       "\n",
       "        Pred Price(Rs/ KWh)  \n",
       "0                      3.90  \n",
       "1                      4.09  \n",
       "2                      3.54  \n",
       "3                      3.40  \n",
       "4                      3.47  \n",
       "...                     ...  \n",
       "210151                 3.80  \n",
       "210152                 4.03  \n",
       "210153                 4.33  \n",
       "210154                 4.07  \n",
       "210155                 3.71  \n",
       "\n",
       "[210156 rows x 5 columns]"
      ],
      "text/html": [
       "<div>\n",
       "<style scoped>\n",
       "    .dataframe tbody tr th:only-of-type {\n",
       "        vertical-align: middle;\n",
       "    }\n",
       "\n",
       "    .dataframe tbody tr th {\n",
       "        vertical-align: top;\n",
       "    }\n",
       "\n",
       "    .dataframe thead th {\n",
       "        text-align: right;\n",
       "    }\n",
       "</style>\n",
       "<table border=\"1\" class=\"dataframe\">\n",
       "  <thead>\n",
       "    <tr style=\"text-align: right;\">\n",
       "      <th></th>\n",
       "      <th>TimeStamp</th>\n",
       "      <th>Actual</th>\n",
       "      <th>Pred</th>\n",
       "      <th>Price (Rs/ KWh)</th>\n",
       "      <th>Pred Price(Rs/ KWh)</th>\n",
       "    </tr>\n",
       "  </thead>\n",
       "  <tbody>\n",
       "    <tr>\n",
       "      <th>0</th>\n",
       "      <td>2021-04-01 00:00:00</td>\n",
       "      <td>1200.0</td>\n",
       "      <td>1284.00</td>\n",
       "      <td>3.93851</td>\n",
       "      <td>3.90</td>\n",
       "    </tr>\n",
       "    <tr>\n",
       "      <th>1</th>\n",
       "      <td>2021-04-01 00:15:00</td>\n",
       "      <td>1094.0</td>\n",
       "      <td>1115.88</td>\n",
       "      <td>3.92938</td>\n",
       "      <td>4.09</td>\n",
       "    </tr>\n",
       "    <tr>\n",
       "      <th>2</th>\n",
       "      <td>2021-04-01 00:30:00</td>\n",
       "      <td>1188.0</td>\n",
       "      <td>1259.28</td>\n",
       "      <td>3.46992</td>\n",
       "      <td>3.54</td>\n",
       "    </tr>\n",
       "    <tr>\n",
       "      <th>3</th>\n",
       "      <td>2021-04-01 00:45:00</td>\n",
       "      <td>1188.0</td>\n",
       "      <td>1081.08</td>\n",
       "      <td>3.46979</td>\n",
       "      <td>3.40</td>\n",
       "    </tr>\n",
       "    <tr>\n",
       "      <th>4</th>\n",
       "      <td>2021-04-01 01:00:00</td>\n",
       "      <td>1189.0</td>\n",
       "      <td>1105.77</td>\n",
       "      <td>3.39897</td>\n",
       "      <td>3.47</td>\n",
       "    </tr>\n",
       "    <tr>\n",
       "      <th>...</th>\n",
       "      <td>...</td>\n",
       "      <td>...</td>\n",
       "      <td>...</td>\n",
       "      <td>...</td>\n",
       "      <td>...</td>\n",
       "    </tr>\n",
       "    <tr>\n",
       "      <th>210151</th>\n",
       "      <td>2027-03-31 22:45:00</td>\n",
       "      <td>NaN</td>\n",
       "      <td>961.46</td>\n",
       "      <td>NaN</td>\n",
       "      <td>3.80</td>\n",
       "    </tr>\n",
       "    <tr>\n",
       "      <th>210152</th>\n",
       "      <td>2027-03-31 23:00:00</td>\n",
       "      <td>NaN</td>\n",
       "      <td>183.10</td>\n",
       "      <td>NaN</td>\n",
       "      <td>4.03</td>\n",
       "    </tr>\n",
       "    <tr>\n",
       "      <th>210153</th>\n",
       "      <td>2027-03-31 23:15:00</td>\n",
       "      <td>NaN</td>\n",
       "      <td>176.81</td>\n",
       "      <td>NaN</td>\n",
       "      <td>4.33</td>\n",
       "    </tr>\n",
       "    <tr>\n",
       "      <th>210154</th>\n",
       "      <td>2027-03-31 23:30:00</td>\n",
       "      <td>NaN</td>\n",
       "      <td>316.90</td>\n",
       "      <td>NaN</td>\n",
       "      <td>4.07</td>\n",
       "    </tr>\n",
       "    <tr>\n",
       "      <th>210155</th>\n",
       "      <td>2027-03-31 23:45:00</td>\n",
       "      <td>NaN</td>\n",
       "      <td>995.90</td>\n",
       "      <td>NaN</td>\n",
       "      <td>3.71</td>\n",
       "    </tr>\n",
       "  </tbody>\n",
       "</table>\n",
       "<p>210156 rows × 5 columns</p>\n",
       "</div>"
      ]
     },
     "execution_count": 7,
     "metadata": {},
     "output_type": "execute_result"
    }
   ],
   "execution_count": 7
  },
  {
   "metadata": {
    "ExecuteTime": {
     "end_time": "2024-10-05T12:11:05.137015Z",
     "start_time": "2024-10-05T12:11:04.563996Z"
    }
   },
   "cell_type": "code",
   "source": [
    "adani_power_bid_1.fillna(0, inplace=True)\n",
    "adani_power_bid_1.isnull().sum()\n",
    "adani_power_bid_1.to_csv('New Data/Intra-State/adani_power_bid_1.csv', index=False)"
   ],
   "id": "5dc9f17090c42eb4",
   "outputs": [],
   "execution_count": 8
  },
  {
   "metadata": {
    "ExecuteTime": {
     "end_time": "2024-10-05T12:13:25.687764Z",
     "start_time": "2024-10-05T12:13:21.042456Z"
    }
   },
   "cell_type": "code",
   "source": [
    "adani_power_bid_2 = pd.read_excel('Data/Inter State Gen Stations (Forecast)/Adani Power (Bid 2).xlsx')\n",
    "adani_power_bid_2 = adani_power_bid_2.merge(price_data, on='TimeStamp')"
   ],
   "id": "1a36274169fe611c",
   "outputs": [],
   "execution_count": 9
  },
  {
   "metadata": {
    "ExecuteTime": {
     "end_time": "2024-10-05T12:13:27.585190Z",
     "start_time": "2024-10-05T12:13:26.972818Z"
    }
   },
   "cell_type": "code",
   "source": [
    "adani_power_bid_2.fillna(0, inplace=True)\n",
    "adani_power_bid_2.isnull().sum()\n",
    "adani_power_bid_2.to_csv('New Data/Inter-State/adani_power_bid_2.csv', index=False)"
   ],
   "id": "4acd465bb9e9c3d4",
   "outputs": [],
   "execution_count": 10
  },
  {
   "metadata": {
    "ExecuteTime": {
     "end_time": "2024-10-05T13:48:10.561964Z",
     "start_time": "2024-10-05T13:48:05.042284Z"
    }
   },
   "cell_type": "code",
   "source": [
    "dadri = pd.read_excel('Data/Inter State Gen Stations (Forecast)/Dadri.xlsx')\n",
    "dadri = dadri.merge(price_data, on='TimeStamp')\n",
    "dadri.fillna(0, inplace=True)\n",
    "dadri.to_csv('New Data/Inter-State/dadri.csv', index=False)\n",
    "dadri.isnull().sum()"
   ],
   "id": "d34c4d70134d1e57",
   "outputs": [
    {
     "data": {
      "text/plain": [
       "TimeStamp              0\n",
       "Actual                 0\n",
       "Pred                   0\n",
       "Price (Rs/ KWh)        0\n",
       "Pred Price(Rs/ KWh)    0\n",
       "dtype: int64"
      ]
     },
     "execution_count": 11,
     "metadata": {},
     "output_type": "execute_result"
    }
   ],
   "execution_count": 11
  },
  {
   "metadata": {
    "ExecuteTime": {
     "end_time": "2024-10-05T13:50:31.621607Z",
     "start_time": "2024-10-05T13:50:26.314363Z"
    }
   },
   "cell_type": "code",
   "source": [
    "darlipalli = pd.read_excel('Data/Inter State Gen Stations (Forecast)/Darlipalli.xlsx')\n",
    "darlipalli = darlipalli.merge(price_data, on='TimeStamp')\n",
    "darlipalli.fillna(0, inplace=True)\n",
    "darlipalli.to_csv('New Data/Inter-State/darlipalli.csv', index=False)\n",
    "darlipalli.isnull().sum()"
   ],
   "id": "d213714133eea384",
   "outputs": [
    {
     "data": {
      "text/plain": [
       "TimeStamp              0\n",
       "Actual                 0\n",
       "Pred                   0\n",
       "Price (Rs/ KWh)        0\n",
       "Pred Price(Rs/ KWh)    0\n",
       "dtype: int64"
      ]
     },
     "execution_count": 12,
     "metadata": {},
     "output_type": "execute_result"
    }
   ],
   "execution_count": 12
  },
  {
   "metadata": {
    "ExecuteTime": {
     "end_time": "2024-10-05T13:52:31.658700Z",
     "start_time": "2024-10-05T13:52:26.545176Z"
    }
   },
   "cell_type": "code",
   "source": [
    "farakka_1 = pd.read_excel('Data/Inter State Gen Stations (Forecast)/Farakka1.xlsx')\n",
    "farakka_1 = farakka_1.merge(price_data, on='TimeStamp')\n",
    "farakka_1.fillna(0, inplace=True)\n",
    "farakka_1.to_csv('New Data/Inter-State/farakka_1.csv', index=False)\n",
    "farakka_1.isnull().sum()"
   ],
   "id": "efb988f31b0fc32",
   "outputs": [
    {
     "data": {
      "text/plain": [
       "TimeStamp              0\n",
       "Actual                 0\n",
       "Pred                   0\n",
       "Price (Rs/ KWh)        0\n",
       "Pred Price(Rs/ KWh)    0\n",
       "dtype: int64"
      ]
     },
     "execution_count": 13,
     "metadata": {},
     "output_type": "execute_result"
    }
   ],
   "execution_count": 13
  },
  {
   "metadata": {
    "ExecuteTime": {
     "end_time": "2024-10-05T13:53:14.525654Z",
     "start_time": "2024-10-05T13:53:09.217106Z"
    }
   },
   "cell_type": "code",
   "source": [
    "farakka_3 = pd.read_excel('Data/Inter State Gen Stations (Forecast)/Farakka3.xlsx')\n",
    "farakka_3 = farakka_1.merge(price_data, on='TimeStamp')\n",
    "farakka_3.fillna(0, inplace=True)\n",
    "farakka_3.to_csv('New Data/Inter-State/farakka_3.csv', index=False)\n",
    "farakka_3.isnull().sum()"
   ],
   "id": "bde4b2e861a42e82",
   "outputs": [
    {
     "data": {
      "text/plain": [
       "TimeStamp                0\n",
       "Actual                   0\n",
       "Pred                     0\n",
       "Price (Rs/ KWh)_x        0\n",
       "Pred Price(Rs/ KWh)_x    0\n",
       "Price (Rs/ KWh)_y        0\n",
       "Pred Price(Rs/ KWh)_y    0\n",
       "dtype: int64"
      ]
     },
     "execution_count": 14,
     "metadata": {},
     "output_type": "execute_result"
    }
   ],
   "execution_count": 14
  },
  {
   "metadata": {
    "ExecuteTime": {
     "end_time": "2024-10-05T13:58:36.360933Z",
     "start_time": "2024-10-05T13:58:31.090620Z"
    }
   },
   "cell_type": "code",
   "source": [
    "gadarwara = pd.read_excel('Data/Inter State Gen Stations (Forecast)/Gadarwara.xlsx')\n",
    "gadarwara = gadarwara.merge(price_data, on='TimeStamp')\n",
    "gadarwara.fillna(0, inplace=True)\n",
    "gadarwara.to_csv('New Data/Inter-State/gadarwara.csv', index=False)\n",
    "gadarwara.isnull().sum()"
   ],
   "id": "12b8c43811d9cea7",
   "outputs": [
    {
     "data": {
      "text/plain": [
       "TimeStamp              0\n",
       "Actual                 0\n",
       "Pred                   0\n",
       "Price (Rs/ KWh)        0\n",
       "Pred Price(Rs/ KWh)    0\n",
       "dtype: int64"
      ]
     },
     "execution_count": 15,
     "metadata": {},
     "output_type": "execute_result"
    }
   ],
   "execution_count": 15
  },
  {
   "metadata": {
    "ExecuteTime": {
     "end_time": "2024-10-05T14:00:03.932064Z",
     "start_time": "2024-10-05T13:59:58.409516Z"
    }
   },
   "cell_type": "code",
   "source": [
    "jhanor = pd.read_excel('Data/Inter State Gen Stations (Forecast)/Jhanor.xlsx')\n",
    "jhanor = jhanor.merge(price_data, on='TimeStamp')\n",
    "jhanor.fillna(0, inplace=True)\n",
    "jhanor.to_csv('New Data/Inter-State/jhanor.csv', index=False)\n",
    "jhanor.isnull().sum()"
   ],
   "id": "5834cf492a9a53a5",
   "outputs": [
    {
     "data": {
      "text/plain": [
       "TimeStamp              0\n",
       "Actual                 0\n",
       "Pred                   0\n",
       "Price (Rs/ KWh)        0\n",
       "Pred Price(Rs/ KWh)    0\n",
       "dtype: int64"
      ]
     },
     "execution_count": 16,
     "metadata": {},
     "output_type": "execute_result"
    }
   ],
   "execution_count": 16
  },
  {
   "metadata": {
    "ExecuteTime": {
     "end_time": "2024-10-05T14:01:25.799331Z",
     "start_time": "2024-10-05T14:01:20.214521Z"
    }
   },
   "cell_type": "code",
   "source": [
    "kahlagaon_kahalgaon_1 = pd.read_excel('Data/Inter State Gen Stations (Forecast)/Kahlagaon & Kahalgaon1.xlsx')\n",
    "kahlagaon_kahalgaon_1 = kahlagaon_kahalgaon_1.merge(price_data, on='TimeStamp')\n",
    "kahlagaon_kahalgaon_1.fillna(0, inplace=True)\n",
    "kahlagaon_kahalgaon_1.to_csv('New Data/Inter-State/kahlagaon_kahalgaon_1.csv', index=False)\n",
    "kahlagaon_kahalgaon_1.isnull().sum()"
   ],
   "id": "fcad74e32b6789e9",
   "outputs": [
    {
     "data": {
      "text/plain": [
       "TimeStamp              0\n",
       "Actual                 0\n",
       "Pred                   0\n",
       "Price (Rs/ KWh)        0\n",
       "Pred Price(Rs/ KWh)    0\n",
       "dtype: int64"
      ]
     },
     "execution_count": 17,
     "metadata": {},
     "output_type": "execute_result"
    }
   ],
   "execution_count": 17
  },
  {
   "metadata": {
    "ExecuteTime": {
     "end_time": "2024-10-05T14:02:08.690881Z",
     "start_time": "2024-10-05T14:02:03.233566Z"
    }
   },
   "cell_type": "code",
   "source": [
    "kakrapar_3_4 = pd.read_excel('Data/Inter State Gen Stations (Forecast)/Kakrapar 3&4.xlsx')\n",
    "kakrapar_3_4 = kakrapar_3_4.merge(price_data, on='TimeStamp')\n",
    "kakrapar_3_4.fillna(0, inplace=True)\n",
    "kakrapar_3_4.to_csv('New Data/Inter-State/kakrapar_3_4.csv', index=False)\n",
    "kakrapar_3_4.isnull().sum()"
   ],
   "id": "243150f7f2c17e90",
   "outputs": [
    {
     "data": {
      "text/plain": [
       "TimeStamp              0\n",
       "Actual                 0\n",
       "Pred                   0\n",
       "Price (Rs/ KWh)        0\n",
       "Pred Price(Rs/ KWh)    0\n",
       "dtype: int64"
      ]
     },
     "execution_count": 18,
     "metadata": {},
     "output_type": "execute_result"
    }
   ],
   "execution_count": 18
  },
  {
   "metadata": {
    "ExecuteTime": {
     "end_time": "2024-10-05T14:02:45.529872Z",
     "start_time": "2024-10-05T14:02:39.908636Z"
    }
   },
   "cell_type": "code",
   "source": [
    "kawas = pd.read_excel('Data/Inter State Gen Stations (Forecast)/Kawas.xlsx')\n",
    "kawas = kawas.merge(price_data, on='TimeStamp')\n",
    "kawas.fillna(0, inplace=True)\n",
    "kawas.to_csv('New Data/Inter-State/kawas.csv', index=False)\n",
    "kawas.isnull().sum()"
   ],
   "id": "49b39317cb5f5618",
   "outputs": [
    {
     "data": {
      "text/plain": [
       "TimeStamp              0\n",
       "Actual                 0\n",
       "Pred                   0\n",
       "Price (Rs/ KWh)        0\n",
       "Pred Price(Rs/ KWh)    0\n",
       "dtype: int64"
      ]
     },
     "execution_count": 19,
     "metadata": {},
     "output_type": "execute_result"
    }
   ],
   "execution_count": 19
  },
  {
   "metadata": {
    "ExecuteTime": {
     "end_time": "2024-10-05T14:03:24.461593Z",
     "start_time": "2024-10-05T14:03:18.973024Z"
    }
   },
   "cell_type": "code",
   "source": [
    "khargone = pd.read_excel('Data/Inter State Gen Stations (Forecast)/Khargone.xlsx')\n",
    "khargone = khargone.merge(price_data, on='TimeStamp')\n",
    "khargone.fillna(0, inplace=True)\n",
    "khargone.to_csv('New Data/Inter-State/khargone.csv', index=False)\n",
    "khargone.isnull().sum()"
   ],
   "id": "b1aa39e04256e47a",
   "outputs": [
    {
     "data": {
      "text/plain": [
       "TimeStamp              0\n",
       "Actual                 0\n",
       "Pred                   0\n",
       "Price (Rs/ KWh)        0\n",
       "Pred Price(Rs/ KWh)    0\n",
       "dtype: int64"
      ]
     },
     "execution_count": 20,
     "metadata": {},
     "output_type": "execute_result"
    }
   ],
   "execution_count": 20
  },
  {
   "metadata": {
    "ExecuteTime": {
     "end_time": "2024-10-05T14:04:55.888295Z",
     "start_time": "2024-10-05T14:04:50.136798Z"
    }
   },
   "cell_type": "code",
   "source": [
    "korba_1 = pd.read_excel('Data/Inter State Gen Stations (Forecast)/Korba1.xlsx')\n",
    "korba_1 = korba_1.merge(price_data, on='TimeStamp')\n",
    "korba_1.fillna(0, inplace=True)\n",
    "korba_1.to_csv('New Data/Inter-State/korba_1.csv', index=False)\n",
    "korba_1.isnull().sum()"
   ],
   "id": "a003c1227304c997",
   "outputs": [
    {
     "data": {
      "text/plain": [
       "TimeStamp              0\n",
       "Actual                 0\n",
       "Pred                   0\n",
       "Price (Rs/ KWh)        0\n",
       "Pred Price(Rs/ KWh)    0\n",
       "dtype: int64"
      ]
     },
     "execution_count": 21,
     "metadata": {},
     "output_type": "execute_result"
    }
   ],
   "execution_count": 21
  },
  {
   "metadata": {
    "ExecuteTime": {
     "end_time": "2024-10-05T14:05:44.012562Z",
     "start_time": "2024-10-05T14:05:38.236789Z"
    }
   },
   "cell_type": "code",
   "source": [
    "korba_2 = pd.read_excel('Data/Inter State Gen Stations (Forecast)/Korba2.xlsx')\n",
    "korba_2 = korba_2.merge(price_data, on='TimeStamp')\n",
    "korba_2.fillna(0, inplace=True)\n",
    "korba_2.to_csv('New Data/Inter-State/korba_2.csv', index=False)\n",
    "korba_2.isnull().sum()"
   ],
   "id": "e4ad8c05e2b60df8",
   "outputs": [
    {
     "data": {
      "text/plain": [
       "TimeStamp              0\n",
       "Actual                 0\n",
       "Pred                   0\n",
       "Price (Rs/ KWh)        0\n",
       "Pred Price(Rs/ KWh)    0\n",
       "dtype: int64"
      ]
     },
     "execution_count": 22,
     "metadata": {},
     "output_type": "execute_result"
    }
   ],
   "execution_count": 22
  },
  {
   "metadata": {
    "ExecuteTime": {
     "end_time": "2024-10-05T14:06:24.431055Z",
     "start_time": "2024-10-05T14:06:16.825701Z"
    }
   },
   "cell_type": "code",
   "source": [
    "lara = pd.read_excel('Data/Inter State Gen Stations (Forecast)/Lara.xlsx')\n",
    "lara = korba_2.merge(price_data, on='TimeStamp')\n",
    "lara.fillna(0, inplace=True)\n",
    "lara.to_csv('New Data/Inter-State/lara.csv', index=False)\n",
    "lara.isnull().sum()"
   ],
   "id": "67fe205f542e94aa",
   "outputs": [
    {
     "data": {
      "text/plain": [
       "TimeStamp                0\n",
       "Actual                   0\n",
       "Pred                     0\n",
       "Price (Rs/ KWh)_x        0\n",
       "Pred Price(Rs/ KWh)_x    0\n",
       "Price (Rs/ KWh)_y        0\n",
       "Pred Price(Rs/ KWh)_y    0\n",
       "dtype: int64"
      ]
     },
     "execution_count": 23,
     "metadata": {},
     "output_type": "execute_result"
    }
   ],
   "execution_count": 23
  },
  {
   "metadata": {
    "ExecuteTime": {
     "end_time": "2024-10-05T14:07:37.911570Z",
     "start_time": "2024-10-05T14:07:32.452200Z"
    }
   },
   "cell_type": "code",
   "source": [
    "mauda = pd.read_excel('Data/Inter State Gen Stations (Forecast)/Mauda.xlsx')\n",
    "mauda = mauda.merge(price_data, on='TimeStamp')\n",
    "mauda.fillna(0, inplace=True)\n",
    "mauda.to_csv('New Data/Inter-State/mauda.csv', index=False)\n",
    "mauda.isnull().sum()"
   ],
   "id": "b08bd6f765b106ad",
   "outputs": [
    {
     "data": {
      "text/plain": [
       "TimeStamp              0\n",
       "Actual                 0\n",
       "Pred                   0\n",
       "Price (Rs/ KWh)        0\n",
       "Pred Price(Rs/ KWh)    0\n",
       "dtype: int64"
      ]
     },
     "execution_count": 24,
     "metadata": {},
     "output_type": "execute_result"
    }
   ],
   "execution_count": 24
  },
  {
   "metadata": {
    "ExecuteTime": {
     "end_time": "2024-10-05T14:08:14.996608Z",
     "start_time": "2024-10-05T14:08:09.284327Z"
    }
   },
   "cell_type": "code",
   "source": [
    "mauda_2 = pd.read_excel('Data/Inter State Gen Stations (Forecast)/Mauda2.xlsx')\n",
    "mauda_2 = mauda_2.merge(price_data, on='TimeStamp')\n",
    "mauda_2.fillna(0, inplace=True)\n",
    "mauda_2.to_csv('New Data/Inter-State/mauda_2.csv', index=False)\n",
    "mauda_2.isnull().sum()"
   ],
   "id": "c3a8595062fd5f42",
   "outputs": [
    {
     "data": {
      "text/plain": [
       "TimeStamp              0\n",
       "Actual                 0\n",
       "Pred                   0\n",
       "Price (Rs/ KWh)        0\n",
       "Pred Price(Rs/ KWh)    0\n",
       "dtype: int64"
      ]
     },
     "execution_count": 25,
     "metadata": {},
     "output_type": "execute_result"
    }
   ],
   "execution_count": 25
  },
  {
   "metadata": {
    "ExecuteTime": {
     "end_time": "2024-10-05T14:09:50.178881Z",
     "start_time": "2024-10-05T14:09:44.425902Z"
    }
   },
   "cell_type": "code",
   "source": [
    "sipat_1 = pd.read_excel('Data/Inter State Gen Stations (Forecast)/Sipat1.xlsx')\n",
    "sipat_1 = sipat_1.merge(price_data, on='TimeStamp')\n",
    "sipat_1.fillna(0, inplace=True)\n",
    "sipat_1.to_csv('New Data/Inter-State/sipat_1.csv', index=False)\n",
    "sipat_1.isnull().sum()"
   ],
   "id": "85b7b9c8e9fa45d7",
   "outputs": [
    {
     "data": {
      "text/plain": [
       "TimeStamp              0\n",
       "Actual                 0\n",
       "Pred                   0\n",
       "Price (Rs/ KWh)        0\n",
       "Pred Price(Rs/ KWh)    0\n",
       "dtype: int64"
      ]
     },
     "execution_count": 26,
     "metadata": {},
     "output_type": "execute_result"
    }
   ],
   "execution_count": 26
  },
  {
   "metadata": {
    "ExecuteTime": {
     "end_time": "2024-10-05T14:10:12.519969Z",
     "start_time": "2024-10-05T14:10:06.554735Z"
    }
   },
   "cell_type": "code",
   "source": [
    "sipat_2 = pd.read_excel('Data/Inter State Gen Stations (Forecast)/Sipat2.xlsx')\n",
    "sipat_2 = sipat_2.merge(price_data, on='TimeStamp')\n",
    "sipat_2.fillna(0, inplace=True)\n",
    "sipat_2.to_csv('New Data/Inter-State/sipat_2.csv', index=False)\n",
    "sipat_2.isnull().sum()"
   ],
   "id": "e7953db0ed2dcab6",
   "outputs": [
    {
     "data": {
      "text/plain": [
       "TimeStamp              0\n",
       "Actual                 0\n",
       "Pred                   0\n",
       "Price (Rs/ KWh)        0\n",
       "Pred Price(Rs/ KWh)    0\n",
       "dtype: int64"
      ]
     },
     "execution_count": 27,
     "metadata": {},
     "output_type": "execute_result"
    }
   ],
   "execution_count": 27
  },
  {
   "metadata": {
    "ExecuteTime": {
     "end_time": "2024-10-05T14:10:47.412894Z",
     "start_time": "2024-10-05T14:10:41.688674Z"
    }
   },
   "cell_type": "code",
   "source": [
    "solapur = pd.read_excel('Data/Inter State Gen Stations (Forecast)/Solapur.xlsx')\n",
    "solapur = solapur.merge(price_data, on='TimeStamp')\n",
    "solapur.fillna(0, inplace=True)\n",
    "solapur.to_csv('New Data/Inter-State/solapur.csv', index=False)\n",
    "solapur.isnull().sum()"
   ],
   "id": "4f4be980a08531ff",
   "outputs": [
    {
     "data": {
      "text/plain": [
       "TimeStamp              0\n",
       "Actual                 0\n",
       "Pred                   0\n",
       "Price (Rs/ KWh)        0\n",
       "Pred Price(Rs/ KWh)    0\n",
       "dtype: int64"
      ]
     },
     "execution_count": 28,
     "metadata": {},
     "output_type": "execute_result"
    }
   ],
   "execution_count": 28
  },
  {
   "metadata": {
    "ExecuteTime": {
     "end_time": "2024-10-05T14:11:45.640736Z",
     "start_time": "2024-10-05T14:11:39.772115Z"
    }
   },
   "cell_type": "code",
   "source": [
    "ssnnl = pd.read_excel('Data/Inter State Gen Stations (Forecast)/SSNNL.xlsx')\n",
    "ssnnl = ssnnl.merge(price_data, on='TimeStamp')\n",
    "ssnnl.fillna(0, inplace=True)\n",
    "ssnnl.to_csv('New Data/Inter-State/ssnnl.csv', index=False)\n",
    "ssnnl.isnull().sum()"
   ],
   "id": "72c679c8a80377b3",
   "outputs": [
    {
     "data": {
      "text/plain": [
       "TimeStamp              0\n",
       "Actual                 0\n",
       "Pred                   0\n",
       "Price (Rs/ KWh)        0\n",
       "Pred Price(Rs/ KWh)    0\n",
       "dtype: int64"
      ]
     },
     "execution_count": 29,
     "metadata": {},
     "output_type": "execute_result"
    }
   ],
   "execution_count": 29
  },
  {
   "metadata": {
    "ExecuteTime": {
     "end_time": "2024-10-05T14:12:26.602666Z",
     "start_time": "2024-10-05T14:12:20.710449Z"
    }
   },
   "cell_type": "code",
   "source": [
    "talcher = pd.read_excel('Data/Inter State Gen Stations (Forecast)/Talcher.xlsx')\n",
    "talcher = talcher.merge(price_data, on='TimeStamp')\n",
    "talcher.fillna(0, inplace=True)\n",
    "talcher.to_csv('New Data/Inter-State/talcher.csv', index=False)\n",
    "talcher.isnull().sum()"
   ],
   "id": "7d68c14cd1d2f20",
   "outputs": [
    {
     "data": {
      "text/plain": [
       "TimeStamp              0\n",
       "Actual                 0\n",
       "Pred                   0\n",
       "Price (Rs/ KWh)        0\n",
       "Pred Price(Rs/ KWh)    0\n",
       "dtype: int64"
      ]
     },
     "execution_count": 30,
     "metadata": {},
     "output_type": "execute_result"
    }
   ],
   "execution_count": 30
  },
  {
   "metadata": {
    "ExecuteTime": {
     "end_time": "2024-10-05T14:13:06.764596Z",
     "start_time": "2024-10-05T14:13:01.198792Z"
    }
   },
   "cell_type": "code",
   "source": [
    "tanda_2 = pd.read_excel('Data/Inter State Gen Stations (Forecast)/Tanda2.xlsx')\n",
    "tanda_2 = tanda_2.merge(price_data, on='TimeStamp')\n",
    "tanda_2.fillna(0, inplace=True)\n",
    "tanda_2.to_csv('New Data/Inter-State/tanda_2.csv', index=False)\n",
    "tanda_2.isnull().sum()"
   ],
   "id": "df6be3da72980bbf",
   "outputs": [
    {
     "data": {
      "text/plain": [
       "TimeStamp              0\n",
       "Actual                 0\n",
       "Pred                   0\n",
       "Price (Rs/ KWh)        0\n",
       "Pred Price(Rs/ KWh)    0\n",
       "dtype: int64"
      ]
     },
     "execution_count": 32,
     "metadata": {},
     "output_type": "execute_result"
    }
   ],
   "execution_count": 32
  },
  {
   "metadata": {
    "ExecuteTime": {
     "end_time": "2024-10-05T14:14:33.099252Z",
     "start_time": "2024-10-05T14:14:26.721813Z"
    }
   },
   "cell_type": "code",
   "source": [
    "tarapur_3_4 = pd.read_excel('Data/Inter State Gen Stations (Forecast)/Tarapur 3&4.xlsx')\n",
    "tarapur_3_4 = tarapur_3_4.merge(price_data, on='TimeStamp')\n",
    "tarapur_3_4.fillna(0, inplace=True)\n",
    "tarapur_3_4.to_csv('New Data/Inter-State/tarapur_3_4.csv', index=False)\n",
    "tarapur_3_4.isnull().sum()"
   ],
   "id": "e2af41b9573c7112",
   "outputs": [
    {
     "data": {
      "text/plain": [
       "TimeStamp              0\n",
       "Actual                 0\n",
       "pred                   0\n",
       "Price (Rs/ KWh)        0\n",
       "Pred Price(Rs/ KWh)    0\n",
       "dtype: int64"
      ]
     },
     "execution_count": 33,
     "metadata": {},
     "output_type": "execute_result"
    }
   ],
   "execution_count": 33
  },
  {
   "metadata": {
    "ExecuteTime": {
     "end_time": "2024-10-05T14:28:22.730511Z",
     "start_time": "2024-10-05T14:28:16.768240Z"
    }
   },
   "cell_type": "code",
   "source": [
    "unchahar_1 = pd.read_excel('Data/Inter State Gen Stations (Forecast)/Unchahar1.xlsx')\n",
    "unchahar_1 = unchahar_1.merge(price_data, on='TimeStamp')\n",
    "unchahar_1.fillna(0, inplace=True)\n",
    "unchahar_1.to_csv('New Data/Inter-State/unchahar_1.csv', index=False)\n",
    "unchahar_1.isnull().sum()"
   ],
   "id": "359e46c313002259",
   "outputs": [
    {
     "data": {
      "text/plain": [
       "TimeStamp              0\n",
       "Actual                 0\n",
       "Pred                   0\n",
       "Price (Rs/ KWh)        0\n",
       "Pred Price(Rs/ KWh)    0\n",
       "dtype: int64"
      ]
     },
     "execution_count": 34,
     "metadata": {},
     "output_type": "execute_result"
    }
   ],
   "execution_count": 34
  },
  {
   "metadata": {
    "ExecuteTime": {
     "end_time": "2024-10-05T14:36:28.204756Z",
     "start_time": "2024-10-05T14:36:20.707945Z"
    }
   },
   "cell_type": "code",
   "source": [
    "vidyanchal_1 = pd.read_excel('Data/Inter State Gen Stations (Forecast)/Vidyanchal1.xlsx')\n",
    "# vidyanchal_1 = vidyanchal_1.merge(price_data, on='TimeStamp')\n",
    "vidyanchal_1.fillna(0, inplace=True)\n",
    "vidyanchal_1.to_csv('New Data/Inter-State/vidyanchal_1.csv', index=False)\n",
    "vidyanchal_1.isnull().sum()"
   ],
   "id": "d65ab6c6e741adb",
   "outputs": [
    {
     "name": "stderr",
     "output_type": "stream",
     "text": [
      "C:\\Users\\ghosh\\AppData\\Local\\Temp\\ipykernel_37492\\3875923298.py:3: FutureWarning: Setting an item of incompatible dtype is deprecated and will raise an error in a future version of pandas. Value '0' has dtype incompatible with datetime64[ns], please explicitly cast to a compatible dtype first.\n",
      "  vidyanchal_1.fillna(0, inplace=True)\n"
     ]
    },
    {
     "data": {
      "text/plain": [
       "           TimeStamp    0\n",
       "           Actual       0\n",
       "pred                    0\n",
       "Price (Rs/ KWh)         0\n",
       "Pred Price(Rs/ KWh)     0\n",
       "dtype: int64"
      ]
     },
     "execution_count": 47,
     "metadata": {},
     "output_type": "execute_result"
    }
   ],
   "execution_count": 47
  },
  {
   "metadata": {
    "ExecuteTime": {
     "end_time": "2024-10-05T14:33:14.307912Z",
     "start_time": "2024-10-05T14:33:08.948082Z"
    }
   },
   "cell_type": "code",
   "source": [
    "vidyanchal_2 = pd.read_excel('Data/Inter State Gen Stations (Forecast)/Vidyanchal2.xlsx')\n",
    "vidyanchal_2 = vidyanchal_2.merge(price_data, on='TimeStamp')\n",
    "vidyanchal_2.fillna(0, inplace=True)\n",
    "vidyanchal_2.to_csv('New Data/Inter-State/vidyanchal_2.csv', index=False)\n",
    "vidyanchal_2.isnull().sum()"
   ],
   "id": "50f4585d6157f4e5",
   "outputs": [
    {
     "data": {
      "text/plain": [
       "TimeStamp              0\n",
       "Actual                 0\n",
       "Pred                   0\n",
       "Price (Rs/ KWh)        0\n",
       "Pred Price(Rs/ KWh)    0\n",
       "dtype: int64"
      ]
     },
     "execution_count": 40,
     "metadata": {},
     "output_type": "execute_result"
    }
   ],
   "execution_count": 40
  },
  {
   "metadata": {
    "ExecuteTime": {
     "end_time": "2024-10-05T14:34:45.203301Z",
     "start_time": "2024-10-05T14:34:39.683064Z"
    }
   },
   "cell_type": "code",
   "source": [
    "vidyanchal_3 = pd.read_excel('Data/Inter State Gen Stations (Forecast)/Vidyanchal3.xlsx')\n",
    "vidyanchal_3 = vidyanchal_3.merge(price_data, on='TimeStamp')\n",
    "vidyanchal_3.fillna(0, inplace=True)\n",
    "vidyanchal_3.to_csv('New Data/Inter-State/vidyanchal_3.csv', index=False)\n",
    "vidyanchal_3.isnull().sum()"
   ],
   "id": "81dc1787e4c5d3ac",
   "outputs": [
    {
     "data": {
      "text/plain": [
       "TimeStamp              0\n",
       "Actual                 0\n",
       "Pred                   0\n",
       "Price (Rs/ KWh)        0\n",
       "Pred Price(Rs/ KWh)    0\n",
       "dtype: int64"
      ]
     },
     "execution_count": 44,
     "metadata": {},
     "output_type": "execute_result"
    }
   ],
   "execution_count": 44
  },
  {
   "metadata": {
    "ExecuteTime": {
     "end_time": "2024-10-05T14:35:03.635119Z",
     "start_time": "2024-10-05T14:34:57.885517Z"
    }
   },
   "cell_type": "code",
   "source": [
    "vidyanchal_4 = pd.read_excel('Data/Inter State Gen Stations (Forecast)/Vidyanchal4.xlsx')\n",
    "vidyanchal_4 = vidyanchal_4.merge(price_data, on='TimeStamp')\n",
    "vidyanchal_4.fillna(0, inplace=True)\n",
    "vidyanchal_4.to_csv('New Data/Inter-State/vidyanchal_4.csv', index=False)\n",
    "vidyanchal_4.isnull().sum()"
   ],
   "id": "cf36bfe793ba4fc",
   "outputs": [
    {
     "data": {
      "text/plain": [
       "TimeStamp              0\n",
       "Actual                 0\n",
       "Pred                   0\n",
       "Price (Rs/ KWh)        0\n",
       "Pred Price(Rs/ KWh)    0\n",
       "dtype: int64"
      ]
     },
     "execution_count": 45,
     "metadata": {},
     "output_type": "execute_result"
    }
   ],
   "execution_count": 45
  },
  {
   "metadata": {
    "ExecuteTime": {
     "end_time": "2024-10-05T14:35:09.354543Z",
     "start_time": "2024-10-05T14:35:03.664920Z"
    }
   },
   "cell_type": "code",
   "source": [
    "vidyanchal_5 = pd.read_excel('Data/Inter State Gen Stations (Forecast)/Vidyanchal5.xlsx')\n",
    "vidyanchal_5 = vidyanchal_5.merge(price_data, on='TimeStamp')\n",
    "vidyanchal_5.fillna(0, inplace=True)\n",
    "vidyanchal_5.to_csv('New Data/Inter-State/vidyanchal_5.csv', index=False)\n",
    "vidyanchal_5.isnull().sum()"
   ],
   "id": "6aad4b781df34356",
   "outputs": [
    {
     "data": {
      "text/plain": [
       "TimeStamp              0\n",
       "Actual                 0\n",
       "Pred                   0\n",
       "Price (Rs/ KWh)        0\n",
       "Pred Price(Rs/ KWh)    0\n",
       "dtype: int64"
      ]
     },
     "execution_count": 46,
     "metadata": {},
     "output_type": "execute_result"
    }
   ],
   "execution_count": 46
  },
  {
   "metadata": {},
   "cell_type": "code",
   "outputs": [],
   "execution_count": null,
   "source": "",
   "id": "c226998443d69420"
  }
 ],
 "metadata": {
  "kernelspec": {
   "display_name": "Python 3",
   "language": "python",
   "name": "python3"
  },
  "language_info": {
   "codemirror_mode": {
    "name": "ipython",
    "version": 2
   },
   "file_extension": ".py",
   "mimetype": "text/x-python",
   "name": "python",
   "nbconvert_exporter": "python",
   "pygments_lexer": "ipython2",
   "version": "2.7.6"
  }
 },
 "nbformat": 4,
 "nbformat_minor": 5
}
