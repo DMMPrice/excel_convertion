{
 "cells": [
  {
   "metadata": {
    "ExecuteTime": {
     "end_time": "2024-10-05T11:37:17.235912Z",
     "start_time": "2024-10-05T11:37:16.954754Z"
    }
   },
   "cell_type": "code",
   "source": [
    "import pandas as pd\n",
    "import numpy as np"
   ],
   "id": "99b942f9277a1fb2",
   "outputs": [],
   "execution_count": 2
  },
  {
   "metadata": {
    "ExecuteTime": {
     "end_time": "2024-10-05T11:37:18.267021Z",
     "start_time": "2024-10-05T11:37:18.176312Z"
    }
   },
   "cell_type": "code",
   "source": [
    "price_data = pd.read_excel('Data/Price (Forecast).xlsx')\n",
    "adani_power_bid_1 = pd.read_excel('Data/Inter State Gen Stations (Forecast)/Adani Power (Bid 1).xlsx')"
   ],
   "id": "b5bcadb0f1ceeb29",
   "outputs": [
    {
     "ename": "ImportError",
     "evalue": "Missing optional dependency 'openpyxl'.  Use pip or conda to install openpyxl.",
     "output_type": "error",
     "traceback": [
      "\u001B[0;31m---------------------------------------------------------------------------\u001B[0m",
      "\u001B[0;31mModuleNotFoundError\u001B[0m                       Traceback (most recent call last)",
      "File \u001B[0;32m/Library/Frameworks/Python.framework/Versions/3.12/lib/python3.12/site-packages/pandas/compat/_optional.py:135\u001B[0m, in \u001B[0;36mimport_optional_dependency\u001B[0;34m(name, extra, errors, min_version)\u001B[0m\n\u001B[1;32m    134\u001B[0m \u001B[38;5;28;01mtry\u001B[39;00m:\n\u001B[0;32m--> 135\u001B[0m     module \u001B[38;5;241m=\u001B[39m \u001B[43mimportlib\u001B[49m\u001B[38;5;241;43m.\u001B[39;49m\u001B[43mimport_module\u001B[49m\u001B[43m(\u001B[49m\u001B[43mname\u001B[49m\u001B[43m)\u001B[49m\n\u001B[1;32m    136\u001B[0m \u001B[38;5;28;01mexcept\u001B[39;00m \u001B[38;5;167;01mImportError\u001B[39;00m:\n",
      "File \u001B[0;32m/Library/Frameworks/Python.framework/Versions/3.12/lib/python3.12/importlib/__init__.py:90\u001B[0m, in \u001B[0;36mimport_module\u001B[0;34m(name, package)\u001B[0m\n\u001B[1;32m     89\u001B[0m         level \u001B[38;5;241m+\u001B[39m\u001B[38;5;241m=\u001B[39m \u001B[38;5;241m1\u001B[39m\n\u001B[0;32m---> 90\u001B[0m \u001B[38;5;28;01mreturn\u001B[39;00m \u001B[43m_bootstrap\u001B[49m\u001B[38;5;241;43m.\u001B[39;49m\u001B[43m_gcd_import\u001B[49m\u001B[43m(\u001B[49m\u001B[43mname\u001B[49m\u001B[43m[\u001B[49m\u001B[43mlevel\u001B[49m\u001B[43m:\u001B[49m\u001B[43m]\u001B[49m\u001B[43m,\u001B[49m\u001B[43m \u001B[49m\u001B[43mpackage\u001B[49m\u001B[43m,\u001B[49m\u001B[43m \u001B[49m\u001B[43mlevel\u001B[49m\u001B[43m)\u001B[49m\n",
      "File \u001B[0;32m<frozen importlib._bootstrap>:1387\u001B[0m, in \u001B[0;36m_gcd_import\u001B[0;34m(name, package, level)\u001B[0m\n",
      "File \u001B[0;32m<frozen importlib._bootstrap>:1360\u001B[0m, in \u001B[0;36m_find_and_load\u001B[0;34m(name, import_)\u001B[0m\n",
      "File \u001B[0;32m<frozen importlib._bootstrap>:1324\u001B[0m, in \u001B[0;36m_find_and_load_unlocked\u001B[0;34m(name, import_)\u001B[0m\n",
      "\u001B[0;31mModuleNotFoundError\u001B[0m: No module named 'openpyxl'",
      "\nDuring handling of the above exception, another exception occurred:\n",
      "\u001B[0;31mImportError\u001B[0m                               Traceback (most recent call last)",
      "Cell \u001B[0;32mIn[3], line 1\u001B[0m\n\u001B[0;32m----> 1\u001B[0m price_data\u001B[38;5;241m=\u001B[39m\u001B[43mpd\u001B[49m\u001B[38;5;241;43m.\u001B[39;49m\u001B[43mread_excel\u001B[49m\u001B[43m(\u001B[49m\u001B[38;5;124;43m'\u001B[39;49m\u001B[38;5;124;43mData/Price (Forecast).xlsx\u001B[39;49m\u001B[38;5;124;43m'\u001B[39;49m\u001B[43m)\u001B[49m\n\u001B[1;32m      2\u001B[0m adani_power_bid_1\u001B[38;5;241m=\u001B[39mpd\u001B[38;5;241m.\u001B[39mread_excel(\u001B[38;5;124m'\u001B[39m\u001B[38;5;124mData/Inter State Gen Stations (Forecast)/Adani Power (Bid 1).xlsx\u001B[39m\u001B[38;5;124m'\u001B[39m)\n",
      "File \u001B[0;32m/Library/Frameworks/Python.framework/Versions/3.12/lib/python3.12/site-packages/pandas/io/excel/_base.py:495\u001B[0m, in \u001B[0;36mread_excel\u001B[0;34m(io, sheet_name, header, names, index_col, usecols, dtype, engine, converters, true_values, false_values, skiprows, nrows, na_values, keep_default_na, na_filter, verbose, parse_dates, date_parser, date_format, thousands, decimal, comment, skipfooter, storage_options, dtype_backend, engine_kwargs)\u001B[0m\n\u001B[1;32m    493\u001B[0m \u001B[38;5;28;01mif\u001B[39;00m \u001B[38;5;129;01mnot\u001B[39;00m \u001B[38;5;28misinstance\u001B[39m(io, ExcelFile):\n\u001B[1;32m    494\u001B[0m     should_close \u001B[38;5;241m=\u001B[39m \u001B[38;5;28;01mTrue\u001B[39;00m\n\u001B[0;32m--> 495\u001B[0m     io \u001B[38;5;241m=\u001B[39m \u001B[43mExcelFile\u001B[49m\u001B[43m(\u001B[49m\n\u001B[1;32m    496\u001B[0m \u001B[43m        \u001B[49m\u001B[43mio\u001B[49m\u001B[43m,\u001B[49m\n\u001B[1;32m    497\u001B[0m \u001B[43m        \u001B[49m\u001B[43mstorage_options\u001B[49m\u001B[38;5;241;43m=\u001B[39;49m\u001B[43mstorage_options\u001B[49m\u001B[43m,\u001B[49m\n\u001B[1;32m    498\u001B[0m \u001B[43m        \u001B[49m\u001B[43mengine\u001B[49m\u001B[38;5;241;43m=\u001B[39;49m\u001B[43mengine\u001B[49m\u001B[43m,\u001B[49m\n\u001B[1;32m    499\u001B[0m \u001B[43m        \u001B[49m\u001B[43mengine_kwargs\u001B[49m\u001B[38;5;241;43m=\u001B[39;49m\u001B[43mengine_kwargs\u001B[49m\u001B[43m,\u001B[49m\n\u001B[1;32m    500\u001B[0m \u001B[43m    \u001B[49m\u001B[43m)\u001B[49m\n\u001B[1;32m    501\u001B[0m \u001B[38;5;28;01melif\u001B[39;00m engine \u001B[38;5;129;01mand\u001B[39;00m engine \u001B[38;5;241m!=\u001B[39m io\u001B[38;5;241m.\u001B[39mengine:\n\u001B[1;32m    502\u001B[0m     \u001B[38;5;28;01mraise\u001B[39;00m \u001B[38;5;167;01mValueError\u001B[39;00m(\n\u001B[1;32m    503\u001B[0m         \u001B[38;5;124m\"\u001B[39m\u001B[38;5;124mEngine should not be specified when passing \u001B[39m\u001B[38;5;124m\"\u001B[39m\n\u001B[1;32m    504\u001B[0m         \u001B[38;5;124m\"\u001B[39m\u001B[38;5;124man ExcelFile - ExcelFile already has the engine set\u001B[39m\u001B[38;5;124m\"\u001B[39m\n\u001B[1;32m    505\u001B[0m     )\n",
      "File \u001B[0;32m/Library/Frameworks/Python.framework/Versions/3.12/lib/python3.12/site-packages/pandas/io/excel/_base.py:1567\u001B[0m, in \u001B[0;36mExcelFile.__init__\u001B[0;34m(self, path_or_buffer, engine, storage_options, engine_kwargs)\u001B[0m\n\u001B[1;32m   1564\u001B[0m \u001B[38;5;28mself\u001B[39m\u001B[38;5;241m.\u001B[39mengine \u001B[38;5;241m=\u001B[39m engine\n\u001B[1;32m   1565\u001B[0m \u001B[38;5;28mself\u001B[39m\u001B[38;5;241m.\u001B[39mstorage_options \u001B[38;5;241m=\u001B[39m storage_options\n\u001B[0;32m-> 1567\u001B[0m \u001B[38;5;28mself\u001B[39m\u001B[38;5;241m.\u001B[39m_reader \u001B[38;5;241m=\u001B[39m \u001B[38;5;28;43mself\u001B[39;49m\u001B[38;5;241;43m.\u001B[39;49m\u001B[43m_engines\u001B[49m\u001B[43m[\u001B[49m\u001B[43mengine\u001B[49m\u001B[43m]\u001B[49m\u001B[43m(\u001B[49m\n\u001B[1;32m   1568\u001B[0m \u001B[43m    \u001B[49m\u001B[38;5;28;43mself\u001B[39;49m\u001B[38;5;241;43m.\u001B[39;49m\u001B[43m_io\u001B[49m\u001B[43m,\u001B[49m\n\u001B[1;32m   1569\u001B[0m \u001B[43m    \u001B[49m\u001B[43mstorage_options\u001B[49m\u001B[38;5;241;43m=\u001B[39;49m\u001B[43mstorage_options\u001B[49m\u001B[43m,\u001B[49m\n\u001B[1;32m   1570\u001B[0m \u001B[43m    \u001B[49m\u001B[43mengine_kwargs\u001B[49m\u001B[38;5;241;43m=\u001B[39;49m\u001B[43mengine_kwargs\u001B[49m\u001B[43m,\u001B[49m\n\u001B[1;32m   1571\u001B[0m \u001B[43m\u001B[49m\u001B[43m)\u001B[49m\n",
      "File \u001B[0;32m/Library/Frameworks/Python.framework/Versions/3.12/lib/python3.12/site-packages/pandas/io/excel/_openpyxl.py:552\u001B[0m, in \u001B[0;36mOpenpyxlReader.__init__\u001B[0;34m(self, filepath_or_buffer, storage_options, engine_kwargs)\u001B[0m\n\u001B[1;32m    534\u001B[0m \u001B[38;5;129m@doc\u001B[39m(storage_options\u001B[38;5;241m=\u001B[39m_shared_docs[\u001B[38;5;124m\"\u001B[39m\u001B[38;5;124mstorage_options\u001B[39m\u001B[38;5;124m\"\u001B[39m])\n\u001B[1;32m    535\u001B[0m \u001B[38;5;28;01mdef\u001B[39;00m \u001B[38;5;21m__init__\u001B[39m(\n\u001B[1;32m    536\u001B[0m     \u001B[38;5;28mself\u001B[39m,\n\u001B[0;32m   (...)\u001B[0m\n\u001B[1;32m    539\u001B[0m     engine_kwargs: \u001B[38;5;28mdict\u001B[39m \u001B[38;5;241m|\u001B[39m \u001B[38;5;28;01mNone\u001B[39;00m \u001B[38;5;241m=\u001B[39m \u001B[38;5;28;01mNone\u001B[39;00m,\n\u001B[1;32m    540\u001B[0m ) \u001B[38;5;241m-\u001B[39m\u001B[38;5;241m>\u001B[39m \u001B[38;5;28;01mNone\u001B[39;00m:\n\u001B[1;32m    541\u001B[0m \u001B[38;5;250m    \u001B[39m\u001B[38;5;124;03m\"\"\"\u001B[39;00m\n\u001B[1;32m    542\u001B[0m \u001B[38;5;124;03m    Reader using openpyxl engine.\u001B[39;00m\n\u001B[1;32m    543\u001B[0m \n\u001B[0;32m   (...)\u001B[0m\n\u001B[1;32m    550\u001B[0m \u001B[38;5;124;03m        Arbitrary keyword arguments passed to excel engine.\u001B[39;00m\n\u001B[1;32m    551\u001B[0m \u001B[38;5;124;03m    \"\"\"\u001B[39;00m\n\u001B[0;32m--> 552\u001B[0m     \u001B[43mimport_optional_dependency\u001B[49m\u001B[43m(\u001B[49m\u001B[38;5;124;43m\"\u001B[39;49m\u001B[38;5;124;43mopenpyxl\u001B[39;49m\u001B[38;5;124;43m\"\u001B[39;49m\u001B[43m)\u001B[49m\n\u001B[1;32m    553\u001B[0m     \u001B[38;5;28msuper\u001B[39m()\u001B[38;5;241m.\u001B[39m\u001B[38;5;21m__init__\u001B[39m(\n\u001B[1;32m    554\u001B[0m         filepath_or_buffer,\n\u001B[1;32m    555\u001B[0m         storage_options\u001B[38;5;241m=\u001B[39mstorage_options,\n\u001B[1;32m    556\u001B[0m         engine_kwargs\u001B[38;5;241m=\u001B[39mengine_kwargs,\n\u001B[1;32m    557\u001B[0m     )\n",
      "File \u001B[0;32m/Library/Frameworks/Python.framework/Versions/3.12/lib/python3.12/site-packages/pandas/compat/_optional.py:138\u001B[0m, in \u001B[0;36mimport_optional_dependency\u001B[0;34m(name, extra, errors, min_version)\u001B[0m\n\u001B[1;32m    136\u001B[0m \u001B[38;5;28;01mexcept\u001B[39;00m \u001B[38;5;167;01mImportError\u001B[39;00m:\n\u001B[1;32m    137\u001B[0m     \u001B[38;5;28;01mif\u001B[39;00m errors \u001B[38;5;241m==\u001B[39m \u001B[38;5;124m\"\u001B[39m\u001B[38;5;124mraise\u001B[39m\u001B[38;5;124m\"\u001B[39m:\n\u001B[0;32m--> 138\u001B[0m         \u001B[38;5;28;01mraise\u001B[39;00m \u001B[38;5;167;01mImportError\u001B[39;00m(msg)\n\u001B[1;32m    139\u001B[0m     \u001B[38;5;28;01mreturn\u001B[39;00m \u001B[38;5;28;01mNone\u001B[39;00m\n\u001B[1;32m    141\u001B[0m \u001B[38;5;66;03m# Handle submodules: if we have submodule, grab parent module from sys.modules\u001B[39;00m\n",
      "\u001B[0;31mImportError\u001B[0m: Missing optional dependency 'openpyxl'.  Use pip or conda to install openpyxl."
     ]
    }
   ],
   "execution_count": 3
  },
  {
   "metadata": {
    "ExecuteTime": {
     "end_time": "2024-10-05T11:29:48.760794Z",
     "start_time": "2024-10-05T11:29:48.751288Z"
    }
   },
   "cell_type": "code",
   "source": [
    "# Merge the data with price data\n",
    "acb_india = acb_india.merge(price_data, on='TimeStamp')\n",
    "acb_india"
   ],
   "id": "e7824006a49db507",
   "outputs": [
    {
     "ename": "NameError",
     "evalue": "name 'acb_india' is not defined",
     "output_type": "error",
     "traceback": [
      "\u001B[0;31m---------------------------------------------------------------------------\u001B[0m",
      "\u001B[0;31mNameError\u001B[0m                                 Traceback (most recent call last)",
      "Cell \u001B[0;32mIn[12], line 2\u001B[0m\n\u001B[1;32m      1\u001B[0m \u001B[38;5;66;03m# Merge the data with price data\u001B[39;00m\n\u001B[0;32m----> 2\u001B[0m acb_india\u001B[38;5;241m=\u001B[39m\u001B[43macb_india\u001B[49m\u001B[38;5;241m.\u001B[39mmerge(price_data,on\u001B[38;5;241m=\u001B[39m\u001B[38;5;124m'\u001B[39m\u001B[38;5;124mTimeStamp\u001B[39m\u001B[38;5;124m'\u001B[39m)\n\u001B[1;32m      3\u001B[0m acb_india\n",
      "\u001B[0;31mNameError\u001B[0m: name 'acb_india' is not defined"
     ]
    }
   ],
   "execution_count": 12
  },
  {
   "metadata": {
    "ExecuteTime": {
     "end_time": "2024-09-29T09:27:32.326713Z",
     "start_time": "2024-09-29T09:27:31.934471Z"
    }
   },
   "cell_type": "code",
   "source": [
    "acb_india.fillna(0, inplace=True)\n",
    "acb_india.isnull().sum()\n",
    "acb_india.to_csv('New Data/Intra-State/acb_india.csv', index=False)"
   ],
   "id": "5dc9f17090c42eb4",
   "outputs": [],
   "execution_count": 45
  },
  {
   "metadata": {
    "ExecuteTime": {
     "end_time": "2024-09-29T09:32:21.229066Z",
     "start_time": "2024-09-29T09:32:18.399216Z"
    }
   },
   "cell_type": "code",
   "source": [
    "essar_power = pd.read_excel('Data/Intra State Gen Stations (Forecast)/Essar Power Gujarat Ltd.xlsx')\n",
    "essar_power = essar_power.merge(price_data, on='TimeStamp')"
   ],
   "id": "1a36274169fe611c",
   "outputs": [],
   "execution_count": 48
  },
  {
   "metadata": {
    "ExecuteTime": {
     "end_time": "2024-09-29T09:34:25.656456Z",
     "start_time": "2024-09-29T09:34:25.291234Z"
    }
   },
   "cell_type": "code",
   "source": [
    "essar_power.fillna(0, inplace=True)\n",
    "essar_power.isnull().sum()\n",
    "essar_power.to_csv('New Data/Intra-State/essar_power.csv', index=False)"
   ],
   "id": "4acd465bb9e9c3d4",
   "outputs": [],
   "execution_count": 50
  },
  {
   "metadata": {
    "ExecuteTime": {
     "end_time": "2024-09-29T09:46:39.738692Z",
     "start_time": "2024-09-29T09:46:35.475337Z"
    }
   },
   "cell_type": "code",
   "source": [
    "gppc = pd.read_excel('Data/Intra State Gen Stations (Forecast)/GPPC Pipavav.xlsx')\n",
    "gppc = gppc.merge(price_data, on='TimeStamp')\n",
    "gppc.fillna(0, inplace=True)\n",
    "gppc.to_csv('New Data/Intra-State/gppc.csv', index=False)\n",
    "gppc.isnull().sum()"
   ],
   "id": "d34c4d70134d1e57",
   "outputs": [
    {
     "data": {
      "text/plain": [
       "TimeStamp              0\n",
       "Actual                 0\n",
       "Pred                   0\n",
       "Price (Rs/ KWh)        0\n",
       "Pred Price(Rs/ KWh)    0\n",
       "dtype: int64"
      ]
     },
     "execution_count": 51,
     "metadata": {},
     "output_type": "execute_result"
    }
   ],
   "execution_count": 51
  },
  {
   "metadata": {
    "ExecuteTime": {
     "end_time": "2024-09-29T09:50:30.758996Z",
     "start_time": "2024-09-29T09:50:27.594702Z"
    }
   },
   "cell_type": "code",
   "source": [
    "gsecl_bltps = pd.read_excel('Data/Intra State Gen Stations (Forecast)/GSECL BLTPS.xlsx')\n",
    "gsecl_bltps = gsecl_bltps.merge(price_data, on='TimeStamp')\n",
    "gsecl_bltps.fillna(0, inplace=True)\n",
    "gsecl_bltps.to_csv('New Data/Intra-State/gsecl_bltps.csv', index=False)\n",
    "gsecl_bltps.isnull().sum()"
   ],
   "id": "d213714133eea384",
   "outputs": [
    {
     "data": {
      "text/plain": [
       "TimeStamp              0\n",
       "Actual                 0\n",
       "Pred                   0\n",
       "Price (Rs/ KWh)        0\n",
       "Pred Price(Rs/ KWh)    0\n",
       "dtype: int64"
      ]
     },
     "execution_count": 54,
     "metadata": {},
     "output_type": "execute_result"
    }
   ],
   "execution_count": 54
  },
  {
   "metadata": {
    "ExecuteTime": {
     "end_time": "2024-09-29T09:51:20.550001Z",
     "start_time": "2024-09-29T09:51:17.331546Z"
    }
   },
   "cell_type": "code",
   "source": [
    "gsecl_dhuvaran_7 = pd.read_excel('Data/Intra State Gen Stations (Forecast)/GSECL Dhuvaran - 7.xlsx')\n",
    "gsecl_dhuvaran_7 = gsecl_dhuvaran_7.merge(price_data, on='TimeStamp')\n",
    "gsecl_dhuvaran_7.fillna(0, inplace=True)\n",
    "gsecl_dhuvaran_7.to_csv('New Data/Intra-State/gsecl_dhuvaran_7.csv', index=False)\n",
    "gsecl_dhuvaran_7.isnull().sum()"
   ],
   "id": "efb988f31b0fc32",
   "outputs": [
    {
     "data": {
      "text/plain": [
       "TimeStamp              0\n",
       "Actual                 0\n",
       "Pred                   0\n",
       "Price (Rs/ KWh)        0\n",
       "Pred Price(Rs/ KWh)    0\n",
       "dtype: int64"
      ]
     },
     "execution_count": 55,
     "metadata": {},
     "output_type": "execute_result"
    }
   ],
   "execution_count": 55
  },
  {
   "metadata": {
    "ExecuteTime": {
     "end_time": "2024-09-29T09:51:56.111565Z",
     "start_time": "2024-09-29T09:51:52.872060Z"
    }
   },
   "cell_type": "code",
   "source": [
    "gsecl_dhuvaran_8 = pd.read_excel('Data/Intra State Gen Stations (Forecast)/GSECL Dhuvaran - 8.xlsx')\n",
    "gsecl_dhuvaran_8 = gsecl_dhuvaran_8.merge(price_data, on='TimeStamp')\n",
    "gsecl_dhuvaran_8.fillna(0, inplace=True)\n",
    "gsecl_dhuvaran_8.to_csv('New Data/Intra-State/gsecl_dhuvaran_8.csv', index=False)\n",
    "gsecl_dhuvaran_8.isnull().sum()"
   ],
   "id": "bde4b2e861a42e82",
   "outputs": [
    {
     "data": {
      "text/plain": [
       "TimeStamp              0\n",
       "Actual                 0\n",
       "Pred                   0\n",
       "Price (Rs/ KWh)        0\n",
       "Pred Price(Rs/ KWh)    0\n",
       "dtype: int64"
      ]
     },
     "execution_count": 56,
     "metadata": {},
     "output_type": "execute_result"
    }
   ],
   "execution_count": 56
  },
  {
   "metadata": {
    "ExecuteTime": {
     "end_time": "2024-09-29T09:53:23.573783Z",
     "start_time": "2024-09-29T09:53:20.393877Z"
    }
   },
   "cell_type": "code",
   "source": [
    "gsecl_dhuvaran_ccpp_3 = pd.read_excel('Data/Intra State Gen Stations (Forecast)/GSECL Dhuvaran CCPP III.xlsx')\n",
    "gsecl_dhuvaran_ccpp_3 = gsecl_dhuvaran_ccpp_3.merge(price_data, on='TimeStamp')\n",
    "gsecl_dhuvaran_ccpp_3.fillna(0, inplace=True)\n",
    "gsecl_dhuvaran_ccpp_3.to_csv('New Data/Intra-State/gsecl_dhuvaran_ccpp_3.csv', index=False)\n",
    "gsecl_dhuvaran_ccpp_3.isnull().sum()"
   ],
   "id": "12b8c43811d9cea7",
   "outputs": [
    {
     "data": {
      "text/plain": [
       "TimeStamp              0\n",
       "Actual                 0\n",
       "Pred                   0\n",
       "Price (Rs/ KWh)        0\n",
       "Pred Price(Rs/ KWh)    0\n",
       "dtype: int64"
      ]
     },
     "execution_count": 57,
     "metadata": {},
     "output_type": "execute_result"
    }
   ],
   "execution_count": 57
  },
  {
   "metadata": {
    "ExecuteTime": {
     "end_time": "2024-09-29T09:55:07.423012Z",
     "start_time": "2024-09-29T09:55:04.170422Z"
    }
   },
   "cell_type": "code",
   "source": [
    "gsecl_gandhinagar_5 = pd.read_excel('Data/Intra State Gen Stations (Forecast)/GSECL Gandhinagar - 5.xlsx')\n",
    "gsecl_gandhinagar_5 = gsecl_gandhinagar_5.merge(price_data, on='TimeStamp')\n",
    "gsecl_gandhinagar_5.fillna(0, inplace=True)\n",
    "gsecl_gandhinagar_5.to_csv('New Data/Intra-State/gsecl_gandhinagar_5.csv', index=False)\n",
    "gsecl_gandhinagar_5.isnull().sum()"
   ],
   "id": "5834cf492a9a53a5",
   "outputs": [
    {
     "data": {
      "text/plain": [
       "TimeStamp              0\n",
       "Actual                 0\n",
       "Pred                   0\n",
       "Price (Rs/ KWh)        0\n",
       "Pred Price(Rs/ KWh)    0\n",
       "dtype: int64"
      ]
     },
     "execution_count": 58,
     "metadata": {},
     "output_type": "execute_result"
    }
   ],
   "execution_count": 58
  },
  {
   "metadata": {
    "ExecuteTime": {
     "end_time": "2024-09-29T10:00:38.753616Z",
     "start_time": "2024-09-29T10:00:35.363058Z"
    }
   },
   "cell_type": "code",
   "source": [
    "gsecl_gandhinagar_1_4 = pd.read_excel('Data/Intra State Gen Stations (Forecast)/GSECL Gandhinagar 1-4 (3-4).xlsx')\n",
    "gsecl_gandhinagar_1_4 = gsecl_gandhinagar_1_4.merge(price_data, on='TimeStamp')\n",
    "gsecl_gandhinagar_1_4.fillna(0, inplace=True)\n",
    "gsecl_gandhinagar_1_4.to_csv('New Data/Intra-State/gsecl_gandhinagar_1_4.csv', index=False)\n",
    "gsecl_gandhinagar_1_4.isnull().sum()"
   ],
   "id": "f9c80bd4d440d8da",
   "outputs": [
    {
     "data": {
      "text/plain": [
       "TimeStamp              0\n",
       "Actual                 0\n",
       "Pred                   0\n",
       "Price (Rs/ KWh)        0\n",
       "Pred Price(Rs/ KWh)    0\n",
       "dtype: int64"
      ]
     },
     "execution_count": 61,
     "metadata": {},
     "output_type": "execute_result"
    }
   ],
   "execution_count": 61
  },
  {
   "metadata": {
    "ExecuteTime": {
     "end_time": "2024-09-29T10:24:12.442920Z",
     "start_time": "2024-09-29T10:24:09.173501Z"
    }
   },
   "cell_type": "code",
   "source": [
    "gsecl_kadana_hydro = pd.read_excel('Data/Intra State Gen Stations (Forecast)/GSECL Kadana Hydro.xlsx')\n",
    "gsecl_kadana_hydro = gsecl_kadana_hydro.merge(price_data, on='TimeStamp')\n",
    "gsecl_kadana_hydro.fillna(0, inplace=True)\n",
    "gsecl_kadana_hydro.to_csv('New Data/Intra-State/gsecl_kadana_hydro.csv', index=False)\n",
    "gsecl_kadana_hydro.isnull().sum()"
   ],
   "id": "fe2398dc448c4219",
   "outputs": [
    {
     "data": {
      "text/plain": [
       "TimeStamp              0\n",
       "Actual                 0\n",
       "Pred                   0\n",
       "Price (Rs/ KWh)        0\n",
       "Pred Price(Rs/ KWh)    0\n",
       "dtype: int64"
      ]
     },
     "execution_count": 62,
     "metadata": {},
     "output_type": "execute_result"
    }
   ],
   "execution_count": 62
  },
  {
   "metadata": {
    "ExecuteTime": {
     "end_time": "2024-09-29T10:32:50.468453Z",
     "start_time": "2024-09-29T10:32:47.239040Z"
    }
   },
   "cell_type": "code",
   "source": [
    "GSECL_Kutch_Lignite = pd.read_excel('Data/Intra State Gen Stations (Forecast)/GSECL Kutch Lignite (1-3).xlsx')\n",
    "GSECL_Kutch_Lignite = GSECL_Kutch_Lignite.merge(price_data, on='TimeStamp')\n",
    "GSECL_Kutch_Lignite.fillna(0, inplace=True)\n",
    "GSECL_Kutch_Lignite.to_csv('New Data/Intra-State/GSECL_Kutch_Lignite.csv', index=False)\n",
    "GSECL_Kutch_Lignite.isnull().sum()"
   ],
   "id": "f5e8dff28a78d27a",
   "outputs": [
    {
     "data": {
      "text/plain": [
       "TimeStamp              0\n",
       "Actual                 0\n",
       "Pred                   0\n",
       "Price (Rs/ KWh)        0\n",
       "Pred Price(Rs/ KWh)    0\n",
       "dtype: int64"
      ]
     },
     "execution_count": 63,
     "metadata": {},
     "output_type": "execute_result"
    }
   ],
   "execution_count": 63
  },
  {
   "metadata": {
    "ExecuteTime": {
     "end_time": "2024-09-29T10:34:07.448219Z",
     "start_time": "2024-09-29T10:34:04.248794Z"
    }
   },
   "cell_type": "code",
   "source": [
    "GSECL_Kutch_Lignite_4 = pd.read_excel('Data/Intra State Gen Stations (Forecast)/GSECL Kutch Lignite Exp unit 4.xlsx')\n",
    "GSECL_Kutch_Lignite_4 = GSECL_Kutch_Lignite_4.merge(price_data, on='TimeStamp')\n",
    "GSECL_Kutch_Lignite_4.fillna(0, inplace=True)\n",
    "GSECL_Kutch_Lignite_4.to_csv('New Data/Intra-State/GSECL_Kutch_Lignite_4.csv', index=False)\n",
    "GSECL_Kutch_Lignite_4.isnull().sum()"
   ],
   "id": "5480cbb31505cdb0",
   "outputs": [
    {
     "data": {
      "text/plain": [
       "TimeStamp              0\n",
       "Actual                 0\n",
       "Pred                   0\n",
       "Price (Rs/ KWh)        0\n",
       "Pred Price(Rs/ KWh)    0\n",
       "dtype: int64"
      ]
     },
     "execution_count": 64,
     "metadata": {},
     "output_type": "execute_result"
    }
   ],
   "execution_count": 64
  },
  {
   "metadata": {
    "ExecuteTime": {
     "end_time": "2024-09-29T10:46:06.503793Z",
     "start_time": "2024-09-29T10:46:03.219357Z"
    }
   },
   "cell_type": "code",
   "source": [
    "gsecl_sikka_expansion = pd.read_excel('Data/Intra State Gen Stations (Forecast)/GSECL Sikka Expansion.xlsx')\n",
    "gsecl_sikka_expansion = gsecl_sikka_expansion.merge(price_data, on='TimeStamp')\n",
    "gsecl_sikka_expansion.fillna(0, inplace=True)\n",
    "gsecl_sikka_expansion.to_csv('New Data/Intra-State/gsecl_sikka_expansion.csv', index=False)\n",
    "gsecl_sikka_expansion.isnull().sum()"
   ],
   "id": "63eea16a93966a47",
   "outputs": [
    {
     "data": {
      "text/plain": [
       "TimeStamp              0\n",
       "Actual                 0\n",
       "Pred                   0\n",
       "Price (Rs/ KWh)        0\n",
       "Pred Price(Rs/ KWh)    0\n",
       "dtype: int64"
      ]
     },
     "execution_count": 65,
     "metadata": {},
     "output_type": "execute_result"
    }
   ],
   "execution_count": 65
  },
  {
   "metadata": {
    "ExecuteTime": {
     "end_time": "2024-09-29T10:47:00.421980Z",
     "start_time": "2024-09-29T10:46:57.119056Z"
    }
   },
   "cell_type": "code",
   "source": [
    "gsecl_ukai = pd.read_excel('Data/Intra State Gen Stations (Forecast)/GSECL Ukai.xlsx')\n",
    "gsecl_ukai = gsecl_ukai.merge(price_data, on='TimeStamp')\n",
    "gsecl_ukai.fillna(0, inplace=True)\n",
    "gsecl_ukai.to_csv('New Data/Intra-State/gsecl_ukai.csv', index=False)\n",
    "gsecl_ukai.isnull().sum()"
   ],
   "id": "f1e0e591bce91b91",
   "outputs": [
    {
     "data": {
      "text/plain": [
       "TimeStamp              0\n",
       "Actual                 0\n",
       "Pred                   0\n",
       "Price (Rs/ KWh)        0\n",
       "Pred Price(Rs/ KWh)    0\n",
       "dtype: int64"
      ]
     },
     "execution_count": 66,
     "metadata": {},
     "output_type": "execute_result"
    }
   ],
   "execution_count": 66
  },
  {
   "metadata": {
    "ExecuteTime": {
     "end_time": "2024-09-29T10:51:19.363399Z",
     "start_time": "2024-09-29T10:51:16.105036Z"
    }
   },
   "cell_type": "code",
   "source": [
    "gsecl_ukai_expan = pd.read_excel('Data/Intra State Gen Stations (Forecast)/GSECL Ukai Expan.xlsx')\n",
    "gsecl_ukai_expan = gsecl_ukai_expan.merge(price_data, on='TimeStamp')\n",
    "gsecl_ukai_expan.fillna(0, inplace=True)\n",
    "gsecl_ukai_expan.to_csv('New Data/Intra-State/gsecl_ukai_expan.csv', index=False)\n",
    "gsecl_ukai_expan.isnull().sum()"
   ],
   "id": "4ccc93ad438c8ccb",
   "outputs": [
    {
     "data": {
      "text/plain": [
       "TimeStamp              0\n",
       "Actual                 0\n",
       "Pred                   0\n",
       "Price (Rs/ KWh)        0\n",
       "Pred Price(Rs/ KWh)    0\n",
       "dtype: int64"
      ]
     },
     "execution_count": 67,
     "metadata": {},
     "output_type": "execute_result"
    }
   ],
   "execution_count": 67
  },
  {
   "metadata": {
    "ExecuteTime": {
     "end_time": "2024-09-29T10:53:03.643669Z",
     "start_time": "2024-09-29T10:52:59.650853Z"
    }
   },
   "cell_type": "code",
   "source": [
    "gsecl_ukai_hydro = pd.read_excel('Data/Intra State Gen Stations (Forecast)/GSECL Ukai Hydro.xlsx')\n",
    "gsecl_ukai_hydro = gsecl_ukai_hydro.merge(price_data, on='TimeStamp')\n",
    "gsecl_ukai_hydro.fillna(0, inplace=True)\n",
    "gsecl_ukai_hydro.to_csv('New Data/Intra-State/gsecl_ukai_hydro.csv', index=False)\n",
    "gsecl_ukai_hydro.isnull().sum()"
   ],
   "id": "7cafb4557e1cfdd3",
   "outputs": [
    {
     "data": {
      "text/plain": [
       "TimeStamp              0\n",
       "Actual                 0\n",
       "Pred                   0\n",
       "Unnamed: 3             0\n",
       "Unnamed: 4             0\n",
       "Unnamed: 5             0\n",
       "Unnamed: 6             0\n",
       "Unnamed: 7             0\n",
       "Unnamed: 8             0\n",
       "Unnamed: 9             0\n",
       "Unnamed: 10            0\n",
       "Unnamed: 11            0\n",
       "Unnamed: 12            0\n",
       "Unnamed: 13            0\n",
       "Unnamed: 14            0\n",
       "Unnamed: 15            0\n",
       "Unnamed: 16            0\n",
       "Unnamed: 17            0\n",
       "Price (Rs/ KWh)        0\n",
       "Pred Price(Rs/ KWh)    0\n",
       "dtype: int64"
      ]
     },
     "execution_count": 68,
     "metadata": {},
     "output_type": "execute_result"
    }
   ],
   "execution_count": 68
  },
  {
   "metadata": {
    "ExecuteTime": {
     "end_time": "2024-09-29T10:53:49.113823Z",
     "start_time": "2024-09-29T10:53:45.857345Z"
    }
   },
   "cell_type": "code",
   "source": [
    "gsecl_wanakbori_7 = pd.read_excel('Data/Intra State Gen Stations (Forecast)/GSECL Wanakbori - 7.xlsx')\n",
    "gsecl_wanakbori_7 = gsecl_wanakbori_7.merge(price_data, on='TimeStamp')\n",
    "gsecl_wanakbori_7.fillna(0, inplace=True)\n",
    "gsecl_wanakbori_7.to_csv('New Data/Intra-State/gsecl_wanakbori_7.csv', index=False)\n",
    "gsecl_wanakbori_7.isnull().sum()"
   ],
   "id": "47c9c860e0ea3012",
   "outputs": [
    {
     "data": {
      "text/plain": [
       "TimeStamp              0\n",
       "Actual                 0\n",
       "Pred                   0\n",
       "Price (Rs/ KWh)        0\n",
       "Pred Price(Rs/ KWh)    0\n",
       "dtype: int64"
      ]
     },
     "execution_count": 69,
     "metadata": {},
     "output_type": "execute_result"
    }
   ],
   "execution_count": 69
  },
  {
   "metadata": {
    "ExecuteTime": {
     "end_time": "2024-09-29T10:54:06.751318Z",
     "start_time": "2024-09-29T10:54:03.521381Z"
    }
   },
   "cell_type": "code",
   "source": [
    "gsecl_wanakbori_8 = pd.read_excel('Data/Intra State Gen Stations (Forecast)/GSECL Wanakbori - 8.xlsx')\n",
    "gsecl_wanakbori_8 = gsecl_wanakbori_8.merge(price_data, on='TimeStamp')\n",
    "gsecl_wanakbori_8.fillna(0, inplace=True)\n",
    "gsecl_wanakbori_8.to_csv('New Data/Intra-State/gsecl_wanakbori_8.csv', index=False)\n",
    "gsecl_wanakbori_8.isnull().sum()"
   ],
   "id": "1012d25a736636f0",
   "outputs": [
    {
     "data": {
      "text/plain": [
       "TimeStamp              0\n",
       "Actual                 0\n",
       "Pred                   0\n",
       "Price (Rs/ KWh)        0\n",
       "Pred Price(Rs/ KWh)    0\n",
       "dtype: int64"
      ]
     },
     "execution_count": 70,
     "metadata": {},
     "output_type": "execute_result"
    }
   ],
   "execution_count": 70
  },
  {
   "metadata": {
    "ExecuteTime": {
     "end_time": "2024-09-29T10:54:39.999862Z",
     "start_time": "2024-09-29T10:54:36.801248Z"
    }
   },
   "cell_type": "code",
   "source": [
    "gsecl_wanakbori_1_6 = pd.read_excel('Data/Intra State Gen Stations (Forecast)/GSECL Wanakbori 1-6.xlsx')\n",
    "gsecl_wanakbori_1_6 = gsecl_wanakbori_1_6.merge(price_data, on='TimeStamp')\n",
    "gsecl_wanakbori_1_6.fillna(0, inplace=True)\n",
    "gsecl_wanakbori_1_6.to_csv('New Data/Intra-State/gsecl_wanakbori_1_6.csv', index=False)\n",
    "gsecl_wanakbori_1_6.isnull().sum()"
   ],
   "id": "27e2cb1b89e3a4e2",
   "outputs": [
    {
     "data": {
      "text/plain": [
       "TimeStamp              0\n",
       "Actual                 0\n",
       "Pred                   0\n",
       "Price (Rs/ KWh)        0\n",
       "Pred Price(Rs/ KWh)    0\n",
       "dtype: int64"
      ]
     },
     "execution_count": 71,
     "metadata": {},
     "output_type": "execute_result"
    }
   ],
   "execution_count": 71
  },
  {
   "metadata": {
    "ExecuteTime": {
     "end_time": "2024-09-29T10:56:52.995836Z",
     "start_time": "2024-09-29T10:56:48.460505Z"
    }
   },
   "cell_type": "code",
   "source": [
    "Gujarat_Industries_145_MW = pd.read_excel(\n",
    "    'Data/Intra State Gen Stations (Forecast)/Gujarat Industries Power Co Ltd (145 MW).xlsx')\n",
    "Gujarat_Industries_145_MW = Gujarat_Industries_145_MW.merge(price_data, on='TimeStamp')\n",
    "Gujarat_Industries_145_MW.fillna(0, inplace=True)\n",
    "Gujarat_Industries_145_MW.to_csv('New Data/Intra-State/Gujarat_Industries_145_MW.csv', index=False)\n",
    "Gujarat_Industries_145_MW.isnull().sum()"
   ],
   "id": "29e781492ce12a6c",
   "outputs": [
    {
     "data": {
      "text/plain": [
       "TimeStamp              0\n",
       "Actual                 0\n",
       "Pred                   0\n",
       "Price (Rs/ KWh)        0\n",
       "Pred Price(Rs/ KWh)    0\n",
       "dtype: int64"
      ]
     },
     "execution_count": 72,
     "metadata": {},
     "output_type": "execute_result"
    }
   ],
   "execution_count": 72
  },
  {
   "metadata": {
    "ExecuteTime": {
     "end_time": "2024-09-29T10:57:32.984184Z",
     "start_time": "2024-09-29T10:57:28.629991Z"
    }
   },
   "cell_type": "code",
   "source": [
    "Gujarat_Industries_165_MW = pd.read_excel(\n",
    "    'Data/Intra State Gen Stations (Forecast)/Gujarat Industries Power Co Ltd (165 MW).xlsx')\n",
    "Gujarat_Industries_165_MW = Gujarat_Industries_165_MW.merge(price_data, on='TimeStamp')\n",
    "Gujarat_Industries_165_MW.fillna(0, inplace=True)\n",
    "Gujarat_Industries_165_MW.to_csv('New Data/Intra-State/Gujarat_Industries_165_MW.csv', index=False)\n",
    "Gujarat_Industries_165_MW.isnull().sum()"
   ],
   "id": "5fc5bdb46018f6cc",
   "outputs": [
    {
     "data": {
      "text/plain": [
       "TimeStamp              0\n",
       "Actual                 0\n",
       "Pred                   0\n",
       "Price (Rs/ KWh)        0\n",
       "Pred Price(Rs/ KWh)    0\n",
       "dtype: int64"
      ]
     },
     "execution_count": 73,
     "metadata": {},
     "output_type": "execute_result"
    }
   ],
   "execution_count": 73
  },
  {
   "metadata": {
    "ExecuteTime": {
     "end_time": "2024-09-29T10:58:14.869683Z",
     "start_time": "2024-09-29T10:58:11.635129Z"
    }
   },
   "cell_type": "code",
   "source": [
    "Gujarat_Industries_SLPP = pd.read_excel(\n",
    "    'Data/Intra State Gen Stations (Forecast)/Gujarat Industries Power Co Ltd (SLPP).xlsx')\n",
    "Gujarat_Industries_SLPP = Gujarat_Industries_SLPP.merge(price_data, on='TimeStamp')\n",
    "Gujarat_Industries_SLPP.fillna(0, inplace=True)\n",
    "Gujarat_Industries_SLPP.to_csv('New Data/Intra-State/Gujarat_Industries_SLPP.csv', index=False)\n",
    "Gujarat_Industries_SLPP.isnull().sum()"
   ],
   "id": "f986bdc6aca3500c",
   "outputs": [
    {
     "data": {
      "text/plain": [
       "TimeStamp              0\n",
       "Actual                 0\n",
       "Pred                   0\n",
       "Price (Rs/ KWh)        0\n",
       "Pred Price(Rs/ KWh)    0\n",
       "dtype: int64"
      ]
     },
     "execution_count": 74,
     "metadata": {},
     "output_type": "execute_result"
    }
   ],
   "execution_count": 74
  },
  {
   "metadata": {
    "ExecuteTime": {
     "end_time": "2024-09-29T10:58:55.346094Z",
     "start_time": "2024-09-29T10:58:51.857847Z"
    }
   },
   "cell_type": "code",
   "source": [
    "Gujarat_Industries_SLPP_Exp = pd.read_excel(\n",
    "    'Data/Intra State Gen Stations (Forecast)/Gujarat Industries Power Co Ltd (SLPP - Exp).xlsx')\n",
    "Gujarat_Industries_SLPP_Exp = Gujarat_Industries_SLPP_Exp.merge(price_data, on='TimeStamp')\n",
    "Gujarat_Industries_SLPP_Exp.fillna(0, inplace=True)\n",
    "Gujarat_Industries_SLPP_Exp.to_csv('New Data/Intra-State/Gujarat_Industries_SLPP_Exp.csv', index=False)\n",
    "Gujarat_Industries_SLPP_Exp.isnull().sum()"
   ],
   "id": "869e5897079e083c",
   "outputs": [
    {
     "data": {
      "text/plain": [
       "TimeStamp              0\n",
       "Actual                 0\n",
       "Pred                   0\n",
       "Price (Rs/ KWh)        0\n",
       "Pred Price(Rs/ KWh)    0\n",
       "dtype: int64"
      ]
     },
     "execution_count": 75,
     "metadata": {},
     "output_type": "execute_result"
    }
   ],
   "execution_count": 75
  },
  {
   "metadata": {
    "ExecuteTime": {
     "end_time": "2024-09-29T11:00:06.023561Z",
     "start_time": "2024-09-29T11:00:02.705774Z"
    }
   },
   "cell_type": "code",
   "source": [
    "Gujarat_Mineral_Development_Corporation = pd.read_excel(\n",
    "    'Data/Intra State Gen Stations (Forecast)/Gujarat Mineral Development Corporation.xlsx')\n",
    "Gujarat_Mineral_Development_Corporation = Gujarat_Mineral_Development_Corporation.merge(price_data, on='TimeStamp')\n",
    "Gujarat_Mineral_Development_Corporation.fillna(0, inplace=True)\n",
    "Gujarat_Mineral_Development_Corporation.to_csv('New Data/Intra-State/Gujarat_Mineral_Development_Corporation.csv',\n",
    "                                               index=False)\n",
    "Gujarat_Mineral_Development_Corporation.isnull().sum()"
   ],
   "id": "8e52c7b3ab4589ad",
   "outputs": [
    {
     "data": {
      "text/plain": [
       "TimeStamp              0\n",
       "Actual                 0\n",
       "Pred                   0\n",
       "Price (Rs/ KWh)        0\n",
       "Pred Price(Rs/ KWh)    0\n",
       "dtype: int64"
      ]
     },
     "execution_count": 76,
     "metadata": {},
     "output_type": "execute_result"
    }
   ],
   "execution_count": 76
  },
  {
   "metadata": {
    "ExecuteTime": {
     "end_time": "2024-09-29T11:01:11.161191Z",
     "start_time": "2024-09-29T11:01:07.839873Z"
    }
   },
   "cell_type": "code",
   "source": [
    "Gujarat_State_Energy_Generation = pd.read_excel(\n",
    "    'Data/Intra State Gen Stations (Forecast)/Gujarat State Energy Generation.xlsx')\n",
    "Gujarat_State_Energy_Generation = Gujarat_State_Energy_Generation.merge(price_data, on='TimeStamp')\n",
    "Gujarat_State_Energy_Generation.fillna(0, inplace=True)\n",
    "Gujarat_State_Energy_Generation.to_csv('New Data/Intra-State/Gujarat_State_Energy_Generation.csv', index=False)\n",
    "Gujarat_State_Energy_Generation.isnull().sum()"
   ],
   "id": "d5fb7bd36f8fa368",
   "outputs": [
    {
     "data": {
      "text/plain": [
       "TimeStamp              0\n",
       "Actual                 0\n",
       "Pred                   0\n",
       "Price (Rs/ KWh)        0\n",
       "Pred Price(Rs/ KWh)    0\n",
       "dtype: int64"
      ]
     },
     "execution_count": 77,
     "metadata": {},
     "output_type": "execute_result"
    }
   ],
   "execution_count": 77
  },
  {
   "metadata": {
    "ExecuteTime": {
     "end_time": "2024-09-29T11:01:56.889732Z",
     "start_time": "2024-09-29T11:01:53.711872Z"
    }
   },
   "cell_type": "code",
   "source": [
    "Gujarat_State_Energy_Generation_Exp = pd.read_excel(\n",
    "    'Data/Intra State Gen Stations (Forecast)/Gujarat State Energy Generation Expansion.xlsx')\n",
    "Gujarat_State_Energy_Generation_Exp = Gujarat_State_Energy_Generation_Exp.merge(price_data, on='TimeStamp')\n",
    "Gujarat_State_Energy_Generation_Exp.fillna(0, inplace=True)\n",
    "Gujarat_State_Energy_Generation_Exp.to_csv('New Data/Intra-State/Gujarat_State_Energy_Generation_Exp.csv', index=False)\n",
    "Gujarat_State_Energy_Generation_Exp.isnull().sum()"
   ],
   "id": "bea5030a97ca6535",
   "outputs": [
    {
     "data": {
      "text/plain": [
       "TimeStamp              0\n",
       "Actual                 0\n",
       "Pred                   0\n",
       "Price (Rs/ KWh)        0\n",
       "Pred Price(Rs/ KWh)    0\n",
       "dtype: int64"
      ]
     },
     "execution_count": 79,
     "metadata": {},
     "output_type": "execute_result"
    }
   ],
   "execution_count": 79
  },
  {
   "metadata": {},
   "cell_type": "code",
   "outputs": [],
   "execution_count": null,
   "source": "",
   "id": "5d200f42eb04cf09"
  }
 ],
 "metadata": {
  "kernelspec": {
   "display_name": "Python 3",
   "language": "python",
   "name": "python3"
  },
  "language_info": {
   "codemirror_mode": {
    "name": "ipython",
    "version": 2
   },
   "file_extension": ".py",
   "mimetype": "text/x-python",
   "name": "python",
   "nbconvert_exporter": "python",
   "pygments_lexer": "ipython2",
   "version": "2.7.6"
  }
 },
 "nbformat": 4,
 "nbformat_minor": 5
}
