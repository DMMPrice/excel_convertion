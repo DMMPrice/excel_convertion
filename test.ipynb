{
 "cells": [
  {
   "metadata": {
    "ExecuteTime": {
     "end_time": "2024-12-19T04:23:54.995390Z",
     "start_time": "2024-12-19T04:23:54.984589Z"
    }
   },
   "cell_type": "code",
   "source": [
    "import pandas as pd\n",
    "import numpy as np"
   ],
   "id": "99b942f9277a1fb2",
   "outputs": [
    {
     "ename": "ModuleNotFoundError",
     "evalue": "No module named 'pandas'",
     "output_type": "error",
     "traceback": [
      "\u001B[0;31m---------------------------------------------------------------------------\u001B[0m",
      "\u001B[0;31mModuleNotFoundError\u001B[0m                       Traceback (most recent call last)",
      "Cell \u001B[0;32mIn[10], line 1\u001B[0m\n\u001B[0;32m----> 1\u001B[0m \u001B[38;5;28;01mimport\u001B[39;00m \u001B[38;5;21;01mpandas\u001B[39;00m \u001B[38;5;28;01mas\u001B[39;00m \u001B[38;5;21;01mpd\u001B[39;00m\n\u001B[1;32m      2\u001B[0m \u001B[38;5;28;01mimport\u001B[39;00m \u001B[38;5;21;01mnumpy\u001B[39;00m \u001B[38;5;28;01mas\u001B[39;00m \u001B[38;5;21;01mnp\u001B[39;00m\n",
      "\u001B[0;31mModuleNotFoundError\u001B[0m: No module named 'pandas'"
     ]
    }
   ],
   "execution_count": 10
  },
  {
   "metadata": {
    "ExecuteTime": {
     "end_time": "2024-12-19T04:23:55.043394Z",
     "start_time": "2024-12-19T04:23:55.037127Z"
    }
   },
   "cell_type": "code",
   "source": [
    "price_data = pd.read_excel('Data/Price (Forecast).xlsx')\n",
    "adani_power_bid_1 = pd.read_excel('Data/Inter State Gen Stations (Forecast)/Adani Power (Bid 1).xlsx')\n",
    "adani_power_bid_1"
   ],
   "id": "b5bcadb0f1ceeb29",
   "outputs": [
    {
     "ename": "NameError",
     "evalue": "name 'pd' is not defined",
     "output_type": "error",
     "traceback": [
      "\u001B[0;31m---------------------------------------------------------------------------\u001B[0m",
      "\u001B[0;31mNameError\u001B[0m                                 Traceback (most recent call last)",
      "Cell \u001B[0;32mIn[11], line 1\u001B[0m\n\u001B[0;32m----> 1\u001B[0m price_data \u001B[38;5;241m=\u001B[39m \u001B[43mpd\u001B[49m\u001B[38;5;241m.\u001B[39mread_excel(\u001B[38;5;124m'\u001B[39m\u001B[38;5;124mData/Price (Forecast).xlsx\u001B[39m\u001B[38;5;124m'\u001B[39m)\n\u001B[1;32m      2\u001B[0m adani_power_bid_1 \u001B[38;5;241m=\u001B[39m pd\u001B[38;5;241m.\u001B[39mread_excel(\u001B[38;5;124m'\u001B[39m\u001B[38;5;124mData/Inter State Gen Stations (Forecast)/Adani Power (Bid 1).xlsx\u001B[39m\u001B[38;5;124m'\u001B[39m)\n\u001B[1;32m      3\u001B[0m adani_power_bid_1\n",
      "\u001B[0;31mNameError\u001B[0m: name 'pd' is not defined"
     ]
    }
   ],
   "execution_count": 11
  },
  {
   "metadata": {
    "ExecuteTime": {
     "end_time": "2024-12-19T04:23:55.062552Z",
     "start_time": "2024-12-19T04:23:55.057052Z"
    }
   },
   "cell_type": "code",
   "source": [
    "# Merge the data with price data\n",
    "adani_power_bid_1 = adani_power_bid_1.merge(price_data, on='TimeStamp')\n",
    "adani_power_bid_1"
   ],
   "id": "e7824006a49db507",
   "outputs": [
    {
     "ename": "NameError",
     "evalue": "name 'adani_power_bid_1' is not defined",
     "output_type": "error",
     "traceback": [
      "\u001B[0;31m---------------------------------------------------------------------------\u001B[0m",
      "\u001B[0;31mNameError\u001B[0m                                 Traceback (most recent call last)",
      "Cell \u001B[0;32mIn[12], line 2\u001B[0m\n\u001B[1;32m      1\u001B[0m \u001B[38;5;66;03m# Merge the data with price data\u001B[39;00m\n\u001B[0;32m----> 2\u001B[0m adani_power_bid_1 \u001B[38;5;241m=\u001B[39m \u001B[43madani_power_bid_1\u001B[49m\u001B[38;5;241m.\u001B[39mmerge(price_data, on\u001B[38;5;241m=\u001B[39m\u001B[38;5;124m'\u001B[39m\u001B[38;5;124mTimeStamp\u001B[39m\u001B[38;5;124m'\u001B[39m)\n\u001B[1;32m      3\u001B[0m adani_power_bid_1\n",
      "\u001B[0;31mNameError\u001B[0m: name 'adani_power_bid_1' is not defined"
     ]
    }
   ],
   "execution_count": 12
  },
  {
   "metadata": {
    "ExecuteTime": {
     "end_time": "2024-12-19T04:23:55.118338Z",
     "start_time": "2024-12-19T04:23:55.112890Z"
    }
   },
   "cell_type": "code",
   "source": [
    "adani_power_bid_1.fillna(0, inplace=True)\n",
    "adani_power_bid_1.isnull().sum()\n",
    "adani_power_bid_1.to_csv('New Data/Intra-State/adani_power_bid_1.csv', index=False)"
   ],
   "id": "5dc9f17090c42eb4",
   "outputs": [
    {
     "ename": "NameError",
     "evalue": "name 'adani_power_bid_1' is not defined",
     "output_type": "error",
     "traceback": [
      "\u001B[0;31m---------------------------------------------------------------------------\u001B[0m",
      "\u001B[0;31mNameError\u001B[0m                                 Traceback (most recent call last)",
      "Cell \u001B[0;32mIn[13], line 1\u001B[0m\n\u001B[0;32m----> 1\u001B[0m \u001B[43madani_power_bid_1\u001B[49m\u001B[38;5;241m.\u001B[39mfillna(\u001B[38;5;241m0\u001B[39m, inplace\u001B[38;5;241m=\u001B[39m\u001B[38;5;28;01mTrue\u001B[39;00m)\n\u001B[1;32m      2\u001B[0m adani_power_bid_1\u001B[38;5;241m.\u001B[39misnull()\u001B[38;5;241m.\u001B[39msum()\n\u001B[1;32m      3\u001B[0m adani_power_bid_1\u001B[38;5;241m.\u001B[39mto_csv(\u001B[38;5;124m'\u001B[39m\u001B[38;5;124mNew Data/Intra-State/adani_power_bid_1.csv\u001B[39m\u001B[38;5;124m'\u001B[39m, index\u001B[38;5;241m=\u001B[39m\u001B[38;5;28;01mFalse\u001B[39;00m)\n",
      "\u001B[0;31mNameError\u001B[0m: name 'adani_power_bid_1' is not defined"
     ]
    }
   ],
   "execution_count": 13
  },
  {
   "metadata": {
    "ExecuteTime": {
     "end_time": "2024-12-19T04:23:55.132687Z",
     "start_time": "2024-12-19T04:23:55.126515Z"
    }
   },
   "cell_type": "code",
   "source": [
    "adani_power_bid_2 = pd.read_excel('Data/Inter State Gen Stations (Forecast)/Adani Power (Bid 2).xlsx')\n",
    "adani_power_bid_2 = adani_power_bid_2.merge(price_data, on='TimeStamp')"
   ],
   "id": "1a36274169fe611c",
   "outputs": [
    {
     "ename": "NameError",
     "evalue": "name 'pd' is not defined",
     "output_type": "error",
     "traceback": [
      "\u001B[0;31m---------------------------------------------------------------------------\u001B[0m",
      "\u001B[0;31mNameError\u001B[0m                                 Traceback (most recent call last)",
      "Cell \u001B[0;32mIn[14], line 1\u001B[0m\n\u001B[0;32m----> 1\u001B[0m adani_power_bid_2 \u001B[38;5;241m=\u001B[39m \u001B[43mpd\u001B[49m\u001B[38;5;241m.\u001B[39mread_excel(\u001B[38;5;124m'\u001B[39m\u001B[38;5;124mData/Inter State Gen Stations (Forecast)/Adani Power (Bid 2).xlsx\u001B[39m\u001B[38;5;124m'\u001B[39m)\n\u001B[1;32m      2\u001B[0m adani_power_bid_2 \u001B[38;5;241m=\u001B[39m adani_power_bid_2\u001B[38;5;241m.\u001B[39mmerge(price_data, on\u001B[38;5;241m=\u001B[39m\u001B[38;5;124m'\u001B[39m\u001B[38;5;124mTimeStamp\u001B[39m\u001B[38;5;124m'\u001B[39m)\n",
      "\u001B[0;31mNameError\u001B[0m: name 'pd' is not defined"
     ]
    }
   ],
   "execution_count": 14
  },
  {
   "metadata": {
    "ExecuteTime": {
     "end_time": "2024-12-19T04:23:55.139595Z",
     "start_time": "2024-12-19T04:23:55.133953Z"
    }
   },
   "cell_type": "code",
   "source": [
    "adani_power_bid_2.fillna(0, inplace=True)\n",
    "adani_power_bid_2.isnull().sum()\n",
    "adani_power_bid_2.to_csv('New Data/Inter-State/adani_power_bid_2.csv', index=False)"
   ],
   "id": "4acd465bb9e9c3d4",
   "outputs": [
    {
     "ename": "NameError",
     "evalue": "name 'adani_power_bid_2' is not defined",
     "output_type": "error",
     "traceback": [
      "\u001B[0;31m---------------------------------------------------------------------------\u001B[0m",
      "\u001B[0;31mNameError\u001B[0m                                 Traceback (most recent call last)",
      "Cell \u001B[0;32mIn[15], line 1\u001B[0m\n\u001B[0;32m----> 1\u001B[0m \u001B[43madani_power_bid_2\u001B[49m\u001B[38;5;241m.\u001B[39mfillna(\u001B[38;5;241m0\u001B[39m, inplace\u001B[38;5;241m=\u001B[39m\u001B[38;5;28;01mTrue\u001B[39;00m)\n\u001B[1;32m      2\u001B[0m adani_power_bid_2\u001B[38;5;241m.\u001B[39misnull()\u001B[38;5;241m.\u001B[39msum()\n\u001B[1;32m      3\u001B[0m adani_power_bid_2\u001B[38;5;241m.\u001B[39mto_csv(\u001B[38;5;124m'\u001B[39m\u001B[38;5;124mNew Data/Inter-State/adani_power_bid_2.csv\u001B[39m\u001B[38;5;124m'\u001B[39m, index\u001B[38;5;241m=\u001B[39m\u001B[38;5;28;01mFalse\u001B[39;00m)\n",
      "\u001B[0;31mNameError\u001B[0m: name 'adani_power_bid_2' is not defined"
     ]
    }
   ],
   "execution_count": 15
  },
  {
   "metadata": {
    "ExecuteTime": {
     "end_time": "2024-12-19T04:23:55.150719Z",
     "start_time": "2024-12-19T04:23:55.143725Z"
    }
   },
   "cell_type": "code",
   "source": [
    "dadri = pd.read_excel('Data/Inter State Gen Stations (Forecast)/Dadri.xlsx')\n",
    "dadri = dadri.merge(price_data, on='TimeStamp')\n",
    "dadri.fillna(0, inplace=True)\n",
    "dadri.to_csv('New Data/Inter-State/dadri.csv', index=False)\n",
    "dadri.isnull().sum()"
   ],
   "id": "d34c4d70134d1e57",
   "outputs": [
    {
     "ename": "NameError",
     "evalue": "name 'pd' is not defined",
     "output_type": "error",
     "traceback": [
      "\u001B[0;31m---------------------------------------------------------------------------\u001B[0m",
      "\u001B[0;31mNameError\u001B[0m                                 Traceback (most recent call last)",
      "Cell \u001B[0;32mIn[16], line 1\u001B[0m\n\u001B[0;32m----> 1\u001B[0m dadri \u001B[38;5;241m=\u001B[39m \u001B[43mpd\u001B[49m\u001B[38;5;241m.\u001B[39mread_excel(\u001B[38;5;124m'\u001B[39m\u001B[38;5;124mData/Inter State Gen Stations (Forecast)/Dadri.xlsx\u001B[39m\u001B[38;5;124m'\u001B[39m)\n\u001B[1;32m      2\u001B[0m dadri \u001B[38;5;241m=\u001B[39m dadri\u001B[38;5;241m.\u001B[39mmerge(price_data, on\u001B[38;5;241m=\u001B[39m\u001B[38;5;124m'\u001B[39m\u001B[38;5;124mTimeStamp\u001B[39m\u001B[38;5;124m'\u001B[39m)\n\u001B[1;32m      3\u001B[0m dadri\u001B[38;5;241m.\u001B[39mfillna(\u001B[38;5;241m0\u001B[39m, inplace\u001B[38;5;241m=\u001B[39m\u001B[38;5;28;01mTrue\u001B[39;00m)\n",
      "\u001B[0;31mNameError\u001B[0m: name 'pd' is not defined"
     ]
    }
   ],
   "execution_count": 16
  },
  {
   "metadata": {},
   "cell_type": "code",
   "source": [
    "darlipalli = pd.read_excel('Data/Inter State Gen Stations (Forecast)/Darlipalli.xlsx')\n",
    "darlipalli = darlipalli.merge(price_data, on='TimeStamp')\n",
    "darlipalli.fillna(0, inplace=True)\n",
    "darlipalli.to_csv('New Data/Inter-State/darlipalli.csv', index=False)\n",
    "darlipalli.isnull().sum()"
   ],
   "id": "d213714133eea384",
   "outputs": [],
   "execution_count": null
  },
  {
   "metadata": {
    "ExecuteTime": {
     "end_time": "2024-12-19T04:23:55.169451Z",
     "start_time": "2024-12-19T04:23:55.163565Z"
    }
   },
   "cell_type": "code",
   "source": [
    "farakka_1 = pd.read_excel('Data/Inter State Gen Stations (Forecast)/Farakka1.xlsx')\n",
    "farakka_1 = farakka_1.merge(price_data, on='TimeStamp')\n",
    "farakka_1.fillna(0, inplace=True)\n",
    "farakka_1.to_csv('New Data/Inter-State/farakka_1.csv', index=False)\n",
    "farakka_1.isnull().sum()"
   ],
   "id": "efb988f31b0fc32",
   "outputs": [
    {
     "ename": "NameError",
     "evalue": "name 'pd' is not defined",
     "output_type": "error",
     "traceback": [
      "\u001B[0;31m---------------------------------------------------------------------------\u001B[0m",
      "\u001B[0;31mNameError\u001B[0m                                 Traceback (most recent call last)",
      "Cell \u001B[0;32mIn[17], line 1\u001B[0m\n\u001B[0;32m----> 1\u001B[0m farakka_1 \u001B[38;5;241m=\u001B[39m \u001B[43mpd\u001B[49m\u001B[38;5;241m.\u001B[39mread_excel(\u001B[38;5;124m'\u001B[39m\u001B[38;5;124mData/Inter State Gen Stations (Forecast)/Farakka1.xlsx\u001B[39m\u001B[38;5;124m'\u001B[39m)\n\u001B[1;32m      2\u001B[0m farakka_1 \u001B[38;5;241m=\u001B[39m farakka_1\u001B[38;5;241m.\u001B[39mmerge(price_data, on\u001B[38;5;241m=\u001B[39m\u001B[38;5;124m'\u001B[39m\u001B[38;5;124mTimeStamp\u001B[39m\u001B[38;5;124m'\u001B[39m)\n\u001B[1;32m      3\u001B[0m farakka_1\u001B[38;5;241m.\u001B[39mfillna(\u001B[38;5;241m0\u001B[39m, inplace\u001B[38;5;241m=\u001B[39m\u001B[38;5;28;01mTrue\u001B[39;00m)\n",
      "\u001B[0;31mNameError\u001B[0m: name 'pd' is not defined"
     ]
    }
   ],
   "execution_count": 17
  },
  {
   "metadata": {},
   "cell_type": "code",
   "source": [
    "farakka_3 = pd.read_excel('Data/Inter State Gen Stations (Forecast)/Farakka3.xlsx')\n",
    "farakka_3 = farakka_1.merge(price_data, on='TimeStamp')\n",
    "farakka_3.fillna(0, inplace=True)\n",
    "farakka_3.to_csv('New Data/Inter-State/farakka_3.csv', index=False)\n",
    "farakka_3.isnull().sum()"
   ],
   "id": "bde4b2e861a42e82",
   "outputs": [],
   "execution_count": null
  },
  {
   "metadata": {
    "ExecuteTime": {
     "end_time": "2024-12-19T04:23:55.180017Z",
     "start_time": "2024-12-19T04:23:55.173927Z"
    }
   },
   "cell_type": "code",
   "source": [
    "gadarwara = pd.read_excel('Data/Inter State Gen Stations (Forecast)/Gadarwara.xlsx')\n",
    "gadarwara = gadarwara.merge(price_data, on='TimeStamp')\n",
    "gadarwara.fillna(0, inplace=True)\n",
    "gadarwara.to_csv('New Data/Inter-State/gadarwara.csv', index=False)\n",
    "gadarwara.isnull().sum()"
   ],
   "id": "12b8c43811d9cea7",
   "outputs": [
    {
     "ename": "NameError",
     "evalue": "name 'pd' is not defined",
     "output_type": "error",
     "traceback": [
      "\u001B[0;31m---------------------------------------------------------------------------\u001B[0m",
      "\u001B[0;31mNameError\u001B[0m                                 Traceback (most recent call last)",
      "Cell \u001B[0;32mIn[18], line 1\u001B[0m\n\u001B[0;32m----> 1\u001B[0m gadarwara \u001B[38;5;241m=\u001B[39m \u001B[43mpd\u001B[49m\u001B[38;5;241m.\u001B[39mread_excel(\u001B[38;5;124m'\u001B[39m\u001B[38;5;124mData/Inter State Gen Stations (Forecast)/Gadarwara.xlsx\u001B[39m\u001B[38;5;124m'\u001B[39m)\n\u001B[1;32m      2\u001B[0m gadarwara \u001B[38;5;241m=\u001B[39m gadarwara\u001B[38;5;241m.\u001B[39mmerge(price_data, on\u001B[38;5;241m=\u001B[39m\u001B[38;5;124m'\u001B[39m\u001B[38;5;124mTimeStamp\u001B[39m\u001B[38;5;124m'\u001B[39m)\n\u001B[1;32m      3\u001B[0m gadarwara\u001B[38;5;241m.\u001B[39mfillna(\u001B[38;5;241m0\u001B[39m, inplace\u001B[38;5;241m=\u001B[39m\u001B[38;5;28;01mTrue\u001B[39;00m)\n",
      "\u001B[0;31mNameError\u001B[0m: name 'pd' is not defined"
     ]
    }
   ],
   "execution_count": 18
  },
  {
   "metadata": {
    "ExecuteTime": {
     "end_time": "2024-12-19T04:23:55.180779Z",
     "start_time": "2024-12-19T04:23:55.180724Z"
    }
   },
   "cell_type": "code",
   "source": [
    "jhanor = pd.read_excel('Data/Inter State Gen Stations (Forecast)/Jhanor.xlsx')\n",
    "jhanor = jhanor.merge(price_data, on='TimeStamp')\n",
    "jhanor.fillna(0, inplace=True)\n",
    "jhanor.to_csv('New Data/Inter-State/jhanor.csv', index=False)\n",
    "jhanor.isnull().sum()"
   ],
   "id": "5834cf492a9a53a5",
   "outputs": [],
   "execution_count": null
  },
  {
   "metadata": {
    "ExecuteTime": {
     "end_time": "2024-12-19T04:23:55.188304Z",
     "start_time": "2024-12-19T04:23:55.182378Z"
    }
   },
   "cell_type": "code",
   "source": [
    "kahlagaon_kahalgaon_1 = pd.read_excel('Data/Inter State Gen Stations (Forecast)/Kahlagaon & Kahalgaon1.xlsx')\n",
    "kahlagaon_kahalgaon_1 = kahlagaon_kahalgaon_1.merge(price_data, on='TimeStamp')\n",
    "kahlagaon_kahalgaon_1.fillna(0, inplace=True)\n",
    "kahlagaon_kahalgaon_1.to_csv('New Data/Inter-State/kahlagaon_kahalgaon_1.csv', index=False)\n",
    "kahlagaon_kahalgaon_1.isnull().sum()"
   ],
   "id": "fcad74e32b6789e9",
   "outputs": [
    {
     "ename": "NameError",
     "evalue": "name 'pd' is not defined",
     "output_type": "error",
     "traceback": [
      "\u001B[0;31m---------------------------------------------------------------------------\u001B[0m",
      "\u001B[0;31mNameError\u001B[0m                                 Traceback (most recent call last)",
      "Cell \u001B[0;32mIn[19], line 1\u001B[0m\n\u001B[0;32m----> 1\u001B[0m kahlagaon_kahalgaon_1 \u001B[38;5;241m=\u001B[39m \u001B[43mpd\u001B[49m\u001B[38;5;241m.\u001B[39mread_excel(\u001B[38;5;124m'\u001B[39m\u001B[38;5;124mData/Inter State Gen Stations (Forecast)/Kahlagaon & Kahalgaon1.xlsx\u001B[39m\u001B[38;5;124m'\u001B[39m)\n\u001B[1;32m      2\u001B[0m kahlagaon_kahalgaon_1 \u001B[38;5;241m=\u001B[39m kahlagaon_kahalgaon_1\u001B[38;5;241m.\u001B[39mmerge(price_data, on\u001B[38;5;241m=\u001B[39m\u001B[38;5;124m'\u001B[39m\u001B[38;5;124mTimeStamp\u001B[39m\u001B[38;5;124m'\u001B[39m)\n\u001B[1;32m      3\u001B[0m kahlagaon_kahalgaon_1\u001B[38;5;241m.\u001B[39mfillna(\u001B[38;5;241m0\u001B[39m, inplace\u001B[38;5;241m=\u001B[39m\u001B[38;5;28;01mTrue\u001B[39;00m)\n",
      "\u001B[0;31mNameError\u001B[0m: name 'pd' is not defined"
     ]
    }
   ],
   "execution_count": 19
  },
  {
   "metadata": {},
   "cell_type": "code",
   "source": [
    "kakrapar_3_4 = pd.read_excel('Data/Inter State Gen Stations (Forecast)/Kakrapar 3&4.xlsx')\n",
    "kakrapar_3_4 = kakrapar_3_4.merge(price_data, on='TimeStamp')\n",
    "kakrapar_3_4.fillna(0, inplace=True)\n",
    "kakrapar_3_4.to_csv('New Data/Inter-State/kakrapar_3_4.csv', index=False)\n",
    "kakrapar_3_4.isnull().sum()"
   ],
   "id": "243150f7f2c17e90",
   "outputs": [],
   "execution_count": null
  },
  {
   "metadata": {
    "ExecuteTime": {
     "end_time": "2024-12-19T04:23:55.210992Z",
     "start_time": "2024-12-19T04:23:55.204692Z"
    }
   },
   "cell_type": "code",
   "source": [
    "kawas = pd.read_excel('Data/Inter State Gen Stations (Forecast)/Kawas.xlsx')\n",
    "kawas = kawas.merge(price_data, on='TimeStamp')\n",
    "kawas.fillna(0, inplace=True)\n",
    "kawas.to_csv('New Data/Inter-State/kawas.csv', index=False)\n",
    "kawas.isnull().sum()"
   ],
   "id": "49b39317cb5f5618",
   "outputs": [
    {
     "ename": "NameError",
     "evalue": "name 'pd' is not defined",
     "output_type": "error",
     "traceback": [
      "\u001B[0;31m---------------------------------------------------------------------------\u001B[0m",
      "\u001B[0;31mNameError\u001B[0m                                 Traceback (most recent call last)",
      "Cell \u001B[0;32mIn[20], line 1\u001B[0m\n\u001B[0;32m----> 1\u001B[0m kawas \u001B[38;5;241m=\u001B[39m \u001B[43mpd\u001B[49m\u001B[38;5;241m.\u001B[39mread_excel(\u001B[38;5;124m'\u001B[39m\u001B[38;5;124mData/Inter State Gen Stations (Forecast)/Kawas.xlsx\u001B[39m\u001B[38;5;124m'\u001B[39m)\n\u001B[1;32m      2\u001B[0m kawas \u001B[38;5;241m=\u001B[39m kawas\u001B[38;5;241m.\u001B[39mmerge(price_data, on\u001B[38;5;241m=\u001B[39m\u001B[38;5;124m'\u001B[39m\u001B[38;5;124mTimeStamp\u001B[39m\u001B[38;5;124m'\u001B[39m)\n\u001B[1;32m      3\u001B[0m kawas\u001B[38;5;241m.\u001B[39mfillna(\u001B[38;5;241m0\u001B[39m, inplace\u001B[38;5;241m=\u001B[39m\u001B[38;5;28;01mTrue\u001B[39;00m)\n",
      "\u001B[0;31mNameError\u001B[0m: name 'pd' is not defined"
     ]
    }
   ],
   "execution_count": 20
  },
  {
   "metadata": {
    "ExecuteTime": {
     "end_time": "2024-12-19T04:23:55.211671Z",
     "start_time": "2024-12-19T04:23:55.211627Z"
    }
   },
   "cell_type": "code",
   "source": [
    "khargone = pd.read_excel('Data/Inter State Gen Stations (Forecast)/Khargone.xlsx')\n",
    "khargone = khargone.merge(price_data, on='TimeStamp')\n",
    "khargone.fillna(0, inplace=True)\n",
    "khargone.to_csv('New Data/Inter-State/khargone.csv', index=False)\n",
    "khargone.isnull().sum()"
   ],
   "id": "b1aa39e04256e47a",
   "outputs": [],
   "execution_count": null
  },
  {
   "metadata": {
    "ExecuteTime": {
     "end_time": "2024-12-19T04:23:55.219597Z",
     "start_time": "2024-12-19T04:23:55.213693Z"
    }
   },
   "cell_type": "code",
   "source": [
    "korba_1 = pd.read_excel('Data/Inter State Gen Stations (Forecast)/Korba1.xlsx')\n",
    "korba_1 = korba_1.merge(price_data, on='TimeStamp')\n",
    "korba_1.fillna(0, inplace=True)\n",
    "korba_1.to_csv('New Data/Inter-State/korba_1.csv', index=False)\n",
    "korba_1.isnull().sum()"
   ],
   "id": "a003c1227304c997",
   "outputs": [
    {
     "ename": "NameError",
     "evalue": "name 'pd' is not defined",
     "output_type": "error",
     "traceback": [
      "\u001B[0;31m---------------------------------------------------------------------------\u001B[0m",
      "\u001B[0;31mNameError\u001B[0m                                 Traceback (most recent call last)",
      "Cell \u001B[0;32mIn[21], line 1\u001B[0m\n\u001B[0;32m----> 1\u001B[0m korba_1 \u001B[38;5;241m=\u001B[39m \u001B[43mpd\u001B[49m\u001B[38;5;241m.\u001B[39mread_excel(\u001B[38;5;124m'\u001B[39m\u001B[38;5;124mData/Inter State Gen Stations (Forecast)/Korba1.xlsx\u001B[39m\u001B[38;5;124m'\u001B[39m)\n\u001B[1;32m      2\u001B[0m korba_1 \u001B[38;5;241m=\u001B[39m korba_1\u001B[38;5;241m.\u001B[39mmerge(price_data, on\u001B[38;5;241m=\u001B[39m\u001B[38;5;124m'\u001B[39m\u001B[38;5;124mTimeStamp\u001B[39m\u001B[38;5;124m'\u001B[39m)\n\u001B[1;32m      3\u001B[0m korba_1\u001B[38;5;241m.\u001B[39mfillna(\u001B[38;5;241m0\u001B[39m, inplace\u001B[38;5;241m=\u001B[39m\u001B[38;5;28;01mTrue\u001B[39;00m)\n",
      "\u001B[0;31mNameError\u001B[0m: name 'pd' is not defined"
     ]
    }
   ],
   "execution_count": 21
  },
  {
   "metadata": {
    "ExecuteTime": {
     "end_time": "2024-12-19T04:23:55.227462Z",
     "start_time": "2024-12-19T04:23:55.220957Z"
    }
   },
   "cell_type": "code",
   "source": [
    "korba_2 = pd.read_excel('Data/Inter State Gen Stations (Forecast)/Korba2.xlsx')\n",
    "korba_2 = korba_2.merge(price_data, on='TimeStamp')\n",
    "korba_2.fillna(0, inplace=True)\n",
    "korba_2.to_csv('New Data/Inter-State/korba_2.csv', index=False)\n",
    "korba_2.isnull().sum()"
   ],
   "id": "e4ad8c05e2b60df8",
   "outputs": [
    {
     "ename": "NameError",
     "evalue": "name 'pd' is not defined",
     "output_type": "error",
     "traceback": [
      "\u001B[0;31m---------------------------------------------------------------------------\u001B[0m",
      "\u001B[0;31mNameError\u001B[0m                                 Traceback (most recent call last)",
      "Cell \u001B[0;32mIn[22], line 1\u001B[0m\n\u001B[0;32m----> 1\u001B[0m korba_2 \u001B[38;5;241m=\u001B[39m \u001B[43mpd\u001B[49m\u001B[38;5;241m.\u001B[39mread_excel(\u001B[38;5;124m'\u001B[39m\u001B[38;5;124mData/Inter State Gen Stations (Forecast)/Korba2.xlsx\u001B[39m\u001B[38;5;124m'\u001B[39m)\n\u001B[1;32m      2\u001B[0m korba_2 \u001B[38;5;241m=\u001B[39m korba_2\u001B[38;5;241m.\u001B[39mmerge(price_data, on\u001B[38;5;241m=\u001B[39m\u001B[38;5;124m'\u001B[39m\u001B[38;5;124mTimeStamp\u001B[39m\u001B[38;5;124m'\u001B[39m)\n\u001B[1;32m      3\u001B[0m korba_2\u001B[38;5;241m.\u001B[39mfillna(\u001B[38;5;241m0\u001B[39m, inplace\u001B[38;5;241m=\u001B[39m\u001B[38;5;28;01mTrue\u001B[39;00m)\n",
      "\u001B[0;31mNameError\u001B[0m: name 'pd' is not defined"
     ]
    }
   ],
   "execution_count": 22
  },
  {
   "metadata": {},
   "cell_type": "code",
   "source": [
    "lara = pd.read_excel('Data/Inter State Gen Stations (Forecast)/Lara.xlsx')\n",
    "lara = korba_2.merge(price_data, on='TimeStamp')\n",
    "lara.fillna(0, inplace=True)\n",
    "lara.to_csv('New Data/Inter-State/lara.csv', index=False)\n",
    "lara.isnull().sum()"
   ],
   "id": "67fe205f542e94aa",
   "outputs": [],
   "execution_count": null
  },
  {
   "metadata": {
    "ExecuteTime": {
     "end_time": "2024-12-19T04:23:55.237920Z",
     "start_time": "2024-12-19T04:23:55.231731Z"
    }
   },
   "cell_type": "code",
   "source": [
    "mauda = pd.read_excel('Data/Inter State Gen Stations (Forecast)/Mauda.xlsx')\n",
    "mauda = mauda.merge(price_data, on='TimeStamp')\n",
    "mauda.fillna(0, inplace=True)\n",
    "mauda.to_csv('New Data/Inter-State/mauda.csv', index=False)\n",
    "mauda.isnull().sum()"
   ],
   "id": "b08bd6f765b106ad",
   "outputs": [
    {
     "ename": "NameError",
     "evalue": "name 'pd' is not defined",
     "output_type": "error",
     "traceback": [
      "\u001B[0;31m---------------------------------------------------------------------------\u001B[0m",
      "\u001B[0;31mNameError\u001B[0m                                 Traceback (most recent call last)",
      "Cell \u001B[0;32mIn[23], line 1\u001B[0m\n\u001B[0;32m----> 1\u001B[0m mauda \u001B[38;5;241m=\u001B[39m \u001B[43mpd\u001B[49m\u001B[38;5;241m.\u001B[39mread_excel(\u001B[38;5;124m'\u001B[39m\u001B[38;5;124mData/Inter State Gen Stations (Forecast)/Mauda.xlsx\u001B[39m\u001B[38;5;124m'\u001B[39m)\n\u001B[1;32m      2\u001B[0m mauda \u001B[38;5;241m=\u001B[39m mauda\u001B[38;5;241m.\u001B[39mmerge(price_data, on\u001B[38;5;241m=\u001B[39m\u001B[38;5;124m'\u001B[39m\u001B[38;5;124mTimeStamp\u001B[39m\u001B[38;5;124m'\u001B[39m)\n\u001B[1;32m      3\u001B[0m mauda\u001B[38;5;241m.\u001B[39mfillna(\u001B[38;5;241m0\u001B[39m, inplace\u001B[38;5;241m=\u001B[39m\u001B[38;5;28;01mTrue\u001B[39;00m)\n",
      "\u001B[0;31mNameError\u001B[0m: name 'pd' is not defined"
     ]
    }
   ],
   "execution_count": 23
  },
  {
   "metadata": {
    "ExecuteTime": {
     "end_time": "2024-12-19T04:23:55.257140Z",
     "start_time": "2024-12-19T04:23:55.245695Z"
    }
   },
   "cell_type": "code",
   "source": [
    "mauda_2 = pd.read_excel('Data/Inter State Gen Stations (Forecast)/Mauda2.xlsx')\n",
    "mauda_2 = mauda_2.merge(price_data, on='TimeStamp')\n",
    "mauda_2.fillna(0, inplace=True)\n",
    "mauda_2.to_csv('New Data/Inter-State/mauda_2.csv', index=False)\n",
    "mauda_2.isnull().sum()"
   ],
   "id": "c3a8595062fd5f42",
   "outputs": [
    {
     "ename": "NameError",
     "evalue": "name 'pd' is not defined",
     "output_type": "error",
     "traceback": [
      "\u001B[0;31m---------------------------------------------------------------------------\u001B[0m",
      "\u001B[0;31mNameError\u001B[0m                                 Traceback (most recent call last)",
      "Cell \u001B[0;32mIn[24], line 1\u001B[0m\n\u001B[0;32m----> 1\u001B[0m mauda_2 \u001B[38;5;241m=\u001B[39m \u001B[43mpd\u001B[49m\u001B[38;5;241m.\u001B[39mread_excel(\u001B[38;5;124m'\u001B[39m\u001B[38;5;124mData/Inter State Gen Stations (Forecast)/Mauda2.xlsx\u001B[39m\u001B[38;5;124m'\u001B[39m)\n\u001B[1;32m      2\u001B[0m mauda_2 \u001B[38;5;241m=\u001B[39m mauda_2\u001B[38;5;241m.\u001B[39mmerge(price_data, on\u001B[38;5;241m=\u001B[39m\u001B[38;5;124m'\u001B[39m\u001B[38;5;124mTimeStamp\u001B[39m\u001B[38;5;124m'\u001B[39m)\n\u001B[1;32m      3\u001B[0m mauda_2\u001B[38;5;241m.\u001B[39mfillna(\u001B[38;5;241m0\u001B[39m, inplace\u001B[38;5;241m=\u001B[39m\u001B[38;5;28;01mTrue\u001B[39;00m)\n",
      "\u001B[0;31mNameError\u001B[0m: name 'pd' is not defined"
     ]
    }
   ],
   "execution_count": 24
  },
  {
   "metadata": {
    "ExecuteTime": {
     "end_time": "2024-12-19T04:23:55.270824Z",
     "start_time": "2024-12-19T04:23:55.259212Z"
    }
   },
   "cell_type": "code",
   "source": [
    "sipat_1 = pd.read_excel('Data/Inter State Gen Stations (Forecast)/Sipat1.xlsx')\n",
    "sipat_1 = sipat_1.merge(price_data, on='TimeStamp')\n",
    "sipat_1.fillna(0, inplace=True)\n",
    "sipat_1.to_csv('New Data/Inter-State/sipat_1.csv', index=False)\n",
    "sipat_1.isnull().sum()"
   ],
   "id": "85b7b9c8e9fa45d7",
   "outputs": [
    {
     "ename": "NameError",
     "evalue": "name 'pd' is not defined",
     "output_type": "error",
     "traceback": [
      "\u001B[0;31m---------------------------------------------------------------------------\u001B[0m",
      "\u001B[0;31mNameError\u001B[0m                                 Traceback (most recent call last)",
      "Cell \u001B[0;32mIn[25], line 1\u001B[0m\n\u001B[0;32m----> 1\u001B[0m sipat_1 \u001B[38;5;241m=\u001B[39m \u001B[43mpd\u001B[49m\u001B[38;5;241m.\u001B[39mread_excel(\u001B[38;5;124m'\u001B[39m\u001B[38;5;124mData/Inter State Gen Stations (Forecast)/Sipat1.xlsx\u001B[39m\u001B[38;5;124m'\u001B[39m)\n\u001B[1;32m      2\u001B[0m sipat_1 \u001B[38;5;241m=\u001B[39m sipat_1\u001B[38;5;241m.\u001B[39mmerge(price_data, on\u001B[38;5;241m=\u001B[39m\u001B[38;5;124m'\u001B[39m\u001B[38;5;124mTimeStamp\u001B[39m\u001B[38;5;124m'\u001B[39m)\n\u001B[1;32m      3\u001B[0m sipat_1\u001B[38;5;241m.\u001B[39mfillna(\u001B[38;5;241m0\u001B[39m, inplace\u001B[38;5;241m=\u001B[39m\u001B[38;5;28;01mTrue\u001B[39;00m)\n",
      "\u001B[0;31mNameError\u001B[0m: name 'pd' is not defined"
     ]
    }
   ],
   "execution_count": 25
  },
  {
   "metadata": {},
   "cell_type": "code",
   "source": [
    "sipat_2 = pd.read_excel('Data/Inter State Gen Stations (Forecast)/Sipat2.xlsx')\n",
    "sipat_2 = sipat_2.merge(price_data, on='TimeStamp')\n",
    "sipat_2.fillna(0, inplace=True)\n",
    "sipat_2.to_csv('New Data/Inter-State/sipat_2.csv', index=False)\n",
    "sipat_2.isnull().sum()"
   ],
   "id": "e7953db0ed2dcab6",
   "outputs": [],
   "execution_count": null
  },
  {
   "metadata": {
    "ExecuteTime": {
     "end_time": "2024-12-19T04:23:55.302875Z",
     "start_time": "2024-12-19T04:23:55.290164Z"
    }
   },
   "cell_type": "code",
   "source": [
    "solapur = pd.read_excel('Data/Inter State Gen Stations (Forecast)/Solapur.xlsx')\n",
    "solapur = solapur.merge(price_data, on='TimeStamp')\n",
    "solapur.fillna(0, inplace=True)\n",
    "solapur.to_csv('New Data/Inter-State/solapur.csv', index=False)\n",
    "solapur.isnull().sum()"
   ],
   "id": "4f4be980a08531ff",
   "outputs": [
    {
     "ename": "NameError",
     "evalue": "name 'pd' is not defined",
     "output_type": "error",
     "traceback": [
      "\u001B[0;31m---------------------------------------------------------------------------\u001B[0m",
      "\u001B[0;31mNameError\u001B[0m                                 Traceback (most recent call last)",
      "Cell \u001B[0;32mIn[26], line 1\u001B[0m\n\u001B[0;32m----> 1\u001B[0m solapur \u001B[38;5;241m=\u001B[39m \u001B[43mpd\u001B[49m\u001B[38;5;241m.\u001B[39mread_excel(\u001B[38;5;124m'\u001B[39m\u001B[38;5;124mData/Inter State Gen Stations (Forecast)/Solapur.xlsx\u001B[39m\u001B[38;5;124m'\u001B[39m)\n\u001B[1;32m      2\u001B[0m solapur \u001B[38;5;241m=\u001B[39m solapur\u001B[38;5;241m.\u001B[39mmerge(price_data, on\u001B[38;5;241m=\u001B[39m\u001B[38;5;124m'\u001B[39m\u001B[38;5;124mTimeStamp\u001B[39m\u001B[38;5;124m'\u001B[39m)\n\u001B[1;32m      3\u001B[0m solapur\u001B[38;5;241m.\u001B[39mfillna(\u001B[38;5;241m0\u001B[39m, inplace\u001B[38;5;241m=\u001B[39m\u001B[38;5;28;01mTrue\u001B[39;00m)\n",
      "\u001B[0;31mNameError\u001B[0m: name 'pd' is not defined"
     ]
    }
   ],
   "execution_count": 26
  },
  {
   "metadata": {
    "ExecuteTime": {
     "end_time": "2024-12-19T04:23:55.311343Z",
     "start_time": "2024-12-19T04:23:55.304502Z"
    }
   },
   "cell_type": "code",
   "source": [
    "ssnnl = pd.read_excel('Data/Inter State Gen Stations (Forecast)/SSNNL.xlsx')\n",
    "ssnnl = ssnnl.merge(price_data, on='TimeStamp')\n",
    "ssnnl.fillna(0, inplace=True)\n",
    "ssnnl.to_csv('New Data/Inter-State/ssnnl.csv', index=False)\n",
    "ssnnl.isnull().sum()"
   ],
   "id": "72c679c8a80377b3",
   "outputs": [
    {
     "ename": "NameError",
     "evalue": "name 'pd' is not defined",
     "output_type": "error",
     "traceback": [
      "\u001B[0;31m---------------------------------------------------------------------------\u001B[0m",
      "\u001B[0;31mNameError\u001B[0m                                 Traceback (most recent call last)",
      "Cell \u001B[0;32mIn[27], line 1\u001B[0m\n\u001B[0;32m----> 1\u001B[0m ssnnl \u001B[38;5;241m=\u001B[39m \u001B[43mpd\u001B[49m\u001B[38;5;241m.\u001B[39mread_excel(\u001B[38;5;124m'\u001B[39m\u001B[38;5;124mData/Inter State Gen Stations (Forecast)/SSNNL.xlsx\u001B[39m\u001B[38;5;124m'\u001B[39m)\n\u001B[1;32m      2\u001B[0m ssnnl \u001B[38;5;241m=\u001B[39m ssnnl\u001B[38;5;241m.\u001B[39mmerge(price_data, on\u001B[38;5;241m=\u001B[39m\u001B[38;5;124m'\u001B[39m\u001B[38;5;124mTimeStamp\u001B[39m\u001B[38;5;124m'\u001B[39m)\n\u001B[1;32m      3\u001B[0m ssnnl\u001B[38;5;241m.\u001B[39mfillna(\u001B[38;5;241m0\u001B[39m, inplace\u001B[38;5;241m=\u001B[39m\u001B[38;5;28;01mTrue\u001B[39;00m)\n",
      "\u001B[0;31mNameError\u001B[0m: name 'pd' is not defined"
     ]
    }
   ],
   "execution_count": 27
  },
  {
   "metadata": {
    "ExecuteTime": {
     "end_time": "2024-12-19T04:23:55.320081Z",
     "start_time": "2024-12-19T04:23:55.312938Z"
    }
   },
   "cell_type": "code",
   "source": [
    "talcher = pd.read_excel('Data/Inter State Gen Stations (Forecast)/Talcher.xlsx')\n",
    "talcher = talcher.merge(price_data, on='TimeStamp')\n",
    "talcher.fillna(0, inplace=True)\n",
    "talcher.to_csv('New Data/Inter-State/talcher.csv', index=False)\n",
    "talcher.isnull().sum()"
   ],
   "id": "7d68c14cd1d2f20",
   "outputs": [
    {
     "ename": "NameError",
     "evalue": "name 'pd' is not defined",
     "output_type": "error",
     "traceback": [
      "\u001B[0;31m---------------------------------------------------------------------------\u001B[0m",
      "\u001B[0;31mNameError\u001B[0m                                 Traceback (most recent call last)",
      "Cell \u001B[0;32mIn[28], line 1\u001B[0m\n\u001B[0;32m----> 1\u001B[0m talcher \u001B[38;5;241m=\u001B[39m \u001B[43mpd\u001B[49m\u001B[38;5;241m.\u001B[39mread_excel(\u001B[38;5;124m'\u001B[39m\u001B[38;5;124mData/Inter State Gen Stations (Forecast)/Talcher.xlsx\u001B[39m\u001B[38;5;124m'\u001B[39m)\n\u001B[1;32m      2\u001B[0m talcher \u001B[38;5;241m=\u001B[39m talcher\u001B[38;5;241m.\u001B[39mmerge(price_data, on\u001B[38;5;241m=\u001B[39m\u001B[38;5;124m'\u001B[39m\u001B[38;5;124mTimeStamp\u001B[39m\u001B[38;5;124m'\u001B[39m)\n\u001B[1;32m      3\u001B[0m talcher\u001B[38;5;241m.\u001B[39mfillna(\u001B[38;5;241m0\u001B[39m, inplace\u001B[38;5;241m=\u001B[39m\u001B[38;5;28;01mTrue\u001B[39;00m)\n",
      "\u001B[0;31mNameError\u001B[0m: name 'pd' is not defined"
     ]
    }
   ],
   "execution_count": 28
  },
  {
   "metadata": {
    "ExecuteTime": {
     "end_time": "2024-12-19T04:23:55.341029Z",
     "start_time": "2024-12-19T04:23:55.332043Z"
    }
   },
   "cell_type": "code",
   "source": [
    "tanda_2 = pd.read_excel('Data/Inter State Gen Stations (Forecast)/Tanda2.xlsx')\n",
    "tanda_2 = tanda_2.merge(price_data, on='TimeStamp')\n",
    "tanda_2.fillna(0, inplace=True)\n",
    "tanda_2.to_csv('New Data/Inter-State/tanda_2.csv', index=False)\n",
    "tanda_2.isnull().sum()"
   ],
   "id": "df6be3da72980bbf",
   "outputs": [
    {
     "ename": "NameError",
     "evalue": "name 'pd' is not defined",
     "output_type": "error",
     "traceback": [
      "\u001B[0;31m---------------------------------------------------------------------------\u001B[0m",
      "\u001B[0;31mNameError\u001B[0m                                 Traceback (most recent call last)",
      "Cell \u001B[0;32mIn[29], line 1\u001B[0m\n\u001B[0;32m----> 1\u001B[0m tanda_2 \u001B[38;5;241m=\u001B[39m \u001B[43mpd\u001B[49m\u001B[38;5;241m.\u001B[39mread_excel(\u001B[38;5;124m'\u001B[39m\u001B[38;5;124mData/Inter State Gen Stations (Forecast)/Tanda2.xlsx\u001B[39m\u001B[38;5;124m'\u001B[39m)\n\u001B[1;32m      2\u001B[0m tanda_2 \u001B[38;5;241m=\u001B[39m tanda_2\u001B[38;5;241m.\u001B[39mmerge(price_data, on\u001B[38;5;241m=\u001B[39m\u001B[38;5;124m'\u001B[39m\u001B[38;5;124mTimeStamp\u001B[39m\u001B[38;5;124m'\u001B[39m)\n\u001B[1;32m      3\u001B[0m tanda_2\u001B[38;5;241m.\u001B[39mfillna(\u001B[38;5;241m0\u001B[39m, inplace\u001B[38;5;241m=\u001B[39m\u001B[38;5;28;01mTrue\u001B[39;00m)\n",
      "\u001B[0;31mNameError\u001B[0m: name 'pd' is not defined"
     ]
    }
   ],
   "execution_count": 29
  },
  {
   "metadata": {
    "ExecuteTime": {
     "end_time": "2024-12-19T04:23:55.347900Z",
     "start_time": "2024-12-19T04:23:55.341934Z"
    }
   },
   "cell_type": "code",
   "source": [
    "tarapur_3_4 = pd.read_excel('Data/Inter State Gen Stations (Forecast)/Tarapur 3&4.xlsx')\n",
    "tarapur_3_4 = tarapur_3_4.merge(price_data, on='TimeStamp')\n",
    "tarapur_3_4.fillna(0, inplace=True)\n",
    "tarapur_3_4.to_csv('New Data/Inter-State/tarapur_3_4.csv', index=False)\n",
    "tarapur_3_4.isnull().sum()"
   ],
   "id": "e2af41b9573c7112",
   "outputs": [
    {
     "ename": "NameError",
     "evalue": "name 'pd' is not defined",
     "output_type": "error",
     "traceback": [
      "\u001B[0;31m---------------------------------------------------------------------------\u001B[0m",
      "\u001B[0;31mNameError\u001B[0m                                 Traceback (most recent call last)",
      "Cell \u001B[0;32mIn[30], line 1\u001B[0m\n\u001B[0;32m----> 1\u001B[0m tarapur_3_4 \u001B[38;5;241m=\u001B[39m \u001B[43mpd\u001B[49m\u001B[38;5;241m.\u001B[39mread_excel(\u001B[38;5;124m'\u001B[39m\u001B[38;5;124mData/Inter State Gen Stations (Forecast)/Tarapur 3&4.xlsx\u001B[39m\u001B[38;5;124m'\u001B[39m)\n\u001B[1;32m      2\u001B[0m tarapur_3_4 \u001B[38;5;241m=\u001B[39m tarapur_3_4\u001B[38;5;241m.\u001B[39mmerge(price_data, on\u001B[38;5;241m=\u001B[39m\u001B[38;5;124m'\u001B[39m\u001B[38;5;124mTimeStamp\u001B[39m\u001B[38;5;124m'\u001B[39m)\n\u001B[1;32m      3\u001B[0m tarapur_3_4\u001B[38;5;241m.\u001B[39mfillna(\u001B[38;5;241m0\u001B[39m, inplace\u001B[38;5;241m=\u001B[39m\u001B[38;5;28;01mTrue\u001B[39;00m)\n",
      "\u001B[0;31mNameError\u001B[0m: name 'pd' is not defined"
     ]
    }
   ],
   "execution_count": 30
  },
  {
   "metadata": {
    "ExecuteTime": {
     "end_time": "2024-12-19T04:23:55.355639Z",
     "start_time": "2024-12-19T04:23:55.348739Z"
    }
   },
   "cell_type": "code",
   "source": [
    "unchahar_1 = pd.read_excel('Data/Inter State Gen Stations (Forecast)/Unchahar1.xlsx')\n",
    "unchahar_1 = unchahar_1.merge(price_data, on='TimeStamp')\n",
    "unchahar_1.fillna(0, inplace=True)\n",
    "unchahar_1.to_csv('New Data/Inter-State/unchahar_1.csv', index=False)\n",
    "unchahar_1.isnull().sum()"
   ],
   "id": "359e46c313002259",
   "outputs": [
    {
     "ename": "NameError",
     "evalue": "name 'pd' is not defined",
     "output_type": "error",
     "traceback": [
      "\u001B[0;31m---------------------------------------------------------------------------\u001B[0m",
      "\u001B[0;31mNameError\u001B[0m                                 Traceback (most recent call last)",
      "Cell \u001B[0;32mIn[31], line 1\u001B[0m\n\u001B[0;32m----> 1\u001B[0m unchahar_1 \u001B[38;5;241m=\u001B[39m \u001B[43mpd\u001B[49m\u001B[38;5;241m.\u001B[39mread_excel(\u001B[38;5;124m'\u001B[39m\u001B[38;5;124mData/Inter State Gen Stations (Forecast)/Unchahar1.xlsx\u001B[39m\u001B[38;5;124m'\u001B[39m)\n\u001B[1;32m      2\u001B[0m unchahar_1 \u001B[38;5;241m=\u001B[39m unchahar_1\u001B[38;5;241m.\u001B[39mmerge(price_data, on\u001B[38;5;241m=\u001B[39m\u001B[38;5;124m'\u001B[39m\u001B[38;5;124mTimeStamp\u001B[39m\u001B[38;5;124m'\u001B[39m)\n\u001B[1;32m      3\u001B[0m unchahar_1\u001B[38;5;241m.\u001B[39mfillna(\u001B[38;5;241m0\u001B[39m, inplace\u001B[38;5;241m=\u001B[39m\u001B[38;5;28;01mTrue\u001B[39;00m)\n",
      "\u001B[0;31mNameError\u001B[0m: name 'pd' is not defined"
     ]
    }
   ],
   "execution_count": 31
  },
  {
   "metadata": {
    "ExecuteTime": {
     "end_time": "2024-12-19T04:23:55.372162Z",
     "start_time": "2024-12-19T04:23:55.365548Z"
    }
   },
   "cell_type": "code",
   "source": [
    "vidyanchal_1 = pd.read_excel('Data/Inter State Gen Stations (Forecast)/Vidyanchal1.xlsx')\n",
    "# vidyanchal_1 = vidyanchal_1.merge(price_data, on='TimeStamp')\n",
    "vidyanchal_1.fillna(0, inplace=True)\n",
    "vidyanchal_1.to_csv('New Data/Inter-State/vidyanchal_1.csv', index=False)\n",
    "vidyanchal_1.isnull().sum()"
   ],
   "id": "d65ab6c6e741adb",
   "outputs": [
    {
     "ename": "NameError",
     "evalue": "name 'pd' is not defined",
     "output_type": "error",
     "traceback": [
      "\u001B[0;31m---------------------------------------------------------------------------\u001B[0m",
      "\u001B[0;31mNameError\u001B[0m                                 Traceback (most recent call last)",
      "Cell \u001B[0;32mIn[32], line 1\u001B[0m\n\u001B[0;32m----> 1\u001B[0m vidyanchal_1 \u001B[38;5;241m=\u001B[39m \u001B[43mpd\u001B[49m\u001B[38;5;241m.\u001B[39mread_excel(\u001B[38;5;124m'\u001B[39m\u001B[38;5;124mData/Inter State Gen Stations (Forecast)/Vidyanchal1.xlsx\u001B[39m\u001B[38;5;124m'\u001B[39m)\n\u001B[1;32m      2\u001B[0m \u001B[38;5;66;03m# vidyanchal_1 = vidyanchal_1.merge(price_data, on='TimeStamp')\u001B[39;00m\n\u001B[1;32m      3\u001B[0m vidyanchal_1\u001B[38;5;241m.\u001B[39mfillna(\u001B[38;5;241m0\u001B[39m, inplace\u001B[38;5;241m=\u001B[39m\u001B[38;5;28;01mTrue\u001B[39;00m)\n",
      "\u001B[0;31mNameError\u001B[0m: name 'pd' is not defined"
     ]
    }
   ],
   "execution_count": 32
  },
  {
   "metadata": {
    "ExecuteTime": {
     "end_time": "2024-12-19T04:23:55.381842Z",
     "start_time": "2024-12-19T04:23:55.375548Z"
    }
   },
   "cell_type": "code",
   "source": [
    "vidyanchal_2 = pd.read_excel('Data/Inter State Gen Stations (Forecast)/Vidyanchal2.xlsx')\n",
    "vidyanchal_2 = vidyanchal_2.merge(price_data, on='TimeStamp')\n",
    "vidyanchal_2.fillna(0, inplace=True)\n",
    "vidyanchal_2.to_csv('New Data/Inter-State/vidyanchal_2.csv', index=False)\n",
    "vidyanchal_2.isnull().sum()"
   ],
   "id": "50f4585d6157f4e5",
   "outputs": [
    {
     "ename": "NameError",
     "evalue": "name 'pd' is not defined",
     "output_type": "error",
     "traceback": [
      "\u001B[0;31m---------------------------------------------------------------------------\u001B[0m",
      "\u001B[0;31mNameError\u001B[0m                                 Traceback (most recent call last)",
      "Cell \u001B[0;32mIn[33], line 1\u001B[0m\n\u001B[0;32m----> 1\u001B[0m vidyanchal_2 \u001B[38;5;241m=\u001B[39m \u001B[43mpd\u001B[49m\u001B[38;5;241m.\u001B[39mread_excel(\u001B[38;5;124m'\u001B[39m\u001B[38;5;124mData/Inter State Gen Stations (Forecast)/Vidyanchal2.xlsx\u001B[39m\u001B[38;5;124m'\u001B[39m)\n\u001B[1;32m      2\u001B[0m vidyanchal_2 \u001B[38;5;241m=\u001B[39m vidyanchal_2\u001B[38;5;241m.\u001B[39mmerge(price_data, on\u001B[38;5;241m=\u001B[39m\u001B[38;5;124m'\u001B[39m\u001B[38;5;124mTimeStamp\u001B[39m\u001B[38;5;124m'\u001B[39m)\n\u001B[1;32m      3\u001B[0m vidyanchal_2\u001B[38;5;241m.\u001B[39mfillna(\u001B[38;5;241m0\u001B[39m, inplace\u001B[38;5;241m=\u001B[39m\u001B[38;5;28;01mTrue\u001B[39;00m)\n",
      "\u001B[0;31mNameError\u001B[0m: name 'pd' is not defined"
     ]
    }
   ],
   "execution_count": 33
  },
  {
   "metadata": {
    "ExecuteTime": {
     "end_time": "2024-12-19T04:23:55.390524Z",
     "start_time": "2024-12-19T04:23:55.384007Z"
    }
   },
   "cell_type": "code",
   "source": [
    "vidyanchal_3 = pd.read_excel('Data/Inter State Gen Stations (Forecast)/Vidyanchal3.xlsx')\n",
    "vidyanchal_3 = vidyanchal_3.merge(price_data, on='TimeStamp')\n",
    "vidyanchal_3.fillna(0, inplace=True)\n",
    "vidyanchal_3.to_csv('New Data/Inter-State/vidyanchal_3.csv', index=False)\n",
    "vidyanchal_3.isnull().sum()"
   ],
   "id": "81dc1787e4c5d3ac",
   "outputs": [
    {
     "ename": "NameError",
     "evalue": "name 'pd' is not defined",
     "output_type": "error",
     "traceback": [
      "\u001B[0;31m---------------------------------------------------------------------------\u001B[0m",
      "\u001B[0;31mNameError\u001B[0m                                 Traceback (most recent call last)",
      "Cell \u001B[0;32mIn[34], line 1\u001B[0m\n\u001B[0;32m----> 1\u001B[0m vidyanchal_3 \u001B[38;5;241m=\u001B[39m \u001B[43mpd\u001B[49m\u001B[38;5;241m.\u001B[39mread_excel(\u001B[38;5;124m'\u001B[39m\u001B[38;5;124mData/Inter State Gen Stations (Forecast)/Vidyanchal3.xlsx\u001B[39m\u001B[38;5;124m'\u001B[39m)\n\u001B[1;32m      2\u001B[0m vidyanchal_3 \u001B[38;5;241m=\u001B[39m vidyanchal_3\u001B[38;5;241m.\u001B[39mmerge(price_data, on\u001B[38;5;241m=\u001B[39m\u001B[38;5;124m'\u001B[39m\u001B[38;5;124mTimeStamp\u001B[39m\u001B[38;5;124m'\u001B[39m)\n\u001B[1;32m      3\u001B[0m vidyanchal_3\u001B[38;5;241m.\u001B[39mfillna(\u001B[38;5;241m0\u001B[39m, inplace\u001B[38;5;241m=\u001B[39m\u001B[38;5;28;01mTrue\u001B[39;00m)\n",
      "\u001B[0;31mNameError\u001B[0m: name 'pd' is not defined"
     ]
    }
   ],
   "execution_count": 34
  },
  {
   "metadata": {
    "ExecuteTime": {
     "end_time": "2024-12-19T04:23:55.398401Z",
     "start_time": "2024-12-19T04:23:55.391344Z"
    }
   },
   "cell_type": "code",
   "source": [
    "vidyanchal_4 = pd.read_excel('Data/Inter State Gen Stations (Forecast)/Vidyanchal4.xlsx')\n",
    "vidyanchal_4 = vidyanchal_4.merge(price_data, on='TimeStamp')\n",
    "vidyanchal_4.fillna(0, inplace=True)\n",
    "vidyanchal_4.to_csv('New Data/Inter-State/vidyanchal_4.csv', index=False)\n",
    "vidyanchal_4.isnull().sum()"
   ],
   "id": "cf36bfe793ba4fc",
   "outputs": [
    {
     "ename": "NameError",
     "evalue": "name 'pd' is not defined",
     "output_type": "error",
     "traceback": [
      "\u001B[0;31m---------------------------------------------------------------------------\u001B[0m",
      "\u001B[0;31mNameError\u001B[0m                                 Traceback (most recent call last)",
      "Cell \u001B[0;32mIn[35], line 1\u001B[0m\n\u001B[0;32m----> 1\u001B[0m vidyanchal_4 \u001B[38;5;241m=\u001B[39m \u001B[43mpd\u001B[49m\u001B[38;5;241m.\u001B[39mread_excel(\u001B[38;5;124m'\u001B[39m\u001B[38;5;124mData/Inter State Gen Stations (Forecast)/Vidyanchal4.xlsx\u001B[39m\u001B[38;5;124m'\u001B[39m)\n\u001B[1;32m      2\u001B[0m vidyanchal_4 \u001B[38;5;241m=\u001B[39m vidyanchal_4\u001B[38;5;241m.\u001B[39mmerge(price_data, on\u001B[38;5;241m=\u001B[39m\u001B[38;5;124m'\u001B[39m\u001B[38;5;124mTimeStamp\u001B[39m\u001B[38;5;124m'\u001B[39m)\n\u001B[1;32m      3\u001B[0m vidyanchal_4\u001B[38;5;241m.\u001B[39mfillna(\u001B[38;5;241m0\u001B[39m, inplace\u001B[38;5;241m=\u001B[39m\u001B[38;5;28;01mTrue\u001B[39;00m)\n",
      "\u001B[0;31mNameError\u001B[0m: name 'pd' is not defined"
     ]
    }
   ],
   "execution_count": 35
  },
  {
   "metadata": {
    "ExecuteTime": {
     "end_time": "2024-12-19T04:23:55.432191Z",
     "start_time": "2024-12-19T04:23:55.404705Z"
    }
   },
   "cell_type": "code",
   "source": [
    "vidyanchal_5 = pd.read_excel('Data/Inter State Gen Stations (Forecast)/Vidyanchal5.xlsx')\n",
    "vidyanchal_5 = vidyanchal_5.merge(price_data, on='TimeStamp')\n",
    "vidyanchal_5.fillna(0, inplace=True)\n",
    "vidyanchal_5.to_csv('New Data/Inter-State/vidyanchal_5.csv', index=False)\n",
    "vidyanchal_5.isnull().sum()"
   ],
   "id": "6aad4b781df34356",
   "outputs": [
    {
     "ename": "NameError",
     "evalue": "name 'pd' is not defined",
     "output_type": "error",
     "traceback": [
      "\u001B[0;31m---------------------------------------------------------------------------\u001B[0m",
      "\u001B[0;31mNameError\u001B[0m                                 Traceback (most recent call last)",
      "Cell \u001B[0;32mIn[36], line 1\u001B[0m\n\u001B[0;32m----> 1\u001B[0m vidyanchal_5 \u001B[38;5;241m=\u001B[39m \u001B[43mpd\u001B[49m\u001B[38;5;241m.\u001B[39mread_excel(\u001B[38;5;124m'\u001B[39m\u001B[38;5;124mData/Inter State Gen Stations (Forecast)/Vidyanchal5.xlsx\u001B[39m\u001B[38;5;124m'\u001B[39m)\n\u001B[1;32m      2\u001B[0m vidyanchal_5 \u001B[38;5;241m=\u001B[39m vidyanchal_5\u001B[38;5;241m.\u001B[39mmerge(price_data, on\u001B[38;5;241m=\u001B[39m\u001B[38;5;124m'\u001B[39m\u001B[38;5;124mTimeStamp\u001B[39m\u001B[38;5;124m'\u001B[39m)\n\u001B[1;32m      3\u001B[0m vidyanchal_5\u001B[38;5;241m.\u001B[39mfillna(\u001B[38;5;241m0\u001B[39m, inplace\u001B[38;5;241m=\u001B[39m\u001B[38;5;28;01mTrue\u001B[39;00m)\n",
      "\u001B[0;31mNameError\u001B[0m: name 'pd' is not defined"
     ]
    }
   ],
   "execution_count": 36
  },
  {
   "metadata": {
    "ExecuteTime": {
     "end_time": "2024-12-19T04:31:34.832565Z",
     "start_time": "2024-12-19T04:31:34.750154Z"
    }
   },
   "cell_type": "code",
   "source": [
    "import pandas as pd\n",
    "demand_data= pd.read_csv('demand_data.csv')\n",
    "demand_data"
   ],
   "id": "c226998443d69420",
   "outputs": [
    {
     "data": {
      "text/plain": [
       "             TimeStamp  Demand(Actual)  Demand(Pred)\n",
       "0        01/04/21 0:00        13708.81      13557.53\n",
       "1        01/04/21 0:15        13697.44      13515.05\n",
       "2        01/04/21 0:30        13619.33      13464.76\n",
       "3        01/04/21 0:45        13711.56      13408.66\n",
       "4        01/04/21 1:00        13683.30      13348.88\n",
       "...                ...             ...           ...\n",
       "210331  31/03/27 22:45            0.00      15190.18\n",
       "210332  31/03/27 23:00            0.00      15203.70\n",
       "210333  31/03/27 23:15            0.00      15205.81\n",
       "210334  31/03/27 23:30            0.00      15196.03\n",
       "210335  31/03/27 23:45            0.00      15174.55\n",
       "\n",
       "[210336 rows x 3 columns]"
      ],
      "text/html": [
       "<div>\n",
       "<style scoped>\n",
       "    .dataframe tbody tr th:only-of-type {\n",
       "        vertical-align: middle;\n",
       "    }\n",
       "\n",
       "    .dataframe tbody tr th {\n",
       "        vertical-align: top;\n",
       "    }\n",
       "\n",
       "    .dataframe thead th {\n",
       "        text-align: right;\n",
       "    }\n",
       "</style>\n",
       "<table border=\"1\" class=\"dataframe\">\n",
       "  <thead>\n",
       "    <tr style=\"text-align: right;\">\n",
       "      <th></th>\n",
       "      <th>TimeStamp</th>\n",
       "      <th>Demand(Actual)</th>\n",
       "      <th>Demand(Pred)</th>\n",
       "    </tr>\n",
       "  </thead>\n",
       "  <tbody>\n",
       "    <tr>\n",
       "      <th>0</th>\n",
       "      <td>01/04/21 0:00</td>\n",
       "      <td>13708.81</td>\n",
       "      <td>13557.53</td>\n",
       "    </tr>\n",
       "    <tr>\n",
       "      <th>1</th>\n",
       "      <td>01/04/21 0:15</td>\n",
       "      <td>13697.44</td>\n",
       "      <td>13515.05</td>\n",
       "    </tr>\n",
       "    <tr>\n",
       "      <th>2</th>\n",
       "      <td>01/04/21 0:30</td>\n",
       "      <td>13619.33</td>\n",
       "      <td>13464.76</td>\n",
       "    </tr>\n",
       "    <tr>\n",
       "      <th>3</th>\n",
       "      <td>01/04/21 0:45</td>\n",
       "      <td>13711.56</td>\n",
       "      <td>13408.66</td>\n",
       "    </tr>\n",
       "    <tr>\n",
       "      <th>4</th>\n",
       "      <td>01/04/21 1:00</td>\n",
       "      <td>13683.30</td>\n",
       "      <td>13348.88</td>\n",
       "    </tr>\n",
       "    <tr>\n",
       "      <th>...</th>\n",
       "      <td>...</td>\n",
       "      <td>...</td>\n",
       "      <td>...</td>\n",
       "    </tr>\n",
       "    <tr>\n",
       "      <th>210331</th>\n",
       "      <td>31/03/27 22:45</td>\n",
       "      <td>0.00</td>\n",
       "      <td>15190.18</td>\n",
       "    </tr>\n",
       "    <tr>\n",
       "      <th>210332</th>\n",
       "      <td>31/03/27 23:00</td>\n",
       "      <td>0.00</td>\n",
       "      <td>15203.70</td>\n",
       "    </tr>\n",
       "    <tr>\n",
       "      <th>210333</th>\n",
       "      <td>31/03/27 23:15</td>\n",
       "      <td>0.00</td>\n",
       "      <td>15205.81</td>\n",
       "    </tr>\n",
       "    <tr>\n",
       "      <th>210334</th>\n",
       "      <td>31/03/27 23:30</td>\n",
       "      <td>0.00</td>\n",
       "      <td>15196.03</td>\n",
       "    </tr>\n",
       "    <tr>\n",
       "      <th>210335</th>\n",
       "      <td>31/03/27 23:45</td>\n",
       "      <td>0.00</td>\n",
       "      <td>15174.55</td>\n",
       "    </tr>\n",
       "  </tbody>\n",
       "</table>\n",
       "<p>210336 rows × 3 columns</p>\n",
       "</div>"
      ]
     },
     "execution_count": 43,
     "metadata": {},
     "output_type": "execute_result"
    }
   ],
   "execution_count": 43
  },
  {
   "metadata": {
    "ExecuteTime": {
     "end_time": "2024-12-19T04:31:42.577921Z",
     "start_time": "2024-12-19T04:31:42.568069Z"
    }
   },
   "cell_type": "code",
   "source": "demand_data.info()",
   "id": "4f6b4c901916b261",
   "outputs": [
    {
     "name": "stdout",
     "output_type": "stream",
     "text": [
      "<class 'pandas.core.frame.DataFrame'>\n",
      "RangeIndex: 210336 entries, 0 to 210335\n",
      "Data columns (total 3 columns):\n",
      " #   Column          Non-Null Count   Dtype  \n",
      "---  ------          --------------   -----  \n",
      " 0   TimeStamp       210336 non-null  object \n",
      " 1   Demand(Actual)  210336 non-null  float64\n",
      " 2   Demand(Pred)    210336 non-null  float64\n",
      "dtypes: float64(2), object(1)\n",
      "memory usage: 4.8+ MB\n"
     ]
    }
   ],
   "execution_count": 44
  },
  {
   "metadata": {
    "ExecuteTime": {
     "end_time": "2024-12-19T04:32:29.030896Z",
     "start_time": "2024-12-19T04:32:29.025609Z"
    }
   },
   "cell_type": "code",
   "source": [
    "demand_data_1=demand_data\n",
    "demand_data_1"
   ],
   "id": "55880706fd95fa08",
   "outputs": [
    {
     "data": {
      "text/plain": [
       "             TimeStamp  Demand(Actual)  Demand(Pred)\n",
       "0        01/04/21 0:00        13708.81      13557.53\n",
       "1        01/04/21 0:15        13697.44      13515.05\n",
       "2        01/04/21 0:30        13619.33      13464.76\n",
       "3        01/04/21 0:45        13711.56      13408.66\n",
       "4        01/04/21 1:00        13683.30      13348.88\n",
       "...                ...             ...           ...\n",
       "210331  31/03/27 22:45            0.00      15190.18\n",
       "210332  31/03/27 23:00            0.00      15203.70\n",
       "210333  31/03/27 23:15            0.00      15205.81\n",
       "210334  31/03/27 23:30            0.00      15196.03\n",
       "210335  31/03/27 23:45            0.00      15174.55\n",
       "\n",
       "[210336 rows x 3 columns]"
      ],
      "text/html": [
       "<div>\n",
       "<style scoped>\n",
       "    .dataframe tbody tr th:only-of-type {\n",
       "        vertical-align: middle;\n",
       "    }\n",
       "\n",
       "    .dataframe tbody tr th {\n",
       "        vertical-align: top;\n",
       "    }\n",
       "\n",
       "    .dataframe thead th {\n",
       "        text-align: right;\n",
       "    }\n",
       "</style>\n",
       "<table border=\"1\" class=\"dataframe\">\n",
       "  <thead>\n",
       "    <tr style=\"text-align: right;\">\n",
       "      <th></th>\n",
       "      <th>TimeStamp</th>\n",
       "      <th>Demand(Actual)</th>\n",
       "      <th>Demand(Pred)</th>\n",
       "    </tr>\n",
       "  </thead>\n",
       "  <tbody>\n",
       "    <tr>\n",
       "      <th>0</th>\n",
       "      <td>01/04/21 0:00</td>\n",
       "      <td>13708.81</td>\n",
       "      <td>13557.53</td>\n",
       "    </tr>\n",
       "    <tr>\n",
       "      <th>1</th>\n",
       "      <td>01/04/21 0:15</td>\n",
       "      <td>13697.44</td>\n",
       "      <td>13515.05</td>\n",
       "    </tr>\n",
       "    <tr>\n",
       "      <th>2</th>\n",
       "      <td>01/04/21 0:30</td>\n",
       "      <td>13619.33</td>\n",
       "      <td>13464.76</td>\n",
       "    </tr>\n",
       "    <tr>\n",
       "      <th>3</th>\n",
       "      <td>01/04/21 0:45</td>\n",
       "      <td>13711.56</td>\n",
       "      <td>13408.66</td>\n",
       "    </tr>\n",
       "    <tr>\n",
       "      <th>4</th>\n",
       "      <td>01/04/21 1:00</td>\n",
       "      <td>13683.30</td>\n",
       "      <td>13348.88</td>\n",
       "    </tr>\n",
       "    <tr>\n",
       "      <th>...</th>\n",
       "      <td>...</td>\n",
       "      <td>...</td>\n",
       "      <td>...</td>\n",
       "    </tr>\n",
       "    <tr>\n",
       "      <th>210331</th>\n",
       "      <td>31/03/27 22:45</td>\n",
       "      <td>0.00</td>\n",
       "      <td>15190.18</td>\n",
       "    </tr>\n",
       "    <tr>\n",
       "      <th>210332</th>\n",
       "      <td>31/03/27 23:00</td>\n",
       "      <td>0.00</td>\n",
       "      <td>15203.70</td>\n",
       "    </tr>\n",
       "    <tr>\n",
       "      <th>210333</th>\n",
       "      <td>31/03/27 23:15</td>\n",
       "      <td>0.00</td>\n",
       "      <td>15205.81</td>\n",
       "    </tr>\n",
       "    <tr>\n",
       "      <th>210334</th>\n",
       "      <td>31/03/27 23:30</td>\n",
       "      <td>0.00</td>\n",
       "      <td>15196.03</td>\n",
       "    </tr>\n",
       "    <tr>\n",
       "      <th>210335</th>\n",
       "      <td>31/03/27 23:45</td>\n",
       "      <td>0.00</td>\n",
       "      <td>15174.55</td>\n",
       "    </tr>\n",
       "  </tbody>\n",
       "</table>\n",
       "<p>210336 rows × 3 columns</p>\n",
       "</div>"
      ]
     },
     "execution_count": 46,
     "metadata": {},
     "output_type": "execute_result"
    }
   ],
   "execution_count": 46
  },
  {
   "metadata": {
    "ExecuteTime": {
     "end_time": "2024-12-19T04:32:33.605173Z",
     "start_time": "2024-12-19T04:32:33.390507Z"
    }
   },
   "cell_type": "code",
   "source": [
    "demand_data_1['TimeStamp'] = pd.to_datetime(demand_data_1['TimeStamp'], format='%d/%m/%y %H:%M')\n",
    "demand_data_1"
   ],
   "id": "2ef28fd049ff35a6",
   "outputs": [
    {
     "data": {
      "text/plain": [
       "                 TimeStamp  Demand(Actual)  Demand(Pred)\n",
       "0      2021-04-01 00:00:00        13708.81      13557.53\n",
       "1      2021-04-01 00:15:00        13697.44      13515.05\n",
       "2      2021-04-01 00:30:00        13619.33      13464.76\n",
       "3      2021-04-01 00:45:00        13711.56      13408.66\n",
       "4      2021-04-01 01:00:00        13683.30      13348.88\n",
       "...                    ...             ...           ...\n",
       "210331 2027-03-31 22:45:00            0.00      15190.18\n",
       "210332 2027-03-31 23:00:00            0.00      15203.70\n",
       "210333 2027-03-31 23:15:00            0.00      15205.81\n",
       "210334 2027-03-31 23:30:00            0.00      15196.03\n",
       "210335 2027-03-31 23:45:00            0.00      15174.55\n",
       "\n",
       "[210336 rows x 3 columns]"
      ],
      "text/html": [
       "<div>\n",
       "<style scoped>\n",
       "    .dataframe tbody tr th:only-of-type {\n",
       "        vertical-align: middle;\n",
       "    }\n",
       "\n",
       "    .dataframe tbody tr th {\n",
       "        vertical-align: top;\n",
       "    }\n",
       "\n",
       "    .dataframe thead th {\n",
       "        text-align: right;\n",
       "    }\n",
       "</style>\n",
       "<table border=\"1\" class=\"dataframe\">\n",
       "  <thead>\n",
       "    <tr style=\"text-align: right;\">\n",
       "      <th></th>\n",
       "      <th>TimeStamp</th>\n",
       "      <th>Demand(Actual)</th>\n",
       "      <th>Demand(Pred)</th>\n",
       "    </tr>\n",
       "  </thead>\n",
       "  <tbody>\n",
       "    <tr>\n",
       "      <th>0</th>\n",
       "      <td>2021-04-01 00:00:00</td>\n",
       "      <td>13708.81</td>\n",
       "      <td>13557.53</td>\n",
       "    </tr>\n",
       "    <tr>\n",
       "      <th>1</th>\n",
       "      <td>2021-04-01 00:15:00</td>\n",
       "      <td>13697.44</td>\n",
       "      <td>13515.05</td>\n",
       "    </tr>\n",
       "    <tr>\n",
       "      <th>2</th>\n",
       "      <td>2021-04-01 00:30:00</td>\n",
       "      <td>13619.33</td>\n",
       "      <td>13464.76</td>\n",
       "    </tr>\n",
       "    <tr>\n",
       "      <th>3</th>\n",
       "      <td>2021-04-01 00:45:00</td>\n",
       "      <td>13711.56</td>\n",
       "      <td>13408.66</td>\n",
       "    </tr>\n",
       "    <tr>\n",
       "      <th>4</th>\n",
       "      <td>2021-04-01 01:00:00</td>\n",
       "      <td>13683.30</td>\n",
       "      <td>13348.88</td>\n",
       "    </tr>\n",
       "    <tr>\n",
       "      <th>...</th>\n",
       "      <td>...</td>\n",
       "      <td>...</td>\n",
       "      <td>...</td>\n",
       "    </tr>\n",
       "    <tr>\n",
       "      <th>210331</th>\n",
       "      <td>2027-03-31 22:45:00</td>\n",
       "      <td>0.00</td>\n",
       "      <td>15190.18</td>\n",
       "    </tr>\n",
       "    <tr>\n",
       "      <th>210332</th>\n",
       "      <td>2027-03-31 23:00:00</td>\n",
       "      <td>0.00</td>\n",
       "      <td>15203.70</td>\n",
       "    </tr>\n",
       "    <tr>\n",
       "      <th>210333</th>\n",
       "      <td>2027-03-31 23:15:00</td>\n",
       "      <td>0.00</td>\n",
       "      <td>15205.81</td>\n",
       "    </tr>\n",
       "    <tr>\n",
       "      <th>210334</th>\n",
       "      <td>2027-03-31 23:30:00</td>\n",
       "      <td>0.00</td>\n",
       "      <td>15196.03</td>\n",
       "    </tr>\n",
       "    <tr>\n",
       "      <th>210335</th>\n",
       "      <td>2027-03-31 23:45:00</td>\n",
       "      <td>0.00</td>\n",
       "      <td>15174.55</td>\n",
       "    </tr>\n",
       "  </tbody>\n",
       "</table>\n",
       "<p>210336 rows × 3 columns</p>\n",
       "</div>"
      ]
     },
     "execution_count": 47,
     "metadata": {},
     "output_type": "execute_result"
    }
   ],
   "execution_count": 47
  },
  {
   "metadata": {
    "ExecuteTime": {
     "end_time": "2024-12-19T04:32:49.153481Z",
     "start_time": "2024-12-19T04:32:49.147712Z"
    }
   },
   "cell_type": "code",
   "source": "demand_data.info()",
   "id": "ed8fa636bd772173",
   "outputs": [
    {
     "name": "stdout",
     "output_type": "stream",
     "text": [
      "<class 'pandas.core.frame.DataFrame'>\n",
      "RangeIndex: 210336 entries, 0 to 210335\n",
      "Data columns (total 3 columns):\n",
      " #   Column          Non-Null Count   Dtype         \n",
      "---  ------          --------------   -----         \n",
      " 0   TimeStamp       210336 non-null  datetime64[ns]\n",
      " 1   Demand(Actual)  210336 non-null  float64       \n",
      " 2   Demand(Pred)    210336 non-null  float64       \n",
      "dtypes: datetime64[ns](1), float64(2)\n",
      "memory usage: 4.8 MB\n"
     ]
    }
   ],
   "execution_count": 49
  },
  {
   "metadata": {
    "ExecuteTime": {
     "end_time": "2024-12-19T04:33:36.010208Z",
     "start_time": "2024-12-19T04:33:35.686412Z"
    }
   },
   "cell_type": "code",
   "source": "demand_data_1.to_csv('demand_data_1.csv', index=False)",
   "id": "744a485b0cc0d22d",
   "outputs": [],
   "execution_count": 50
  },
  {
   "metadata": {
    "ExecuteTime": {
     "end_time": "2024-12-19T07:38:43.535410Z",
     "start_time": "2024-12-19T07:38:43.451356Z"
    }
   },
   "cell_type": "code",
   "source": [
    "iex_data= pd.read_csv('IEX_(Forecast).csv')\n",
    "iex_data"
   ],
   "id": "997c4cf76d3eafda",
   "outputs": [
    {
     "data": {
      "text/plain": [
       "             TimeStamp  Qty  Qty_Pred  Price  Pred_Price\n",
       "0        01/04/21 0:00  0.0       0.0   3.94        3.90\n",
       "1        01/04/21 0:15  0.0       0.0   3.93        4.09\n",
       "2        01/04/21 0:30  0.0       0.0   3.47        3.54\n",
       "3        01/04/21 0:45  0.0       0.0   3.47        3.40\n",
       "4        01/04/21 1:00  0.0       0.0   3.40        3.47\n",
       "...                ...  ...       ...    ...         ...\n",
       "210331  31/03/27 22:45  0.0     223.0   0.00        3.80\n",
       "210332  31/03/27 23:00  0.0     211.0   0.00        4.03\n",
       "210333  31/03/27 23:15  0.0     181.0   0.00        4.33\n",
       "210334  31/03/27 23:30  0.0     183.0   0.00        4.07\n",
       "210335  31/03/27 23:45  0.0     206.0   0.00        3.71\n",
       "\n",
       "[210336 rows x 5 columns]"
      ],
      "text/html": [
       "<div>\n",
       "<style scoped>\n",
       "    .dataframe tbody tr th:only-of-type {\n",
       "        vertical-align: middle;\n",
       "    }\n",
       "\n",
       "    .dataframe tbody tr th {\n",
       "        vertical-align: top;\n",
       "    }\n",
       "\n",
       "    .dataframe thead th {\n",
       "        text-align: right;\n",
       "    }\n",
       "</style>\n",
       "<table border=\"1\" class=\"dataframe\">\n",
       "  <thead>\n",
       "    <tr style=\"text-align: right;\">\n",
       "      <th></th>\n",
       "      <th>TimeStamp</th>\n",
       "      <th>Qty</th>\n",
       "      <th>Qty_Pred</th>\n",
       "      <th>Price</th>\n",
       "      <th>Pred_Price</th>\n",
       "    </tr>\n",
       "  </thead>\n",
       "  <tbody>\n",
       "    <tr>\n",
       "      <th>0</th>\n",
       "      <td>01/04/21 0:00</td>\n",
       "      <td>0.0</td>\n",
       "      <td>0.0</td>\n",
       "      <td>3.94</td>\n",
       "      <td>3.90</td>\n",
       "    </tr>\n",
       "    <tr>\n",
       "      <th>1</th>\n",
       "      <td>01/04/21 0:15</td>\n",
       "      <td>0.0</td>\n",
       "      <td>0.0</td>\n",
       "      <td>3.93</td>\n",
       "      <td>4.09</td>\n",
       "    </tr>\n",
       "    <tr>\n",
       "      <th>2</th>\n",
       "      <td>01/04/21 0:30</td>\n",
       "      <td>0.0</td>\n",
       "      <td>0.0</td>\n",
       "      <td>3.47</td>\n",
       "      <td>3.54</td>\n",
       "    </tr>\n",
       "    <tr>\n",
       "      <th>3</th>\n",
       "      <td>01/04/21 0:45</td>\n",
       "      <td>0.0</td>\n",
       "      <td>0.0</td>\n",
       "      <td>3.47</td>\n",
       "      <td>3.40</td>\n",
       "    </tr>\n",
       "    <tr>\n",
       "      <th>4</th>\n",
       "      <td>01/04/21 1:00</td>\n",
       "      <td>0.0</td>\n",
       "      <td>0.0</td>\n",
       "      <td>3.40</td>\n",
       "      <td>3.47</td>\n",
       "    </tr>\n",
       "    <tr>\n",
       "      <th>...</th>\n",
       "      <td>...</td>\n",
       "      <td>...</td>\n",
       "      <td>...</td>\n",
       "      <td>...</td>\n",
       "      <td>...</td>\n",
       "    </tr>\n",
       "    <tr>\n",
       "      <th>210331</th>\n",
       "      <td>31/03/27 22:45</td>\n",
       "      <td>0.0</td>\n",
       "      <td>223.0</td>\n",
       "      <td>0.00</td>\n",
       "      <td>3.80</td>\n",
       "    </tr>\n",
       "    <tr>\n",
       "      <th>210332</th>\n",
       "      <td>31/03/27 23:00</td>\n",
       "      <td>0.0</td>\n",
       "      <td>211.0</td>\n",
       "      <td>0.00</td>\n",
       "      <td>4.03</td>\n",
       "    </tr>\n",
       "    <tr>\n",
       "      <th>210333</th>\n",
       "      <td>31/03/27 23:15</td>\n",
       "      <td>0.0</td>\n",
       "      <td>181.0</td>\n",
       "      <td>0.00</td>\n",
       "      <td>4.33</td>\n",
       "    </tr>\n",
       "    <tr>\n",
       "      <th>210334</th>\n",
       "      <td>31/03/27 23:30</td>\n",
       "      <td>0.0</td>\n",
       "      <td>183.0</td>\n",
       "      <td>0.00</td>\n",
       "      <td>4.07</td>\n",
       "    </tr>\n",
       "    <tr>\n",
       "      <th>210335</th>\n",
       "      <td>31/03/27 23:45</td>\n",
       "      <td>0.0</td>\n",
       "      <td>206.0</td>\n",
       "      <td>0.00</td>\n",
       "      <td>3.71</td>\n",
       "    </tr>\n",
       "  </tbody>\n",
       "</table>\n",
       "<p>210336 rows × 5 columns</p>\n",
       "</div>"
      ]
     },
     "execution_count": 61,
     "metadata": {},
     "output_type": "execute_result"
    }
   ],
   "execution_count": 61
  },
  {
   "metadata": {
    "ExecuteTime": {
     "end_time": "2024-12-19T07:38:56.473418Z",
     "start_time": "2024-12-19T07:38:56.252262Z"
    }
   },
   "cell_type": "code",
   "source": [
    "iex_data['TimeStamp'] = pd.to_datetime(iex_data['TimeStamp'], format='%d/%m/%y %H:%M')\n",
    "iex_data"
   ],
   "id": "57234be34aafd239",
   "outputs": [
    {
     "data": {
      "text/plain": [
       "                 TimeStamp  Qty  Qty_Pred  Price  Pred_Price\n",
       "0      2021-04-01 00:00:00  0.0       0.0   3.94        3.90\n",
       "1      2021-04-01 00:15:00  0.0       0.0   3.93        4.09\n",
       "2      2021-04-01 00:30:00  0.0       0.0   3.47        3.54\n",
       "3      2021-04-01 00:45:00  0.0       0.0   3.47        3.40\n",
       "4      2021-04-01 01:00:00  0.0       0.0   3.40        3.47\n",
       "...                    ...  ...       ...    ...         ...\n",
       "210331 2027-03-31 22:45:00  0.0     223.0   0.00        3.80\n",
       "210332 2027-03-31 23:00:00  0.0     211.0   0.00        4.03\n",
       "210333 2027-03-31 23:15:00  0.0     181.0   0.00        4.33\n",
       "210334 2027-03-31 23:30:00  0.0     183.0   0.00        4.07\n",
       "210335 2027-03-31 23:45:00  0.0     206.0   0.00        3.71\n",
       "\n",
       "[210336 rows x 5 columns]"
      ],
      "text/html": [
       "<div>\n",
       "<style scoped>\n",
       "    .dataframe tbody tr th:only-of-type {\n",
       "        vertical-align: middle;\n",
       "    }\n",
       "\n",
       "    .dataframe tbody tr th {\n",
       "        vertical-align: top;\n",
       "    }\n",
       "\n",
       "    .dataframe thead th {\n",
       "        text-align: right;\n",
       "    }\n",
       "</style>\n",
       "<table border=\"1\" class=\"dataframe\">\n",
       "  <thead>\n",
       "    <tr style=\"text-align: right;\">\n",
       "      <th></th>\n",
       "      <th>TimeStamp</th>\n",
       "      <th>Qty</th>\n",
       "      <th>Qty_Pred</th>\n",
       "      <th>Price</th>\n",
       "      <th>Pred_Price</th>\n",
       "    </tr>\n",
       "  </thead>\n",
       "  <tbody>\n",
       "    <tr>\n",
       "      <th>0</th>\n",
       "      <td>2021-04-01 00:00:00</td>\n",
       "      <td>0.0</td>\n",
       "      <td>0.0</td>\n",
       "      <td>3.94</td>\n",
       "      <td>3.90</td>\n",
       "    </tr>\n",
       "    <tr>\n",
       "      <th>1</th>\n",
       "      <td>2021-04-01 00:15:00</td>\n",
       "      <td>0.0</td>\n",
       "      <td>0.0</td>\n",
       "      <td>3.93</td>\n",
       "      <td>4.09</td>\n",
       "    </tr>\n",
       "    <tr>\n",
       "      <th>2</th>\n",
       "      <td>2021-04-01 00:30:00</td>\n",
       "      <td>0.0</td>\n",
       "      <td>0.0</td>\n",
       "      <td>3.47</td>\n",
       "      <td>3.54</td>\n",
       "    </tr>\n",
       "    <tr>\n",
       "      <th>3</th>\n",
       "      <td>2021-04-01 00:45:00</td>\n",
       "      <td>0.0</td>\n",
       "      <td>0.0</td>\n",
       "      <td>3.47</td>\n",
       "      <td>3.40</td>\n",
       "    </tr>\n",
       "    <tr>\n",
       "      <th>4</th>\n",
       "      <td>2021-04-01 01:00:00</td>\n",
       "      <td>0.0</td>\n",
       "      <td>0.0</td>\n",
       "      <td>3.40</td>\n",
       "      <td>3.47</td>\n",
       "    </tr>\n",
       "    <tr>\n",
       "      <th>...</th>\n",
       "      <td>...</td>\n",
       "      <td>...</td>\n",
       "      <td>...</td>\n",
       "      <td>...</td>\n",
       "      <td>...</td>\n",
       "    </tr>\n",
       "    <tr>\n",
       "      <th>210331</th>\n",
       "      <td>2027-03-31 22:45:00</td>\n",
       "      <td>0.0</td>\n",
       "      <td>223.0</td>\n",
       "      <td>0.00</td>\n",
       "      <td>3.80</td>\n",
       "    </tr>\n",
       "    <tr>\n",
       "      <th>210332</th>\n",
       "      <td>2027-03-31 23:00:00</td>\n",
       "      <td>0.0</td>\n",
       "      <td>211.0</td>\n",
       "      <td>0.00</td>\n",
       "      <td>4.03</td>\n",
       "    </tr>\n",
       "    <tr>\n",
       "      <th>210333</th>\n",
       "      <td>2027-03-31 23:15:00</td>\n",
       "      <td>0.0</td>\n",
       "      <td>181.0</td>\n",
       "      <td>0.00</td>\n",
       "      <td>4.33</td>\n",
       "    </tr>\n",
       "    <tr>\n",
       "      <th>210334</th>\n",
       "      <td>2027-03-31 23:30:00</td>\n",
       "      <td>0.0</td>\n",
       "      <td>183.0</td>\n",
       "      <td>0.00</td>\n",
       "      <td>4.07</td>\n",
       "    </tr>\n",
       "    <tr>\n",
       "      <th>210335</th>\n",
       "      <td>2027-03-31 23:45:00</td>\n",
       "      <td>0.0</td>\n",
       "      <td>206.0</td>\n",
       "      <td>0.00</td>\n",
       "      <td>3.71</td>\n",
       "    </tr>\n",
       "  </tbody>\n",
       "</table>\n",
       "<p>210336 rows × 5 columns</p>\n",
       "</div>"
      ]
     },
     "execution_count": 63,
     "metadata": {},
     "output_type": "execute_result"
    }
   ],
   "execution_count": 63
  },
  {
   "metadata": {
    "ExecuteTime": {
     "end_time": "2024-12-19T07:38:57.822825Z",
     "start_time": "2024-12-19T07:38:57.819366Z"
    }
   },
   "cell_type": "code",
   "source": "iex_data.info()",
   "id": "b1caac6dc599160a",
   "outputs": [
    {
     "name": "stdout",
     "output_type": "stream",
     "text": [
      "<class 'pandas.core.frame.DataFrame'>\n",
      "RangeIndex: 210336 entries, 0 to 210335\n",
      "Data columns (total 5 columns):\n",
      " #   Column      Non-Null Count   Dtype         \n",
      "---  ------      --------------   -----         \n",
      " 0   TimeStamp   210336 non-null  datetime64[ns]\n",
      " 1   Qty         210336 non-null  float64       \n",
      " 2   Qty_Pred    210336 non-null  float64       \n",
      " 3   Price       210336 non-null  float64       \n",
      " 4   Pred_Price  210336 non-null  float64       \n",
      "dtypes: datetime64[ns](1), float64(4)\n",
      "memory usage: 8.0 MB\n"
     ]
    }
   ],
   "execution_count": 64
  },
  {
   "metadata": {
    "ExecuteTime": {
     "end_time": "2024-12-19T07:40:12.884166Z",
     "start_time": "2024-12-19T07:40:12.522454Z"
    }
   },
   "cell_type": "code",
   "source": "iex_data.to_csv('iex_data_1.csv', index=False)",
   "id": "ea8a3cc76d48e411",
   "outputs": [],
   "execution_count": 65
  },
  {
   "metadata": {},
   "cell_type": "code",
   "outputs": [],
   "execution_count": null,
   "source": "",
   "id": "1bd013cff8afd7db"
  }
 ],
 "metadata": {
  "kernelspec": {
   "display_name": "Python 3",
   "language": "python",
   "name": "python3"
  },
  "language_info": {
   "codemirror_mode": {
    "name": "ipython",
    "version": 2
   },
   "file_extension": ".py",
   "mimetype": "text/x-python",
   "name": "python",
   "nbconvert_exporter": "python",
   "pygments_lexer": "ipython2",
   "version": "2.7.6"
  }
 },
 "nbformat": 4,
 "nbformat_minor": 5
}
