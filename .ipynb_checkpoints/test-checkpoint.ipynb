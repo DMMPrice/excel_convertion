{
 "cells": [
  {
   "metadata": {
    "ExecuteTime": {
     "end_time": "2024-12-19T04:23:54.995390Z",
     "start_time": "2024-12-19T04:23:54.984589Z"
    }
   },
   "cell_type": "code",
   "source": [
    "import pandas as pd\n",
    "import numpy as np"
   ],
   "id": "99b942f9277a1fb2",
   "outputs": [
    {
     "ename": "ModuleNotFoundError",
     "evalue": "No module named 'pandas'",
     "output_type": "error",
     "traceback": [
      "\u001B[0;31m---------------------------------------------------------------------------\u001B[0m",
      "\u001B[0;31mModuleNotFoundError\u001B[0m                       Traceback (most recent call last)",
      "Cell \u001B[0;32mIn[10], line 1\u001B[0m\n\u001B[0;32m----> 1\u001B[0m \u001B[38;5;28;01mimport\u001B[39;00m \u001B[38;5;21;01mpandas\u001B[39;00m \u001B[38;5;28;01mas\u001B[39;00m \u001B[38;5;21;01mpd\u001B[39;00m\n\u001B[1;32m      2\u001B[0m \u001B[38;5;28;01mimport\u001B[39;00m \u001B[38;5;21;01mnumpy\u001B[39;00m \u001B[38;5;28;01mas\u001B[39;00m \u001B[38;5;21;01mnp\u001B[39;00m\n",
      "\u001B[0;31mModuleNotFoundError\u001B[0m: No module named 'pandas'"
     ]
    }
   ],
   "execution_count": 10
  },
  {
   "metadata": {
    "ExecuteTime": {
     "end_time": "2024-12-19T04:23:55.043394Z",
     "start_time": "2024-12-19T04:23:55.037127Z"
    }
   },
   "cell_type": "code",
   "source": [
    "price_data = pd.read_excel('Data/Price (Forecast).xlsx')\n",
    "adani_power_bid_1 = pd.read_excel('Data/Inter State Gen Stations (Forecast)/Adani Power (Bid 1).xlsx')\n",
    "adani_power_bid_1"
   ],
   "id": "b5bcadb0f1ceeb29",
   "outputs": [
    {
     "ename": "NameError",
     "evalue": "name 'pd' is not defined",
     "output_type": "error",
     "traceback": [
      "\u001B[0;31m---------------------------------------------------------------------------\u001B[0m",
      "\u001B[0;31mNameError\u001B[0m                                 Traceback (most recent call last)",
      "Cell \u001B[0;32mIn[11], line 1\u001B[0m\n\u001B[0;32m----> 1\u001B[0m price_data \u001B[38;5;241m=\u001B[39m \u001B[43mpd\u001B[49m\u001B[38;5;241m.\u001B[39mread_excel(\u001B[38;5;124m'\u001B[39m\u001B[38;5;124mData/Price (Forecast).xlsx\u001B[39m\u001B[38;5;124m'\u001B[39m)\n\u001B[1;32m      2\u001B[0m adani_power_bid_1 \u001B[38;5;241m=\u001B[39m pd\u001B[38;5;241m.\u001B[39mread_excel(\u001B[38;5;124m'\u001B[39m\u001B[38;5;124mData/Inter State Gen Stations (Forecast)/Adani Power (Bid 1).xlsx\u001B[39m\u001B[38;5;124m'\u001B[39m)\n\u001B[1;32m      3\u001B[0m adani_power_bid_1\n",
      "\u001B[0;31mNameError\u001B[0m: name 'pd' is not defined"
     ]
    }
   ],
   "execution_count": 11
  },
  {
   "metadata": {
    "ExecuteTime": {
     "end_time": "2024-12-19T04:23:55.062552Z",
     "start_time": "2024-12-19T04:23:55.057052Z"
    }
   },
   "cell_type": "code",
   "source": [
    "# Merge the data with price data\n",
    "adani_power_bid_1 = adani_power_bid_1.merge(price_data, on='TimeStamp')\n",
    "adani_power_bid_1"
   ],
   "id": "e7824006a49db507",
   "outputs": [
    {
     "ename": "NameError",
     "evalue": "name 'adani_power_bid_1' is not defined",
     "output_type": "error",
     "traceback": [
      "\u001B[0;31m---------------------------------------------------------------------------\u001B[0m",
      "\u001B[0;31mNameError\u001B[0m                                 Traceback (most recent call last)",
      "Cell \u001B[0;32mIn[12], line 2\u001B[0m\n\u001B[1;32m      1\u001B[0m \u001B[38;5;66;03m# Merge the data with price data\u001B[39;00m\n\u001B[0;32m----> 2\u001B[0m adani_power_bid_1 \u001B[38;5;241m=\u001B[39m \u001B[43madani_power_bid_1\u001B[49m\u001B[38;5;241m.\u001B[39mmerge(price_data, on\u001B[38;5;241m=\u001B[39m\u001B[38;5;124m'\u001B[39m\u001B[38;5;124mTimeStamp\u001B[39m\u001B[38;5;124m'\u001B[39m)\n\u001B[1;32m      3\u001B[0m adani_power_bid_1\n",
      "\u001B[0;31mNameError\u001B[0m: name 'adani_power_bid_1' is not defined"
     ]
    }
   ],
   "execution_count": 12
  },
  {
   "metadata": {
    "ExecuteTime": {
     "end_time": "2024-12-19T04:23:55.118338Z",
     "start_time": "2024-12-19T04:23:55.112890Z"
    }
   },
   "cell_type": "code",
   "source": [
    "adani_power_bid_1.fillna(0, inplace=True)\n",
    "adani_power_bid_1.isnull().sum()\n",
    "adani_power_bid_1.to_csv('New Data/Intra-State/adani_power_bid_1.csv', index=False)"
   ],
   "id": "5dc9f17090c42eb4",
   "outputs": [
    {
     "ename": "NameError",
     "evalue": "name 'adani_power_bid_1' is not defined",
     "output_type": "error",
     "traceback": [
      "\u001B[0;31m---------------------------------------------------------------------------\u001B[0m",
      "\u001B[0;31mNameError\u001B[0m                                 Traceback (most recent call last)",
      "Cell \u001B[0;32mIn[13], line 1\u001B[0m\n\u001B[0;32m----> 1\u001B[0m \u001B[43madani_power_bid_1\u001B[49m\u001B[38;5;241m.\u001B[39mfillna(\u001B[38;5;241m0\u001B[39m, inplace\u001B[38;5;241m=\u001B[39m\u001B[38;5;28;01mTrue\u001B[39;00m)\n\u001B[1;32m      2\u001B[0m adani_power_bid_1\u001B[38;5;241m.\u001B[39misnull()\u001B[38;5;241m.\u001B[39msum()\n\u001B[1;32m      3\u001B[0m adani_power_bid_1\u001B[38;5;241m.\u001B[39mto_csv(\u001B[38;5;124m'\u001B[39m\u001B[38;5;124mNew Data/Intra-State/adani_power_bid_1.csv\u001B[39m\u001B[38;5;124m'\u001B[39m, index\u001B[38;5;241m=\u001B[39m\u001B[38;5;28;01mFalse\u001B[39;00m)\n",
      "\u001B[0;31mNameError\u001B[0m: name 'adani_power_bid_1' is not defined"
     ]
    }
   ],
   "execution_count": 13
  },
  {
   "metadata": {
    "ExecuteTime": {
     "end_time": "2024-12-19T04:23:55.132687Z",
     "start_time": "2024-12-19T04:23:55.126515Z"
    }
   },
   "cell_type": "code",
   "source": [
    "adani_power_bid_2 = pd.read_excel('Data/Inter State Gen Stations (Forecast)/Adani Power (Bid 2).xlsx')\n",
    "adani_power_bid_2 = adani_power_bid_2.merge(price_data, on='TimeStamp')"
   ],
   "id": "1a36274169fe611c",
   "outputs": [
    {
     "ename": "NameError",
     "evalue": "name 'pd' is not defined",
     "output_type": "error",
     "traceback": [
      "\u001B[0;31m---------------------------------------------------------------------------\u001B[0m",
      "\u001B[0;31mNameError\u001B[0m                                 Traceback (most recent call last)",
      "Cell \u001B[0;32mIn[14], line 1\u001B[0m\n\u001B[0;32m----> 1\u001B[0m adani_power_bid_2 \u001B[38;5;241m=\u001B[39m \u001B[43mpd\u001B[49m\u001B[38;5;241m.\u001B[39mread_excel(\u001B[38;5;124m'\u001B[39m\u001B[38;5;124mData/Inter State Gen Stations (Forecast)/Adani Power (Bid 2).xlsx\u001B[39m\u001B[38;5;124m'\u001B[39m)\n\u001B[1;32m      2\u001B[0m adani_power_bid_2 \u001B[38;5;241m=\u001B[39m adani_power_bid_2\u001B[38;5;241m.\u001B[39mmerge(price_data, on\u001B[38;5;241m=\u001B[39m\u001B[38;5;124m'\u001B[39m\u001B[38;5;124mTimeStamp\u001B[39m\u001B[38;5;124m'\u001B[39m)\n",
      "\u001B[0;31mNameError\u001B[0m: name 'pd' is not defined"
     ]
    }
   ],
   "execution_count": 14
  },
  {
   "metadata": {
    "ExecuteTime": {
     "end_time": "2024-12-19T04:23:55.139595Z",
     "start_time": "2024-12-19T04:23:55.133953Z"
    }
   },
   "cell_type": "code",
   "source": [
    "adani_power_bid_2.fillna(0, inplace=True)\n",
    "adani_power_bid_2.isnull().sum()\n",
    "adani_power_bid_2.to_csv('New Data/Inter-State/adani_power_bid_2.csv', index=False)"
   ],
   "id": "4acd465bb9e9c3d4",
   "outputs": [
    {
     "ename": "NameError",
     "evalue": "name 'adani_power_bid_2' is not defined",
     "output_type": "error",
     "traceback": [
      "\u001B[0;31m---------------------------------------------------------------------------\u001B[0m",
      "\u001B[0;31mNameError\u001B[0m                                 Traceback (most recent call last)",
      "Cell \u001B[0;32mIn[15], line 1\u001B[0m\n\u001B[0;32m----> 1\u001B[0m \u001B[43madani_power_bid_2\u001B[49m\u001B[38;5;241m.\u001B[39mfillna(\u001B[38;5;241m0\u001B[39m, inplace\u001B[38;5;241m=\u001B[39m\u001B[38;5;28;01mTrue\u001B[39;00m)\n\u001B[1;32m      2\u001B[0m adani_power_bid_2\u001B[38;5;241m.\u001B[39misnull()\u001B[38;5;241m.\u001B[39msum()\n\u001B[1;32m      3\u001B[0m adani_power_bid_2\u001B[38;5;241m.\u001B[39mto_csv(\u001B[38;5;124m'\u001B[39m\u001B[38;5;124mNew Data/Inter-State/adani_power_bid_2.csv\u001B[39m\u001B[38;5;124m'\u001B[39m, index\u001B[38;5;241m=\u001B[39m\u001B[38;5;28;01mFalse\u001B[39;00m)\n",
      "\u001B[0;31mNameError\u001B[0m: name 'adani_power_bid_2' is not defined"
     ]
    }
   ],
   "execution_count": 15
  },
  {
   "metadata": {
    "ExecuteTime": {
     "end_time": "2024-12-19T04:23:55.150719Z",
     "start_time": "2024-12-19T04:23:55.143725Z"
    }
   },
   "cell_type": "code",
   "source": [
    "dadri = pd.read_excel('Data/Inter State Gen Stations (Forecast)/Dadri.xlsx')\n",
    "dadri = dadri.merge(price_data, on='TimeStamp')\n",
    "dadri.fillna(0, inplace=True)\n",
    "dadri.to_csv('New Data/Inter-State/dadri.csv', index=False)\n",
    "dadri.isnull().sum()"
   ],
   "id": "d34c4d70134d1e57",
   "outputs": [
    {
     "ename": "NameError",
     "evalue": "name 'pd' is not defined",
     "output_type": "error",
     "traceback": [
      "\u001B[0;31m---------------------------------------------------------------------------\u001B[0m",
      "\u001B[0;31mNameError\u001B[0m                                 Traceback (most recent call last)",
      "Cell \u001B[0;32mIn[16], line 1\u001B[0m\n\u001B[0;32m----> 1\u001B[0m dadri \u001B[38;5;241m=\u001B[39m \u001B[43mpd\u001B[49m\u001B[38;5;241m.\u001B[39mread_excel(\u001B[38;5;124m'\u001B[39m\u001B[38;5;124mData/Inter State Gen Stations (Forecast)/Dadri.xlsx\u001B[39m\u001B[38;5;124m'\u001B[39m)\n\u001B[1;32m      2\u001B[0m dadri \u001B[38;5;241m=\u001B[39m dadri\u001B[38;5;241m.\u001B[39mmerge(price_data, on\u001B[38;5;241m=\u001B[39m\u001B[38;5;124m'\u001B[39m\u001B[38;5;124mTimeStamp\u001B[39m\u001B[38;5;124m'\u001B[39m)\n\u001B[1;32m      3\u001B[0m dadri\u001B[38;5;241m.\u001B[39mfillna(\u001B[38;5;241m0\u001B[39m, inplace\u001B[38;5;241m=\u001B[39m\u001B[38;5;28;01mTrue\u001B[39;00m)\n",
      "\u001B[0;31mNameError\u001B[0m: name 'pd' is not defined"
     ]
    }
   ],
   "execution_count": 16
  },
  {
   "metadata": {},
   "cell_type": "code",
   "source": [
    "darlipalli = pd.read_excel('Data/Inter State Gen Stations (Forecast)/Darlipalli.xlsx')\n",
    "darlipalli = darlipalli.merge(price_data, on='TimeStamp')\n",
    "darlipalli.fillna(0, inplace=True)\n",
    "darlipalli.to_csv('New Data/Inter-State/darlipalli.csv', index=False)\n",
    "darlipalli.isnull().sum()"
   ],
   "id": "d213714133eea384",
   "outputs": [],
   "execution_count": null
  },
  {
   "metadata": {
    "ExecuteTime": {
     "end_time": "2024-12-19T04:23:55.169451Z",
     "start_time": "2024-12-19T04:23:55.163565Z"
    }
   },
   "cell_type": "code",
   "source": [
    "farakka_1 = pd.read_excel('Data/Inter State Gen Stations (Forecast)/Farakka1.xlsx')\n",
    "farakka_1 = farakka_1.merge(price_data, on='TimeStamp')\n",
    "farakka_1.fillna(0, inplace=True)\n",
    "farakka_1.to_csv('New Data/Inter-State/farakka_1.csv', index=False)\n",
    "farakka_1.isnull().sum()"
   ],
   "id": "efb988f31b0fc32",
   "outputs": [
    {
     "ename": "NameError",
     "evalue": "name 'pd' is not defined",
     "output_type": "error",
     "traceback": [
      "\u001B[0;31m---------------------------------------------------------------------------\u001B[0m",
      "\u001B[0;31mNameError\u001B[0m                                 Traceback (most recent call last)",
      "Cell \u001B[0;32mIn[17], line 1\u001B[0m\n\u001B[0;32m----> 1\u001B[0m farakka_1 \u001B[38;5;241m=\u001B[39m \u001B[43mpd\u001B[49m\u001B[38;5;241m.\u001B[39mread_excel(\u001B[38;5;124m'\u001B[39m\u001B[38;5;124mData/Inter State Gen Stations (Forecast)/Farakka1.xlsx\u001B[39m\u001B[38;5;124m'\u001B[39m)\n\u001B[1;32m      2\u001B[0m farakka_1 \u001B[38;5;241m=\u001B[39m farakka_1\u001B[38;5;241m.\u001B[39mmerge(price_data, on\u001B[38;5;241m=\u001B[39m\u001B[38;5;124m'\u001B[39m\u001B[38;5;124mTimeStamp\u001B[39m\u001B[38;5;124m'\u001B[39m)\n\u001B[1;32m      3\u001B[0m farakka_1\u001B[38;5;241m.\u001B[39mfillna(\u001B[38;5;241m0\u001B[39m, inplace\u001B[38;5;241m=\u001B[39m\u001B[38;5;28;01mTrue\u001B[39;00m)\n",
      "\u001B[0;31mNameError\u001B[0m: name 'pd' is not defined"
     ]
    }
   ],
   "execution_count": 17
  },
  {
   "metadata": {},
   "cell_type": "code",
   "source": [
    "farakka_3 = pd.read_excel('Data/Inter State Gen Stations (Forecast)/Farakka3.xlsx')\n",
    "farakka_3 = farakka_1.merge(price_data, on='TimeStamp')\n",
    "farakka_3.fillna(0, inplace=True)\n",
    "farakka_3.to_csv('New Data/Inter-State/farakka_3.csv', index=False)\n",
    "farakka_3.isnull().sum()"
   ],
   "id": "bde4b2e861a42e82",
   "outputs": [],
   "execution_count": null
  },
  {
   "metadata": {
    "ExecuteTime": {
     "end_time": "2024-12-19T04:23:55.180017Z",
     "start_time": "2024-12-19T04:23:55.173927Z"
    }
   },
   "cell_type": "code",
   "source": [
    "gadarwara = pd.read_excel('Data/Inter State Gen Stations (Forecast)/Gadarwara.xlsx')\n",
    "gadarwara = gadarwara.merge(price_data, on='TimeStamp')\n",
    "gadarwara.fillna(0, inplace=True)\n",
    "gadarwara.to_csv('New Data/Inter-State/gadarwara.csv', index=False)\n",
    "gadarwara.isnull().sum()"
   ],
   "id": "12b8c43811d9cea7",
   "outputs": [
    {
     "ename": "NameError",
     "evalue": "name 'pd' is not defined",
     "output_type": "error",
     "traceback": [
      "\u001B[0;31m---------------------------------------------------------------------------\u001B[0m",
      "\u001B[0;31mNameError\u001B[0m                                 Traceback (most recent call last)",
      "Cell \u001B[0;32mIn[18], line 1\u001B[0m\n\u001B[0;32m----> 1\u001B[0m gadarwara \u001B[38;5;241m=\u001B[39m \u001B[43mpd\u001B[49m\u001B[38;5;241m.\u001B[39mread_excel(\u001B[38;5;124m'\u001B[39m\u001B[38;5;124mData/Inter State Gen Stations (Forecast)/Gadarwara.xlsx\u001B[39m\u001B[38;5;124m'\u001B[39m)\n\u001B[1;32m      2\u001B[0m gadarwara \u001B[38;5;241m=\u001B[39m gadarwara\u001B[38;5;241m.\u001B[39mmerge(price_data, on\u001B[38;5;241m=\u001B[39m\u001B[38;5;124m'\u001B[39m\u001B[38;5;124mTimeStamp\u001B[39m\u001B[38;5;124m'\u001B[39m)\n\u001B[1;32m      3\u001B[0m gadarwara\u001B[38;5;241m.\u001B[39mfillna(\u001B[38;5;241m0\u001B[39m, inplace\u001B[38;5;241m=\u001B[39m\u001B[38;5;28;01mTrue\u001B[39;00m)\n",
      "\u001B[0;31mNameError\u001B[0m: name 'pd' is not defined"
     ]
    }
   ],
   "execution_count": 18
  },
  {
   "metadata": {
    "ExecuteTime": {
     "end_time": "2024-12-19T04:23:55.180779Z",
     "start_time": "2024-12-19T04:23:55.180724Z"
    }
   },
   "cell_type": "code",
   "source": [
    "jhanor = pd.read_excel('Data/Inter State Gen Stations (Forecast)/Jhanor.xlsx')\n",
    "jhanor = jhanor.merge(price_data, on='TimeStamp')\n",
    "jhanor.fillna(0, inplace=True)\n",
    "jhanor.to_csv('New Data/Inter-State/jhanor.csv', index=False)\n",
    "jhanor.isnull().sum()"
   ],
   "id": "5834cf492a9a53a5",
   "outputs": [],
   "execution_count": null
  },
  {
   "metadata": {
    "ExecuteTime": {
     "end_time": "2024-12-19T04:23:55.188304Z",
     "start_time": "2024-12-19T04:23:55.182378Z"
    }
   },
   "cell_type": "code",
   "source": [
    "kahlagaon_kahalgaon_1 = pd.read_excel('Data/Inter State Gen Stations (Forecast)/Kahlagaon & Kahalgaon1.xlsx')\n",
    "kahlagaon_kahalgaon_1 = kahlagaon_kahalgaon_1.merge(price_data, on='TimeStamp')\n",
    "kahlagaon_kahalgaon_1.fillna(0, inplace=True)\n",
    "kahlagaon_kahalgaon_1.to_csv('New Data/Inter-State/kahlagaon_kahalgaon_1.csv', index=False)\n",
    "kahlagaon_kahalgaon_1.isnull().sum()"
   ],
   "id": "fcad74e32b6789e9",
   "outputs": [
    {
     "ename": "NameError",
     "evalue": "name 'pd' is not defined",
     "output_type": "error",
     "traceback": [
      "\u001B[0;31m---------------------------------------------------------------------------\u001B[0m",
      "\u001B[0;31mNameError\u001B[0m                                 Traceback (most recent call last)",
      "Cell \u001B[0;32mIn[19], line 1\u001B[0m\n\u001B[0;32m----> 1\u001B[0m kahlagaon_kahalgaon_1 \u001B[38;5;241m=\u001B[39m \u001B[43mpd\u001B[49m\u001B[38;5;241m.\u001B[39mread_excel(\u001B[38;5;124m'\u001B[39m\u001B[38;5;124mData/Inter State Gen Stations (Forecast)/Kahlagaon & Kahalgaon1.xlsx\u001B[39m\u001B[38;5;124m'\u001B[39m)\n\u001B[1;32m      2\u001B[0m kahlagaon_kahalgaon_1 \u001B[38;5;241m=\u001B[39m kahlagaon_kahalgaon_1\u001B[38;5;241m.\u001B[39mmerge(price_data, on\u001B[38;5;241m=\u001B[39m\u001B[38;5;124m'\u001B[39m\u001B[38;5;124mTimeStamp\u001B[39m\u001B[38;5;124m'\u001B[39m)\n\u001B[1;32m      3\u001B[0m kahlagaon_kahalgaon_1\u001B[38;5;241m.\u001B[39mfillna(\u001B[38;5;241m0\u001B[39m, inplace\u001B[38;5;241m=\u001B[39m\u001B[38;5;28;01mTrue\u001B[39;00m)\n",
      "\u001B[0;31mNameError\u001B[0m: name 'pd' is not defined"
     ]
    }
   ],
   "execution_count": 19
  },
  {
   "metadata": {},
   "cell_type": "code",
   "source": [
    "kakrapar_3_4 = pd.read_excel('Data/Inter State Gen Stations (Forecast)/Kakrapar 3&4.xlsx')\n",
    "kakrapar_3_4 = kakrapar_3_4.merge(price_data, on='TimeStamp')\n",
    "kakrapar_3_4.fillna(0, inplace=True)\n",
    "kakrapar_3_4.to_csv('New Data/Inter-State/kakrapar_3_4.csv', index=False)\n",
    "kakrapar_3_4.isnull().sum()"
   ],
   "id": "243150f7f2c17e90",
   "outputs": [],
   "execution_count": null
  },
  {
   "metadata": {
    "ExecuteTime": {
     "end_time": "2024-12-19T04:23:55.210992Z",
     "start_time": "2024-12-19T04:23:55.204692Z"
    }
   },
   "cell_type": "code",
   "source": [
    "kawas = pd.read_excel('Data/Inter State Gen Stations (Forecast)/Kawas.xlsx')\n",
    "kawas = kawas.merge(price_data, on='TimeStamp')\n",
    "kawas.fillna(0, inplace=True)\n",
    "kawas.to_csv('New Data/Inter-State/kawas.csv', index=False)\n",
    "kawas.isnull().sum()"
   ],
   "id": "49b39317cb5f5618",
   "outputs": [
    {
     "ename": "NameError",
     "evalue": "name 'pd' is not defined",
     "output_type": "error",
     "traceback": [
      "\u001B[0;31m---------------------------------------------------------------------------\u001B[0m",
      "\u001B[0;31mNameError\u001B[0m                                 Traceback (most recent call last)",
      "Cell \u001B[0;32mIn[20], line 1\u001B[0m\n\u001B[0;32m----> 1\u001B[0m kawas \u001B[38;5;241m=\u001B[39m \u001B[43mpd\u001B[49m\u001B[38;5;241m.\u001B[39mread_excel(\u001B[38;5;124m'\u001B[39m\u001B[38;5;124mData/Inter State Gen Stations (Forecast)/Kawas.xlsx\u001B[39m\u001B[38;5;124m'\u001B[39m)\n\u001B[1;32m      2\u001B[0m kawas \u001B[38;5;241m=\u001B[39m kawas\u001B[38;5;241m.\u001B[39mmerge(price_data, on\u001B[38;5;241m=\u001B[39m\u001B[38;5;124m'\u001B[39m\u001B[38;5;124mTimeStamp\u001B[39m\u001B[38;5;124m'\u001B[39m)\n\u001B[1;32m      3\u001B[0m kawas\u001B[38;5;241m.\u001B[39mfillna(\u001B[38;5;241m0\u001B[39m, inplace\u001B[38;5;241m=\u001B[39m\u001B[38;5;28;01mTrue\u001B[39;00m)\n",
      "\u001B[0;31mNameError\u001B[0m: name 'pd' is not defined"
     ]
    }
   ],
   "execution_count": 20
  },
  {
   "metadata": {
    "ExecuteTime": {
     "end_time": "2024-12-19T04:23:55.211671Z",
     "start_time": "2024-12-19T04:23:55.211627Z"
    }
   },
   "cell_type": "code",
   "source": [
    "khargone = pd.read_excel('Data/Inter State Gen Stations (Forecast)/Khargone.xlsx')\n",
    "khargone = khargone.merge(price_data, on='TimeStamp')\n",
    "khargone.fillna(0, inplace=True)\n",
    "khargone.to_csv('New Data/Inter-State/khargone.csv', index=False)\n",
    "khargone.isnull().sum()"
   ],
   "id": "b1aa39e04256e47a",
   "outputs": [],
   "execution_count": null
  },
  {
   "metadata": {
    "ExecuteTime": {
     "end_time": "2024-12-19T04:23:55.219597Z",
     "start_time": "2024-12-19T04:23:55.213693Z"
    }
   },
   "cell_type": "code",
   "source": [
    "korba_1 = pd.read_excel('Data/Inter State Gen Stations (Forecast)/Korba1.xlsx')\n",
    "korba_1 = korba_1.merge(price_data, on='TimeStamp')\n",
    "korba_1.fillna(0, inplace=True)\n",
    "korba_1.to_csv('New Data/Inter-State/korba_1.csv', index=False)\n",
    "korba_1.isnull().sum()"
   ],
   "id": "a003c1227304c997",
   "outputs": [
    {
     "ename": "NameError",
     "evalue": "name 'pd' is not defined",
     "output_type": "error",
     "traceback": [
      "\u001B[0;31m---------------------------------------------------------------------------\u001B[0m",
      "\u001B[0;31mNameError\u001B[0m                                 Traceback (most recent call last)",
      "Cell \u001B[0;32mIn[21], line 1\u001B[0m\n\u001B[0;32m----> 1\u001B[0m korba_1 \u001B[38;5;241m=\u001B[39m \u001B[43mpd\u001B[49m\u001B[38;5;241m.\u001B[39mread_excel(\u001B[38;5;124m'\u001B[39m\u001B[38;5;124mData/Inter State Gen Stations (Forecast)/Korba1.xlsx\u001B[39m\u001B[38;5;124m'\u001B[39m)\n\u001B[1;32m      2\u001B[0m korba_1 \u001B[38;5;241m=\u001B[39m korba_1\u001B[38;5;241m.\u001B[39mmerge(price_data, on\u001B[38;5;241m=\u001B[39m\u001B[38;5;124m'\u001B[39m\u001B[38;5;124mTimeStamp\u001B[39m\u001B[38;5;124m'\u001B[39m)\n\u001B[1;32m      3\u001B[0m korba_1\u001B[38;5;241m.\u001B[39mfillna(\u001B[38;5;241m0\u001B[39m, inplace\u001B[38;5;241m=\u001B[39m\u001B[38;5;28;01mTrue\u001B[39;00m)\n",
      "\u001B[0;31mNameError\u001B[0m: name 'pd' is not defined"
     ]
    }
   ],
   "execution_count": 21
  },
  {
   "metadata": {
    "ExecuteTime": {
     "end_time": "2024-12-19T04:23:55.227462Z",
     "start_time": "2024-12-19T04:23:55.220957Z"
    }
   },
   "cell_type": "code",
   "source": [
    "korba_2 = pd.read_excel('Data/Inter State Gen Stations (Forecast)/Korba2.xlsx')\n",
    "korba_2 = korba_2.merge(price_data, on='TimeStamp')\n",
    "korba_2.fillna(0, inplace=True)\n",
    "korba_2.to_csv('New Data/Inter-State/korba_2.csv', index=False)\n",
    "korba_2.isnull().sum()"
   ],
   "id": "e4ad8c05e2b60df8",
   "outputs": [
    {
     "ename": "NameError",
     "evalue": "name 'pd' is not defined",
     "output_type": "error",
     "traceback": [
      "\u001B[0;31m---------------------------------------------------------------------------\u001B[0m",
      "\u001B[0;31mNameError\u001B[0m                                 Traceback (most recent call last)",
      "Cell \u001B[0;32mIn[22], line 1\u001B[0m\n\u001B[0;32m----> 1\u001B[0m korba_2 \u001B[38;5;241m=\u001B[39m \u001B[43mpd\u001B[49m\u001B[38;5;241m.\u001B[39mread_excel(\u001B[38;5;124m'\u001B[39m\u001B[38;5;124mData/Inter State Gen Stations (Forecast)/Korba2.xlsx\u001B[39m\u001B[38;5;124m'\u001B[39m)\n\u001B[1;32m      2\u001B[0m korba_2 \u001B[38;5;241m=\u001B[39m korba_2\u001B[38;5;241m.\u001B[39mmerge(price_data, on\u001B[38;5;241m=\u001B[39m\u001B[38;5;124m'\u001B[39m\u001B[38;5;124mTimeStamp\u001B[39m\u001B[38;5;124m'\u001B[39m)\n\u001B[1;32m      3\u001B[0m korba_2\u001B[38;5;241m.\u001B[39mfillna(\u001B[38;5;241m0\u001B[39m, inplace\u001B[38;5;241m=\u001B[39m\u001B[38;5;28;01mTrue\u001B[39;00m)\n",
      "\u001B[0;31mNameError\u001B[0m: name 'pd' is not defined"
     ]
    }
   ],
   "execution_count": 22
  },
  {
   "metadata": {},
   "cell_type": "code",
   "source": [
    "lara = pd.read_excel('Data/Inter State Gen Stations (Forecast)/Lara.xlsx')\n",
    "lara = korba_2.merge(price_data, on='TimeStamp')\n",
    "lara.fillna(0, inplace=True)\n",
    "lara.to_csv('New Data/Inter-State/lara.csv', index=False)\n",
    "lara.isnull().sum()"
   ],
   "id": "67fe205f542e94aa",
   "outputs": [],
   "execution_count": null
  },
  {
   "metadata": {
    "ExecuteTime": {
     "end_time": "2024-12-19T04:23:55.237920Z",
     "start_time": "2024-12-19T04:23:55.231731Z"
    }
   },
   "cell_type": "code",
   "source": [
    "mauda = pd.read_excel('Data/Inter State Gen Stations (Forecast)/Mauda.xlsx')\n",
    "mauda = mauda.merge(price_data, on='TimeStamp')\n",
    "mauda.fillna(0, inplace=True)\n",
    "mauda.to_csv('New Data/Inter-State/mauda.csv', index=False)\n",
    "mauda.isnull().sum()"
   ],
   "id": "b08bd6f765b106ad",
   "outputs": [
    {
     "ename": "NameError",
     "evalue": "name 'pd' is not defined",
     "output_type": "error",
     "traceback": [
      "\u001B[0;31m---------------------------------------------------------------------------\u001B[0m",
      "\u001B[0;31mNameError\u001B[0m                                 Traceback (most recent call last)",
      "Cell \u001B[0;32mIn[23], line 1\u001B[0m\n\u001B[0;32m----> 1\u001B[0m mauda \u001B[38;5;241m=\u001B[39m \u001B[43mpd\u001B[49m\u001B[38;5;241m.\u001B[39mread_excel(\u001B[38;5;124m'\u001B[39m\u001B[38;5;124mData/Inter State Gen Stations (Forecast)/Mauda.xlsx\u001B[39m\u001B[38;5;124m'\u001B[39m)\n\u001B[1;32m      2\u001B[0m mauda \u001B[38;5;241m=\u001B[39m mauda\u001B[38;5;241m.\u001B[39mmerge(price_data, on\u001B[38;5;241m=\u001B[39m\u001B[38;5;124m'\u001B[39m\u001B[38;5;124mTimeStamp\u001B[39m\u001B[38;5;124m'\u001B[39m)\n\u001B[1;32m      3\u001B[0m mauda\u001B[38;5;241m.\u001B[39mfillna(\u001B[38;5;241m0\u001B[39m, inplace\u001B[38;5;241m=\u001B[39m\u001B[38;5;28;01mTrue\u001B[39;00m)\n",
      "\u001B[0;31mNameError\u001B[0m: name 'pd' is not defined"
     ]
    }
   ],
   "execution_count": 23
  },
  {
   "metadata": {
    "ExecuteTime": {
     "end_time": "2024-12-19T04:23:55.257140Z",
     "start_time": "2024-12-19T04:23:55.245695Z"
    }
   },
   "cell_type": "code",
   "source": [
    "mauda_2 = pd.read_excel('Data/Inter State Gen Stations (Forecast)/Mauda2.xlsx')\n",
    "mauda_2 = mauda_2.merge(price_data, on='TimeStamp')\n",
    "mauda_2.fillna(0, inplace=True)\n",
    "mauda_2.to_csv('New Data/Inter-State/mauda_2.csv', index=False)\n",
    "mauda_2.isnull().sum()"
   ],
   "id": "c3a8595062fd5f42",
   "outputs": [
    {
     "ename": "NameError",
     "evalue": "name 'pd' is not defined",
     "output_type": "error",
     "traceback": [
      "\u001B[0;31m---------------------------------------------------------------------------\u001B[0m",
      "\u001B[0;31mNameError\u001B[0m                                 Traceback (most recent call last)",
      "Cell \u001B[0;32mIn[24], line 1\u001B[0m\n\u001B[0;32m----> 1\u001B[0m mauda_2 \u001B[38;5;241m=\u001B[39m \u001B[43mpd\u001B[49m\u001B[38;5;241m.\u001B[39mread_excel(\u001B[38;5;124m'\u001B[39m\u001B[38;5;124mData/Inter State Gen Stations (Forecast)/Mauda2.xlsx\u001B[39m\u001B[38;5;124m'\u001B[39m)\n\u001B[1;32m      2\u001B[0m mauda_2 \u001B[38;5;241m=\u001B[39m mauda_2\u001B[38;5;241m.\u001B[39mmerge(price_data, on\u001B[38;5;241m=\u001B[39m\u001B[38;5;124m'\u001B[39m\u001B[38;5;124mTimeStamp\u001B[39m\u001B[38;5;124m'\u001B[39m)\n\u001B[1;32m      3\u001B[0m mauda_2\u001B[38;5;241m.\u001B[39mfillna(\u001B[38;5;241m0\u001B[39m, inplace\u001B[38;5;241m=\u001B[39m\u001B[38;5;28;01mTrue\u001B[39;00m)\n",
      "\u001B[0;31mNameError\u001B[0m: name 'pd' is not defined"
     ]
    }
   ],
   "execution_count": 24
  },
  {
   "metadata": {
    "ExecuteTime": {
     "end_time": "2024-12-19T04:23:55.270824Z",
     "start_time": "2024-12-19T04:23:55.259212Z"
    }
   },
   "cell_type": "code",
   "source": [
    "sipat_1 = pd.read_excel('Data/Inter State Gen Stations (Forecast)/Sipat1.xlsx')\n",
    "sipat_1 = sipat_1.merge(price_data, on='TimeStamp')\n",
    "sipat_1.fillna(0, inplace=True)\n",
    "sipat_1.to_csv('New Data/Inter-State/sipat_1.csv', index=False)\n",
    "sipat_1.isnull().sum()"
   ],
   "id": "85b7b9c8e9fa45d7",
   "outputs": [
    {
     "ename": "NameError",
     "evalue": "name 'pd' is not defined",
     "output_type": "error",
     "traceback": [
      "\u001B[0;31m---------------------------------------------------------------------------\u001B[0m",
      "\u001B[0;31mNameError\u001B[0m                                 Traceback (most recent call last)",
      "Cell \u001B[0;32mIn[25], line 1\u001B[0m\n\u001B[0;32m----> 1\u001B[0m sipat_1 \u001B[38;5;241m=\u001B[39m \u001B[43mpd\u001B[49m\u001B[38;5;241m.\u001B[39mread_excel(\u001B[38;5;124m'\u001B[39m\u001B[38;5;124mData/Inter State Gen Stations (Forecast)/Sipat1.xlsx\u001B[39m\u001B[38;5;124m'\u001B[39m)\n\u001B[1;32m      2\u001B[0m sipat_1 \u001B[38;5;241m=\u001B[39m sipat_1\u001B[38;5;241m.\u001B[39mmerge(price_data, on\u001B[38;5;241m=\u001B[39m\u001B[38;5;124m'\u001B[39m\u001B[38;5;124mTimeStamp\u001B[39m\u001B[38;5;124m'\u001B[39m)\n\u001B[1;32m      3\u001B[0m sipat_1\u001B[38;5;241m.\u001B[39mfillna(\u001B[38;5;241m0\u001B[39m, inplace\u001B[38;5;241m=\u001B[39m\u001B[38;5;28;01mTrue\u001B[39;00m)\n",
      "\u001B[0;31mNameError\u001B[0m: name 'pd' is not defined"
     ]
    }
   ],
   "execution_count": 25
  },
  {
   "metadata": {},
   "cell_type": "code",
   "source": [
    "sipat_2 = pd.read_excel('Data/Inter State Gen Stations (Forecast)/Sipat2.xlsx')\n",
    "sipat_2 = sipat_2.merge(price_data, on='TimeStamp')\n",
    "sipat_2.fillna(0, inplace=True)\n",
    "sipat_2.to_csv('New Data/Inter-State/sipat_2.csv', index=False)\n",
    "sipat_2.isnull().sum()"
   ],
   "id": "e7953db0ed2dcab6",
   "outputs": [],
   "execution_count": null
  },
  {
   "metadata": {
    "ExecuteTime": {
     "end_time": "2024-12-19T04:23:55.302875Z",
     "start_time": "2024-12-19T04:23:55.290164Z"
    }
   },
   "cell_type": "code",
   "source": [
    "solapur = pd.read_excel('Data/Inter State Gen Stations (Forecast)/Solapur.xlsx')\n",
    "solapur = solapur.merge(price_data, on='TimeStamp')\n",
    "solapur.fillna(0, inplace=True)\n",
    "solapur.to_csv('New Data/Inter-State/solapur.csv', index=False)\n",
    "solapur.isnull().sum()"
   ],
   "id": "4f4be980a08531ff",
   "outputs": [
    {
     "ename": "NameError",
     "evalue": "name 'pd' is not defined",
     "output_type": "error",
     "traceback": [
      "\u001B[0;31m---------------------------------------------------------------------------\u001B[0m",
      "\u001B[0;31mNameError\u001B[0m                                 Traceback (most recent call last)",
      "Cell \u001B[0;32mIn[26], line 1\u001B[0m\n\u001B[0;32m----> 1\u001B[0m solapur \u001B[38;5;241m=\u001B[39m \u001B[43mpd\u001B[49m\u001B[38;5;241m.\u001B[39mread_excel(\u001B[38;5;124m'\u001B[39m\u001B[38;5;124mData/Inter State Gen Stations (Forecast)/Solapur.xlsx\u001B[39m\u001B[38;5;124m'\u001B[39m)\n\u001B[1;32m      2\u001B[0m solapur \u001B[38;5;241m=\u001B[39m solapur\u001B[38;5;241m.\u001B[39mmerge(price_data, on\u001B[38;5;241m=\u001B[39m\u001B[38;5;124m'\u001B[39m\u001B[38;5;124mTimeStamp\u001B[39m\u001B[38;5;124m'\u001B[39m)\n\u001B[1;32m      3\u001B[0m solapur\u001B[38;5;241m.\u001B[39mfillna(\u001B[38;5;241m0\u001B[39m, inplace\u001B[38;5;241m=\u001B[39m\u001B[38;5;28;01mTrue\u001B[39;00m)\n",
      "\u001B[0;31mNameError\u001B[0m: name 'pd' is not defined"
     ]
    }
   ],
   "execution_count": 26
  },
  {
   "metadata": {
    "ExecuteTime": {
     "end_time": "2024-12-19T04:23:55.311343Z",
     "start_time": "2024-12-19T04:23:55.304502Z"
    }
   },
   "cell_type": "code",
   "source": [
    "ssnnl = pd.read_excel('Data/Inter State Gen Stations (Forecast)/SSNNL.xlsx')\n",
    "ssnnl = ssnnl.merge(price_data, on='TimeStamp')\n",
    "ssnnl.fillna(0, inplace=True)\n",
    "ssnnl.to_csv('New Data/Inter-State/ssnnl.csv', index=False)\n",
    "ssnnl.isnull().sum()"
   ],
   "id": "72c679c8a80377b3",
   "outputs": [
    {
     "ename": "NameError",
     "evalue": "name 'pd' is not defined",
     "output_type": "error",
     "traceback": [
      "\u001B[0;31m---------------------------------------------------------------------------\u001B[0m",
      "\u001B[0;31mNameError\u001B[0m                                 Traceback (most recent call last)",
      "Cell \u001B[0;32mIn[27], line 1\u001B[0m\n\u001B[0;32m----> 1\u001B[0m ssnnl \u001B[38;5;241m=\u001B[39m \u001B[43mpd\u001B[49m\u001B[38;5;241m.\u001B[39mread_excel(\u001B[38;5;124m'\u001B[39m\u001B[38;5;124mData/Inter State Gen Stations (Forecast)/SSNNL.xlsx\u001B[39m\u001B[38;5;124m'\u001B[39m)\n\u001B[1;32m      2\u001B[0m ssnnl \u001B[38;5;241m=\u001B[39m ssnnl\u001B[38;5;241m.\u001B[39mmerge(price_data, on\u001B[38;5;241m=\u001B[39m\u001B[38;5;124m'\u001B[39m\u001B[38;5;124mTimeStamp\u001B[39m\u001B[38;5;124m'\u001B[39m)\n\u001B[1;32m      3\u001B[0m ssnnl\u001B[38;5;241m.\u001B[39mfillna(\u001B[38;5;241m0\u001B[39m, inplace\u001B[38;5;241m=\u001B[39m\u001B[38;5;28;01mTrue\u001B[39;00m)\n",
      "\u001B[0;31mNameError\u001B[0m: name 'pd' is not defined"
     ]
    }
   ],
   "execution_count": 27
  },
  {
   "metadata": {
    "ExecuteTime": {
     "end_time": "2024-12-19T04:23:55.320081Z",
     "start_time": "2024-12-19T04:23:55.312938Z"
    }
   },
   "cell_type": "code",
   "source": [
    "talcher = pd.read_excel('Data/Inter State Gen Stations (Forecast)/Talcher.xlsx')\n",
    "talcher = talcher.merge(price_data, on='TimeStamp')\n",
    "talcher.fillna(0, inplace=True)\n",
    "talcher.to_csv('New Data/Inter-State/talcher.csv', index=False)\n",
    "talcher.isnull().sum()"
   ],
   "id": "7d68c14cd1d2f20",
   "outputs": [
    {
     "ename": "NameError",
     "evalue": "name 'pd' is not defined",
     "output_type": "error",
     "traceback": [
      "\u001B[0;31m---------------------------------------------------------------------------\u001B[0m",
      "\u001B[0;31mNameError\u001B[0m                                 Traceback (most recent call last)",
      "Cell \u001B[0;32mIn[28], line 1\u001B[0m\n\u001B[0;32m----> 1\u001B[0m talcher \u001B[38;5;241m=\u001B[39m \u001B[43mpd\u001B[49m\u001B[38;5;241m.\u001B[39mread_excel(\u001B[38;5;124m'\u001B[39m\u001B[38;5;124mData/Inter State Gen Stations (Forecast)/Talcher.xlsx\u001B[39m\u001B[38;5;124m'\u001B[39m)\n\u001B[1;32m      2\u001B[0m talcher \u001B[38;5;241m=\u001B[39m talcher\u001B[38;5;241m.\u001B[39mmerge(price_data, on\u001B[38;5;241m=\u001B[39m\u001B[38;5;124m'\u001B[39m\u001B[38;5;124mTimeStamp\u001B[39m\u001B[38;5;124m'\u001B[39m)\n\u001B[1;32m      3\u001B[0m talcher\u001B[38;5;241m.\u001B[39mfillna(\u001B[38;5;241m0\u001B[39m, inplace\u001B[38;5;241m=\u001B[39m\u001B[38;5;28;01mTrue\u001B[39;00m)\n",
      "\u001B[0;31mNameError\u001B[0m: name 'pd' is not defined"
     ]
    }
   ],
   "execution_count": 28
  },
  {
   "metadata": {
    "ExecuteTime": {
     "end_time": "2024-12-19T04:23:55.341029Z",
     "start_time": "2024-12-19T04:23:55.332043Z"
    }
   },
   "cell_type": "code",
   "source": [
    "tanda_2 = pd.read_excel('Data/Inter State Gen Stations (Forecast)/Tanda2.xlsx')\n",
    "tanda_2 = tanda_2.merge(price_data, on='TimeStamp')\n",
    "tanda_2.fillna(0, inplace=True)\n",
    "tanda_2.to_csv('New Data/Inter-State/tanda_2.csv', index=False)\n",
    "tanda_2.isnull().sum()"
   ],
   "id": "df6be3da72980bbf",
   "outputs": [
    {
     "ename": "NameError",
     "evalue": "name 'pd' is not defined",
     "output_type": "error",
     "traceback": [
      "\u001B[0;31m---------------------------------------------------------------------------\u001B[0m",
      "\u001B[0;31mNameError\u001B[0m                                 Traceback (most recent call last)",
      "Cell \u001B[0;32mIn[29], line 1\u001B[0m\n\u001B[0;32m----> 1\u001B[0m tanda_2 \u001B[38;5;241m=\u001B[39m \u001B[43mpd\u001B[49m\u001B[38;5;241m.\u001B[39mread_excel(\u001B[38;5;124m'\u001B[39m\u001B[38;5;124mData/Inter State Gen Stations (Forecast)/Tanda2.xlsx\u001B[39m\u001B[38;5;124m'\u001B[39m)\n\u001B[1;32m      2\u001B[0m tanda_2 \u001B[38;5;241m=\u001B[39m tanda_2\u001B[38;5;241m.\u001B[39mmerge(price_data, on\u001B[38;5;241m=\u001B[39m\u001B[38;5;124m'\u001B[39m\u001B[38;5;124mTimeStamp\u001B[39m\u001B[38;5;124m'\u001B[39m)\n\u001B[1;32m      3\u001B[0m tanda_2\u001B[38;5;241m.\u001B[39mfillna(\u001B[38;5;241m0\u001B[39m, inplace\u001B[38;5;241m=\u001B[39m\u001B[38;5;28;01mTrue\u001B[39;00m)\n",
      "\u001B[0;31mNameError\u001B[0m: name 'pd' is not defined"
     ]
    }
   ],
   "execution_count": 29
  },
  {
   "metadata": {
    "ExecuteTime": {
     "end_time": "2024-12-19T04:23:55.347900Z",
     "start_time": "2024-12-19T04:23:55.341934Z"
    }
   },
   "cell_type": "code",
   "source": [
    "tarapur_3_4 = pd.read_excel('Data/Inter State Gen Stations (Forecast)/Tarapur 3&4.xlsx')\n",
    "tarapur_3_4 = tarapur_3_4.merge(price_data, on='TimeStamp')\n",
    "tarapur_3_4.fillna(0, inplace=True)\n",
    "tarapur_3_4.to_csv('New Data/Inter-State/tarapur_3_4.csv', index=False)\n",
    "tarapur_3_4.isnull().sum()"
   ],
   "id": "e2af41b9573c7112",
   "outputs": [
    {
     "ename": "NameError",
     "evalue": "name 'pd' is not defined",
     "output_type": "error",
     "traceback": [
      "\u001B[0;31m---------------------------------------------------------------------------\u001B[0m",
      "\u001B[0;31mNameError\u001B[0m                                 Traceback (most recent call last)",
      "Cell \u001B[0;32mIn[30], line 1\u001B[0m\n\u001B[0;32m----> 1\u001B[0m tarapur_3_4 \u001B[38;5;241m=\u001B[39m \u001B[43mpd\u001B[49m\u001B[38;5;241m.\u001B[39mread_excel(\u001B[38;5;124m'\u001B[39m\u001B[38;5;124mData/Inter State Gen Stations (Forecast)/Tarapur 3&4.xlsx\u001B[39m\u001B[38;5;124m'\u001B[39m)\n\u001B[1;32m      2\u001B[0m tarapur_3_4 \u001B[38;5;241m=\u001B[39m tarapur_3_4\u001B[38;5;241m.\u001B[39mmerge(price_data, on\u001B[38;5;241m=\u001B[39m\u001B[38;5;124m'\u001B[39m\u001B[38;5;124mTimeStamp\u001B[39m\u001B[38;5;124m'\u001B[39m)\n\u001B[1;32m      3\u001B[0m tarapur_3_4\u001B[38;5;241m.\u001B[39mfillna(\u001B[38;5;241m0\u001B[39m, inplace\u001B[38;5;241m=\u001B[39m\u001B[38;5;28;01mTrue\u001B[39;00m)\n",
      "\u001B[0;31mNameError\u001B[0m: name 'pd' is not defined"
     ]
    }
   ],
   "execution_count": 30
  },
  {
   "metadata": {
    "ExecuteTime": {
     "end_time": "2024-12-19T04:23:55.355639Z",
     "start_time": "2024-12-19T04:23:55.348739Z"
    }
   },
   "cell_type": "code",
   "source": [
    "unchahar_1 = pd.read_excel('Data/Inter State Gen Stations (Forecast)/Unchahar1.xlsx')\n",
    "unchahar_1 = unchahar_1.merge(price_data, on='TimeStamp')\n",
    "unchahar_1.fillna(0, inplace=True)\n",
    "unchahar_1.to_csv('New Data/Inter-State/unchahar_1.csv', index=False)\n",
    "unchahar_1.isnull().sum()"
   ],
   "id": "359e46c313002259",
   "outputs": [
    {
     "ename": "NameError",
     "evalue": "name 'pd' is not defined",
     "output_type": "error",
     "traceback": [
      "\u001B[0;31m---------------------------------------------------------------------------\u001B[0m",
      "\u001B[0;31mNameError\u001B[0m                                 Traceback (most recent call last)",
      "Cell \u001B[0;32mIn[31], line 1\u001B[0m\n\u001B[0;32m----> 1\u001B[0m unchahar_1 \u001B[38;5;241m=\u001B[39m \u001B[43mpd\u001B[49m\u001B[38;5;241m.\u001B[39mread_excel(\u001B[38;5;124m'\u001B[39m\u001B[38;5;124mData/Inter State Gen Stations (Forecast)/Unchahar1.xlsx\u001B[39m\u001B[38;5;124m'\u001B[39m)\n\u001B[1;32m      2\u001B[0m unchahar_1 \u001B[38;5;241m=\u001B[39m unchahar_1\u001B[38;5;241m.\u001B[39mmerge(price_data, on\u001B[38;5;241m=\u001B[39m\u001B[38;5;124m'\u001B[39m\u001B[38;5;124mTimeStamp\u001B[39m\u001B[38;5;124m'\u001B[39m)\n\u001B[1;32m      3\u001B[0m unchahar_1\u001B[38;5;241m.\u001B[39mfillna(\u001B[38;5;241m0\u001B[39m, inplace\u001B[38;5;241m=\u001B[39m\u001B[38;5;28;01mTrue\u001B[39;00m)\n",
      "\u001B[0;31mNameError\u001B[0m: name 'pd' is not defined"
     ]
    }
   ],
   "execution_count": 31
  },
  {
   "metadata": {
    "ExecuteTime": {
     "end_time": "2024-12-19T04:23:55.372162Z",
     "start_time": "2024-12-19T04:23:55.365548Z"
    }
   },
   "cell_type": "code",
   "source": [
    "vidyanchal_1 = pd.read_excel('Data/Inter State Gen Stations (Forecast)/Vidyanchal1.xlsx')\n",
    "# vidyanchal_1 = vidyanchal_1.merge(price_data, on='TimeStamp')\n",
    "vidyanchal_1.fillna(0, inplace=True)\n",
    "vidyanchal_1.to_csv('New Data/Inter-State/vidyanchal_1.csv', index=False)\n",
    "vidyanchal_1.isnull().sum()"
   ],
   "id": "d65ab6c6e741adb",
   "outputs": [
    {
     "ename": "NameError",
     "evalue": "name 'pd' is not defined",
     "output_type": "error",
     "traceback": [
      "\u001B[0;31m---------------------------------------------------------------------------\u001B[0m",
      "\u001B[0;31mNameError\u001B[0m                                 Traceback (most recent call last)",
      "Cell \u001B[0;32mIn[32], line 1\u001B[0m\n\u001B[0;32m----> 1\u001B[0m vidyanchal_1 \u001B[38;5;241m=\u001B[39m \u001B[43mpd\u001B[49m\u001B[38;5;241m.\u001B[39mread_excel(\u001B[38;5;124m'\u001B[39m\u001B[38;5;124mData/Inter State Gen Stations (Forecast)/Vidyanchal1.xlsx\u001B[39m\u001B[38;5;124m'\u001B[39m)\n\u001B[1;32m      2\u001B[0m \u001B[38;5;66;03m# vidyanchal_1 = vidyanchal_1.merge(price_data, on='TimeStamp')\u001B[39;00m\n\u001B[1;32m      3\u001B[0m vidyanchal_1\u001B[38;5;241m.\u001B[39mfillna(\u001B[38;5;241m0\u001B[39m, inplace\u001B[38;5;241m=\u001B[39m\u001B[38;5;28;01mTrue\u001B[39;00m)\n",
      "\u001B[0;31mNameError\u001B[0m: name 'pd' is not defined"
     ]
    }
   ],
   "execution_count": 32
  },
  {
   "metadata": {
    "ExecuteTime": {
     "end_time": "2024-12-19T04:23:55.381842Z",
     "start_time": "2024-12-19T04:23:55.375548Z"
    }
   },
   "cell_type": "code",
   "source": [
    "vidyanchal_2 = pd.read_excel('Data/Inter State Gen Stations (Forecast)/Vidyanchal2.xlsx')\n",
    "vidyanchal_2 = vidyanchal_2.merge(price_data, on='TimeStamp')\n",
    "vidyanchal_2.fillna(0, inplace=True)\n",
    "vidyanchal_2.to_csv('New Data/Inter-State/vidyanchal_2.csv', index=False)\n",
    "vidyanchal_2.isnull().sum()"
   ],
   "id": "50f4585d6157f4e5",
   "outputs": [
    {
     "ename": "NameError",
     "evalue": "name 'pd' is not defined",
     "output_type": "error",
     "traceback": [
      "\u001B[0;31m---------------------------------------------------------------------------\u001B[0m",
      "\u001B[0;31mNameError\u001B[0m                                 Traceback (most recent call last)",
      "Cell \u001B[0;32mIn[33], line 1\u001B[0m\n\u001B[0;32m----> 1\u001B[0m vidyanchal_2 \u001B[38;5;241m=\u001B[39m \u001B[43mpd\u001B[49m\u001B[38;5;241m.\u001B[39mread_excel(\u001B[38;5;124m'\u001B[39m\u001B[38;5;124mData/Inter State Gen Stations (Forecast)/Vidyanchal2.xlsx\u001B[39m\u001B[38;5;124m'\u001B[39m)\n\u001B[1;32m      2\u001B[0m vidyanchal_2 \u001B[38;5;241m=\u001B[39m vidyanchal_2\u001B[38;5;241m.\u001B[39mmerge(price_data, on\u001B[38;5;241m=\u001B[39m\u001B[38;5;124m'\u001B[39m\u001B[38;5;124mTimeStamp\u001B[39m\u001B[38;5;124m'\u001B[39m)\n\u001B[1;32m      3\u001B[0m vidyanchal_2\u001B[38;5;241m.\u001B[39mfillna(\u001B[38;5;241m0\u001B[39m, inplace\u001B[38;5;241m=\u001B[39m\u001B[38;5;28;01mTrue\u001B[39;00m)\n",
      "\u001B[0;31mNameError\u001B[0m: name 'pd' is not defined"
     ]
    }
   ],
   "execution_count": 33
  },
  {
   "metadata": {
    "ExecuteTime": {
     "end_time": "2024-12-19T04:23:55.390524Z",
     "start_time": "2024-12-19T04:23:55.384007Z"
    }
   },
   "cell_type": "code",
   "source": [
    "vidyanchal_3 = pd.read_excel('Data/Inter State Gen Stations (Forecast)/Vidyanchal3.xlsx')\n",
    "vidyanchal_3 = vidyanchal_3.merge(price_data, on='TimeStamp')\n",
    "vidyanchal_3.fillna(0, inplace=True)\n",
    "vidyanchal_3.to_csv('New Data/Inter-State/vidyanchal_3.csv', index=False)\n",
    "vidyanchal_3.isnull().sum()"
   ],
   "id": "81dc1787e4c5d3ac",
   "outputs": [
    {
     "ename": "NameError",
     "evalue": "name 'pd' is not defined",
     "output_type": "error",
     "traceback": [
      "\u001B[0;31m---------------------------------------------------------------------------\u001B[0m",
      "\u001B[0;31mNameError\u001B[0m                                 Traceback (most recent call last)",
      "Cell \u001B[0;32mIn[34], line 1\u001B[0m\n\u001B[0;32m----> 1\u001B[0m vidyanchal_3 \u001B[38;5;241m=\u001B[39m \u001B[43mpd\u001B[49m\u001B[38;5;241m.\u001B[39mread_excel(\u001B[38;5;124m'\u001B[39m\u001B[38;5;124mData/Inter State Gen Stations (Forecast)/Vidyanchal3.xlsx\u001B[39m\u001B[38;5;124m'\u001B[39m)\n\u001B[1;32m      2\u001B[0m vidyanchal_3 \u001B[38;5;241m=\u001B[39m vidyanchal_3\u001B[38;5;241m.\u001B[39mmerge(price_data, on\u001B[38;5;241m=\u001B[39m\u001B[38;5;124m'\u001B[39m\u001B[38;5;124mTimeStamp\u001B[39m\u001B[38;5;124m'\u001B[39m)\n\u001B[1;32m      3\u001B[0m vidyanchal_3\u001B[38;5;241m.\u001B[39mfillna(\u001B[38;5;241m0\u001B[39m, inplace\u001B[38;5;241m=\u001B[39m\u001B[38;5;28;01mTrue\u001B[39;00m)\n",
      "\u001B[0;31mNameError\u001B[0m: name 'pd' is not defined"
     ]
    }
   ],
   "execution_count": 34
  },
  {
   "metadata": {
    "ExecuteTime": {
     "end_time": "2024-12-19T04:23:55.398401Z",
     "start_time": "2024-12-19T04:23:55.391344Z"
    }
   },
   "cell_type": "code",
   "source": [
    "vidyanchal_4 = pd.read_excel('Data/Inter State Gen Stations (Forecast)/Vidyanchal4.xlsx')\n",
    "vidyanchal_4 = vidyanchal_4.merge(price_data, on='TimeStamp')\n",
    "vidyanchal_4.fillna(0, inplace=True)\n",
    "vidyanchal_4.to_csv('New Data/Inter-State/vidyanchal_4.csv', index=False)\n",
    "vidyanchal_4.isnull().sum()"
   ],
   "id": "cf36bfe793ba4fc",
   "outputs": [
    {
     "ename": "NameError",
     "evalue": "name 'pd' is not defined",
     "output_type": "error",
     "traceback": [
      "\u001B[0;31m---------------------------------------------------------------------------\u001B[0m",
      "\u001B[0;31mNameError\u001B[0m                                 Traceback (most recent call last)",
      "Cell \u001B[0;32mIn[35], line 1\u001B[0m\n\u001B[0;32m----> 1\u001B[0m vidyanchal_4 \u001B[38;5;241m=\u001B[39m \u001B[43mpd\u001B[49m\u001B[38;5;241m.\u001B[39mread_excel(\u001B[38;5;124m'\u001B[39m\u001B[38;5;124mData/Inter State Gen Stations (Forecast)/Vidyanchal4.xlsx\u001B[39m\u001B[38;5;124m'\u001B[39m)\n\u001B[1;32m      2\u001B[0m vidyanchal_4 \u001B[38;5;241m=\u001B[39m vidyanchal_4\u001B[38;5;241m.\u001B[39mmerge(price_data, on\u001B[38;5;241m=\u001B[39m\u001B[38;5;124m'\u001B[39m\u001B[38;5;124mTimeStamp\u001B[39m\u001B[38;5;124m'\u001B[39m)\n\u001B[1;32m      3\u001B[0m vidyanchal_4\u001B[38;5;241m.\u001B[39mfillna(\u001B[38;5;241m0\u001B[39m, inplace\u001B[38;5;241m=\u001B[39m\u001B[38;5;28;01mTrue\u001B[39;00m)\n",
      "\u001B[0;31mNameError\u001B[0m: name 'pd' is not defined"
     ]
    }
   ],
   "execution_count": 35
  },
  {
   "metadata": {
    "ExecuteTime": {
     "end_time": "2024-12-19T04:23:55.432191Z",
     "start_time": "2024-12-19T04:23:55.404705Z"
    }
   },
   "cell_type": "code",
   "source": [
    "vidyanchal_5 = pd.read_excel('Data/Inter State Gen Stations (Forecast)/Vidyanchal5.xlsx')\n",
    "vidyanchal_5 = vidyanchal_5.merge(price_data, on='TimeStamp')\n",
    "vidyanchal_5.fillna(0, inplace=True)\n",
    "vidyanchal_5.to_csv('New Data/Inter-State/vidyanchal_5.csv', index=False)\n",
    "vidyanchal_5.isnull().sum()"
   ],
   "id": "6aad4b781df34356",
   "outputs": [
    {
     "ename": "NameError",
     "evalue": "name 'pd' is not defined",
     "output_type": "error",
     "traceback": [
      "\u001B[0;31m---------------------------------------------------------------------------\u001B[0m",
      "\u001B[0;31mNameError\u001B[0m                                 Traceback (most recent call last)",
      "Cell \u001B[0;32mIn[36], line 1\u001B[0m\n\u001B[0;32m----> 1\u001B[0m vidyanchal_5 \u001B[38;5;241m=\u001B[39m \u001B[43mpd\u001B[49m\u001B[38;5;241m.\u001B[39mread_excel(\u001B[38;5;124m'\u001B[39m\u001B[38;5;124mData/Inter State Gen Stations (Forecast)/Vidyanchal5.xlsx\u001B[39m\u001B[38;5;124m'\u001B[39m)\n\u001B[1;32m      2\u001B[0m vidyanchal_5 \u001B[38;5;241m=\u001B[39m vidyanchal_5\u001B[38;5;241m.\u001B[39mmerge(price_data, on\u001B[38;5;241m=\u001B[39m\u001B[38;5;124m'\u001B[39m\u001B[38;5;124mTimeStamp\u001B[39m\u001B[38;5;124m'\u001B[39m)\n\u001B[1;32m      3\u001B[0m vidyanchal_5\u001B[38;5;241m.\u001B[39mfillna(\u001B[38;5;241m0\u001B[39m, inplace\u001B[38;5;241m=\u001B[39m\u001B[38;5;28;01mTrue\u001B[39;00m)\n",
      "\u001B[0;31mNameError\u001B[0m: name 'pd' is not defined"
     ]
    }
   ],
   "execution_count": 36
  },
  {
   "metadata": {},
   "cell_type": "code",
   "source": [
    "import pandas as pd\n",
    "demand_data= pd.read_csv('demand_data.csv')\n",
    "demand_data"
   ],
   "id": "c226998443d69420",
   "outputs": [],
   "execution_count": null
  },
  {
   "metadata": {},
   "cell_type": "code",
   "source": "",
   "id": "2ef28fd049ff35a6",
   "outputs": [],
   "execution_count": null
  },
  {
   "metadata": {
    "ExecuteTime": {
     "end_time": "2024-12-19T04:23:55.445170Z",
     "start_time": "2024-12-19T04:23:55.443563Z"
    }
   },
   "cell_type": "code",
   "source": "",
   "id": "744a485b0cc0d22d",
   "outputs": [],
   "execution_count": 36
  }
 ],
 "metadata": {
  "kernelspec": {
   "display_name": "Python 3",
   "language": "python",
   "name": "python3"
  },
  "language_info": {
   "codemirror_mode": {
    "name": "ipython",
    "version": 2
   },
   "file_extension": ".py",
   "mimetype": "text/x-python",
   "name": "python",
   "nbconvert_exporter": "python",
   "pygments_lexer": "ipython2",
   "version": "2.7.6"
  }
 },
 "nbformat": 4,
 "nbformat_minor": 5
}
